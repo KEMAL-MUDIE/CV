{
  "cells": [
    {
      "cell_type": "markdown",
      "metadata": {
        "id": "view-in-github",
        "colab_type": "text"
      },
      "source": [
        "<a href=\"https://colab.research.google.com/github/KEMAL-MUDIE/Computer-Vision/blob/main/activation_fns_tlearning_cnn.ipynb\" target=\"_parent\"><img src=\"https://colab.research.google.com/assets/colab-badge.svg\" alt=\"Open In Colab\"/></a>"
      ]
    },
    {
      "cell_type": "markdown",
      "id": "7cb50451",
      "metadata": {
        "editable": true,
        "tags": [],
        "id": "7cb50451"
      },
      "source": [
        "# Lecture 4 - Backpropagation\n",
        "In this lecture:\n",
        "\n",
        "1) A review of the backpropagation process\n",
        "2) Numpy implementation of a dense neural\n",
        "3) Tensorflow and Keras basics"
      ]
    },
    {
      "cell_type": "markdown",
      "id": "72fdb56b",
      "metadata": {
        "editable": true,
        "tags": [],
        "id": "72fdb56b"
      },
      "source": [
        "## A brief review of backpropagation"
      ]
    },
    {
      "cell_type": "markdown",
      "id": "3829d173",
      "metadata": {
        "editable": true,
        "tags": [],
        "id": "3829d173"
      },
      "source": [
        "Each neuron is defined by a bias $b$ a set of inputs $X_i$ and an associated weight $w_i$ for each input."
      ]
    },
    {
      "cell_type": "markdown",
      "id": "b3c71970",
      "metadata": {
        "editable": true,
        "tags": [],
        "id": "b3c71970"
      },
      "source": [
        "![perceptron.jpg](attachment:perceptron.jpg)"
      ]
    },
    {
      "cell_type": "markdown",
      "id": "9a1aeeb1",
      "metadata": {
        "editable": true,
        "tags": [],
        "id": "9a1aeeb1"
      },
      "source": [
        "A single perceptron outputs  $ out = \\sigma(z)$ where $$z = \\Sigma{w_i x_i} + b$$\n",
        "\n",
        "We call $z$ the __weighted output__ of the neuron and $\\sigma$ the __activation function__. The activation function introduces non-linearity to the model, allowing the neuron to learn complex patterns and relationships in the data. In our example we use the sigmoid function : $\\sigma(x) =  \\frac{e^x}{1 + e^x}$"
      ]
    },
    {
      "cell_type": "markdown",
      "id": "3c2b415a-3d0d-4936-9f9a-12b8a2046e25",
      "metadata": {
        "editable": true,
        "tags": [],
        "id": "3c2b415a-3d0d-4936-9f9a-12b8a2046e25"
      },
      "source": [
        "*why we need non linearity in neural networks? Because information is full of non linear relationships, that we need to effectively model*"
      ]
    },
    {
      "cell_type": "markdown",
      "id": "f9549594",
      "metadata": {
        "editable": true,
        "tags": [],
        "id": "f9549594"
      },
      "source": [
        "![network.png](attachment:network.png)"
      ]
    },
    {
      "cell_type": "markdown",
      "id": "4468fe51",
      "metadata": {
        "editable": true,
        "tags": [],
        "id": "4468fe51"
      },
      "source": [
        "If we dispose the perceptrons in layers, we can easily __parallelize these computations using matrix operations__. We address the parallelized quantities by an apex specifying the layer. For example $z^l$ means all the weighted outputs of the layer $l$."
      ]
    },
    {
      "cell_type": "markdown",
      "id": "6fd35ef0",
      "metadata": {
        "editable": true,
        "tags": [],
        "id": "6fd35ef0"
      },
      "source": [
        "To assess the quality of our output we need to define a cost function. The cost function depends only on the current output. Intuitively, the loss function provides the feedback that we need to propagate trough the network to improve the overall performance. We call the cost function $C$ and in our example we use the MSE cost function. $MSE = \\frac{1}{n} \\sum_n (y_i - \\hat{y}_i)^2$"
      ]
    },
    {
      "cell_type": "markdown",
      "id": "a2d2f061",
      "metadata": {
        "editable": true,
        "tags": [],
        "id": "a2d2f061"
      },
      "source": [
        "To better understand the backpropagation algorithm we define some supporting quantities. We define the __activation__ $a^l$ for the layer l as:  \n",
        "$$a^l = \\sigma(z^l)$$"
      ]
    },
    {
      "cell_type": "markdown",
      "id": "cbe32863-fe5b-47b6-b983-9c5264b9c2d9",
      "metadata": {
        "editable": true,
        "tags": [],
        "id": "cbe32863-fe5b-47b6-b983-9c5264b9c2d9"
      },
      "source": [
        "We can thus define the __weighted output__ $z^l$ for a given layer as a function of weights, biases and activations of the previous layers :\n",
        "$$ z^l = w^l a^{l-1} + b^l$$\n",
        "Finally we introduce the __error__ $\\delta$, which for a specific neuron $j$ in layer $l$ is defined as:\n",
        "$$\\delta_j^{l} = \\frac{\\partial C}{\\partial z_j^{l}}$$\n",
        "which can be interpreted as the variation on the cost function caused by the weighted output of a neuron."
      ]
    },
    {
      "cell_type": "markdown",
      "id": "66ceb125",
      "metadata": {
        "editable": true,
        "tags": [],
        "id": "66ceb125"
      },
      "source": [
        "Now lets take a look at the actual backpropagation algorithm, the proof for the backpropagation equations are all obtainable via the chain rule.  "
      ]
    },
    {
      "cell_type": "markdown",
      "id": "6443114a",
      "metadata": {
        "editable": true,
        "tags": [],
        "id": "6443114a"
      },
      "source": [
        "![BACKPROP.png](attachment:BACKPROP.png)"
      ]
    },
    {
      "cell_type": "markdown",
      "id": "4a0d4617-09c6-468f-bd5d-91e0b038f2ec",
      "metadata": {
        "editable": true,
        "tags": [],
        "id": "4a0d4617-09c6-468f-bd5d-91e0b038f2ec"
      },
      "source": [
        "where $\\odot$ is the hadamard product, and $\\nabla_a$ is the derivative of the cost function with respect of the activation vector."
      ]
    },
    {
      "cell_type": "markdown",
      "id": "03474b73",
      "metadata": {
        "editable": true,
        "tags": [],
        "id": "03474b73"
      },
      "source": [
        "Do you remember the chain rule?\n",
        "\n",
        "$$ \\frac{dy}{dx} = \\frac{dy}{du} \\cdot \\frac{du}{dx} $$"
      ]
    },
    {
      "cell_type": "markdown",
      "id": "7e1284cf",
      "metadata": {
        "editable": true,
        "tags": [],
        "id": "7e1284cf"
      },
      "source": [
        "#### the algorithm can be summarized in :\n",
        "1) Given the input calculate all the weighted outputs and activations for all the layers\n",
        "2) Compute the error for the last layer\n",
        "3) Propagate backward by calculating the errors layer by layer\n",
        "4) Finally calculate the variation of the cost with respect of bias and weights\n",
        "5) Use an optimization algorithm such as gradient descent to update bias end weights"
      ]
    },
    {
      "cell_type": "markdown",
      "id": "ba7269a1",
      "metadata": {
        "editable": true,
        "tags": [],
        "id": "ba7269a1"
      },
      "source": [
        "A nice resource to better understand backpropagation and neural networks in general [Neural Networks and deep learning book](http://neuralnetworksanddeeplearning.com)"
      ]
    },
    {
      "cell_type": "markdown",
      "id": "e0e66ef4",
      "metadata": {
        "editable": true,
        "tags": [],
        "id": "e0e66ef4"
      },
      "source": [
        "## Implementing the algorithm, using only numpy\n",
        "Testing our neural network with a classic classification task on a variation of the Mnist dataset called KMnist.  "
      ]
    },
    {
      "cell_type": "code",
      "execution_count": 1,
      "id": "e0f11eef",
      "metadata": {
        "editable": true,
        "tags": [],
        "id": "e0f11eef"
      },
      "outputs": [],
      "source": [
        "import numpy as np\n",
        "import os\n",
        "import matplotlib.pyplot as plt\n",
        "import matplotlib.animation as animation\n",
        "from matplotlib.animation import FuncAnimation\n",
        "from IPython.display import HTML\n",
        "\n",
        "#import loader\n",
        "import keras\n",
        "import time\n",
        "import copy\n",
        "# Util for pwd\n",
        "import gzip\n",
        "cwd = os.getcwd()\n",
        "# Data needs to be normalized\n",
        "from sklearn.preprocessing import MinMaxScaler"
      ]
    },
    {
      "cell_type": "code",
      "execution_count": 2,
      "id": "576b1e81-03c7-4cfa-98f6-40960019517f",
      "metadata": {
        "editable": true,
        "tags": [],
        "colab": {
          "base_uri": "https://localhost:8080/"
        },
        "id": "576b1e81-03c7-4cfa-98f6-40960019517f",
        "outputId": "46351dfe-cfea-4dd6-f3d5-514cc5792992"
      },
      "outputs": [
        {
          "output_type": "stream",
          "name": "stdout",
          "text": [
            "Downloading data from https://storage.googleapis.com/tensorflow/tf-keras-datasets/mnist.npz\n",
            "11490434/11490434 [==============================] - 0s 0us/step\n"
          ]
        }
      ],
      "source": [
        "(x_train, y_train), (x_test, y_test) = keras.datasets.mnist.load_data()"
      ]
    },
    {
      "cell_type": "markdown",
      "id": "311786c3-1ba6-40d7-861a-b0f2b7b3e943",
      "metadata": {
        "editable": true,
        "tags": [],
        "id": "311786c3-1ba6-40d7-861a-b0f2b7b3e943"
      },
      "source": [
        "### numpy basics"
      ]
    },
    {
      "cell_type": "code",
      "execution_count": 3,
      "id": "2cd72274-5622-42dd-8979-256a7b6e4b8f",
      "metadata": {
        "editable": true,
        "tags": [],
        "colab": {
          "base_uri": "https://localhost:8080/"
        },
        "id": "2cd72274-5622-42dd-8979-256a7b6e4b8f",
        "outputId": "5810e20f-8f46-4406-ad80-411fe6a9997d"
      },
      "outputs": [
        {
          "output_type": "execute_result",
          "data": {
            "text/plain": [
              "(60000, 28, 28)"
            ]
          },
          "metadata": {},
          "execution_count": 3
        }
      ],
      "source": [
        "x_train.shape"
      ]
    },
    {
      "cell_type": "code",
      "execution_count": 4,
      "id": "f0572370-28c2-40b0-b7e4-2263610a6af0",
      "metadata": {
        "editable": true,
        "tags": [],
        "colab": {
          "base_uri": "https://localhost:8080/"
        },
        "id": "f0572370-28c2-40b0-b7e4-2263610a6af0",
        "outputId": "b74bc40f-5162-4a18-f8b3-b38ce114db80"
      },
      "outputs": [
        {
          "output_type": "execute_result",
          "data": {
            "text/plain": [
              "255"
            ]
          },
          "metadata": {},
          "execution_count": 4
        }
      ],
      "source": [
        "x_train.max()"
      ]
    },
    {
      "cell_type": "code",
      "execution_count": 5,
      "id": "b996db9b-6fbe-4769-8763-21cd27fe375e",
      "metadata": {
        "editable": true,
        "tags": [],
        "colab": {
          "base_uri": "https://localhost:8080/"
        },
        "id": "b996db9b-6fbe-4769-8763-21cd27fe375e",
        "outputId": "037240c7-0256-4cd5-b336-c7fbfc3247cc"
      },
      "outputs": [
        {
          "output_type": "execute_result",
          "data": {
            "text/plain": [
              "78.56748998339798"
            ]
          },
          "metadata": {},
          "execution_count": 5
        }
      ],
      "source": [
        "x_train.std()"
      ]
    },
    {
      "cell_type": "code",
      "execution_count": 6,
      "id": "ad1032b6-dcea-493d-8216-30cce0814a10",
      "metadata": {
        "editable": true,
        "tags": [],
        "id": "ad1032b6-dcea-493d-8216-30cce0814a10"
      },
      "outputs": [],
      "source": [
        "#Normalization\n",
        "x_train = x_train / 255\n",
        "x_test = x_test / 255"
      ]
    },
    {
      "cell_type": "code",
      "execution_count": 7,
      "id": "eba6eee3-0567-47c5-89cb-14d7124f1d1c",
      "metadata": {
        "editable": true,
        "tags": [],
        "colab": {
          "base_uri": "https://localhost:8080/",
          "height": 447
        },
        "id": "eba6eee3-0567-47c5-89cb-14d7124f1d1c",
        "outputId": "7b74b021-3768-4217-9cd1-bf9d2a83ec40"
      },
      "outputs": [
        {
          "output_type": "execute_result",
          "data": {
            "text/plain": [
              "<matplotlib.image.AxesImage at 0x7d9eb8979ba0>"
            ]
          },
          "metadata": {},
          "execution_count": 7
        },
        {
          "output_type": "display_data",
          "data": {
            "text/plain": [
              "<Figure size 640x480 with 1 Axes>"
            ],
            "image/png": "[encoded data removed]"
          },
          "metadata": {}
        }
      ],
      "source": [
        "plt.imshow(x_train[5])"
      ]
    },
    {
      "cell_type": "code",
      "execution_count": 8,
      "id": "e9a60359-a682-4833-8327-dac825fe4437",
      "metadata": {
        "id": "e9a60359-a682-4833-8327-dac825fe4437"
      },
      "outputs": [],
      "source": [
        "slicing = x_train[:,-14:,14:]"
      ]
    },
    {
      "cell_type": "code",
      "execution_count": 9,
      "id": "0187c5a1-7f64-42dd-a05b-cf48ad0dc868",
      "metadata": {
        "colab": {
          "base_uri": "https://localhost:8080/",
          "height": 447
        },
        "id": "0187c5a1-7f64-42dd-a05b-cf48ad0dc868",
        "outputId": "2a3dd29a-1725-4872-8cca-f2706dbbe124"
      },
      "outputs": [
        {
          "output_type": "execute_result",
          "data": {
            "text/plain": [
              "<matplotlib.image.AxesImage at 0x7d9eb6885d50>"
            ]
          },
          "metadata": {},
          "execution_count": 9
        },
        {
          "output_type": "display_data",
          "data": {
            "text/plain": [
              "<Figure size 640x480 with 1 Axes>"
            ],
            "image/png": "[encoded data removed]"
          },
          "metadata": {}
        }
      ],
      "source": [
        "plt.imshow(slicing[5])"
      ]
    },
    {
      "cell_type": "code",
      "execution_count": 10,
      "id": "05d8f9d7-eb41-4af8-bdea-5ad3cf8da51a",
      "metadata": {
        "id": "05d8f9d7-eb41-4af8-bdea-5ad3cf8da51a"
      },
      "outputs": [],
      "source": [
        "slicing = x_train[:,::-1,::-1]"
      ]
    },
    {
      "cell_type": "code",
      "execution_count": 11,
      "id": "6a31209e-f093-4879-9633-c65201d97818",
      "metadata": {
        "colab": {
          "base_uri": "https://localhost:8080/",
          "height": 447
        },
        "id": "6a31209e-f093-4879-9633-c65201d97818",
        "outputId": "6602e597-4f88-4432-92cb-e6b1df0a88d2"
      },
      "outputs": [
        {
          "output_type": "execute_result",
          "data": {
            "text/plain": [
              "<matplotlib.image.AxesImage at 0x7d9eb674c160>"
            ]
          },
          "metadata": {},
          "execution_count": 11
        },
        {
          "output_type": "display_data",
          "data": {
            "text/plain": [
              "<Figure size 640x480 with 1 Axes>"
            ],
            "image/png": "[encoded data removed]"
          },
          "metadata": {}
        }
      ],
      "source": [
        "plt.imshow(slicing[5])"
      ]
    },
    {
      "cell_type": "code",
      "execution_count": 12,
      "id": "3876c0a8-e6fb-4e61-aacd-0b2141fceb5d",
      "metadata": {
        "id": "3876c0a8-e6fb-4e61-aacd-0b2141fceb5d"
      },
      "outputs": [],
      "source": [
        "def func(x):\n",
        "    if(x==0):\n",
        "        return np.random.rand()\n",
        "    else:\n",
        "        return x"
      ]
    },
    {
      "cell_type": "code",
      "execution_count": 13,
      "id": "ef38eaf6-54da-4d76-a622-f23c48a7407d",
      "metadata": {
        "id": "ef38eaf6-54da-4d76-a622-f23c48a7407d"
      },
      "outputs": [],
      "source": [
        "vfunc = np.vectorize(func)"
      ]
    },
    {
      "cell_type": "code",
      "execution_count": 14,
      "id": "b452c23d-4005-46dc-a222-6b34fbb8e2cb",
      "metadata": {
        "colab": {
          "base_uri": "https://localhost:8080/",
          "height": 447
        },
        "id": "b452c23d-4005-46dc-a222-6b34fbb8e2cb",
        "outputId": "a3df0e9f-d7b3-4d44-872a-3cd38ef79700"
      },
      "outputs": [
        {
          "output_type": "execute_result",
          "data": {
            "text/plain": [
              "<matplotlib.image.AxesImage at 0x7d9eb67bd600>"
            ]
          },
          "metadata": {},
          "execution_count": 14
        },
        {
          "output_type": "display_data",
          "data": {
            "text/plain": [
              "<Figure size 640x480 with 1 Axes>"
            ],
            "image/png": "[encoded data removed]"
          },
          "metadata": {}
        }
      ],
      "source": [
        "test = vfunc(x_train[0:10])\n",
        "plt.imshow(test[0])"
      ]
    },
    {
      "cell_type": "markdown",
      "id": "b0e303c4-40a2-4e1d-84b7-aeda59b9e57f",
      "metadata": {
        "id": "b0e303c4-40a2-4e1d-84b7-aeda59b9e57f"
      },
      "source": [
        "### Going back at neural networks..."
      ]
    },
    {
      "cell_type": "code",
      "execution_count": 15,
      "id": "fa8a7781",
      "metadata": {
        "id": "fa8a7781"
      },
      "outputs": [],
      "source": [
        "#Given a dimension, create a random vector of biases\n",
        "def set_biases(bias_matrix_dim,rnd):\n",
        "    tmp = []\n",
        "    for i in bias_matrix_dim:\n",
        "        tmp.append(rnd.randn(i, 1))\n",
        "    return tmp\n",
        "\n",
        "def prepare_weightMatrix_dim(sizes):\n",
        "    tmp = []\n",
        "    for i in range(len(sizes)-1):\n",
        "        tmp.append([sizes[i],sizes[i+1]])\n",
        "    return tmp\n",
        "\n",
        "#Given a list of tuples, create random vector of matrices\n",
        "def set_weights(weight_matrix_dim,rnd):\n",
        "    tmp = []\n",
        "    for i in weight_matrix_dim:\n",
        "        tmp.append(rnd.randn(i[1], i[0]))\n",
        "    return tmp\n",
        "\n",
        "\n",
        "def split_data(training_data,mini_batch_size):\n",
        "    tmp = []\n",
        "    for i in range(0,len(training_data),mini_batch_size):\n",
        "        tmp.append(training_data[i:i+mini_batch_size])\n",
        "    return tmp\n",
        "\n",
        "#Produce the one hot encoding for class labels\n",
        "def unit_vector(j):\n",
        "    e = np.zeros((10, 1))\n",
        "    e[j] = 1.0\n",
        "    return e"
      ]
    },
    {
      "cell_type": "code",
      "execution_count": 16,
      "id": "0ab45fd3",
      "metadata": {
        "colab": {
          "base_uri": "https://localhost:8080/"
        },
        "id": "0ab45fd3",
        "outputId": "91f1f264-daec-45ab-c616-a5ad4306b371"
      },
      "outputs": [
        {
          "output_type": "execute_result",
          "data": {
            "text/plain": [
              "(10, 1)"
            ]
          },
          "metadata": {},
          "execution_count": 16
        }
      ],
      "source": [
        "# bias examples\n",
        "set_biases([28,28,10],np.random)[2].shape"
      ]
    },
    {
      "cell_type": "code",
      "execution_count": 17,
      "id": "ad8e99c6",
      "metadata": {
        "colab": {
          "base_uri": "https://localhost:8080/"
        },
        "id": "ad8e99c6",
        "outputId": "b0d1a707-7e14-4151-e427-dc16e4c79949"
      },
      "outputs": [
        {
          "output_type": "execute_result",
          "data": {
            "text/plain": [
              "(10, 28)"
            ]
          },
          "metadata": {},
          "execution_count": 17
        }
      ],
      "source": [
        "# set weights examples\n",
        "set_weights(prepare_weightMatrix_dim([784,28,28,10]),np.random)[2].shape"
      ]
    },
    {
      "cell_type": "code",
      "execution_count": 18,
      "id": "ce98d376",
      "metadata": {
        "colab": {
          "base_uri": "https://localhost:8080/"
        },
        "id": "ce98d376",
        "outputId": "e78998d9-b9f6-4efd-ad03-28ff20adca31"
      },
      "outputs": [
        {
          "output_type": "execute_result",
          "data": {
            "text/plain": [
              "array([[0.],\n",
              "       [0.],\n",
              "       [1.],\n",
              "       [0.],\n",
              "       [0.],\n",
              "       [0.],\n",
              "       [0.],\n",
              "       [0.],\n",
              "       [0.],\n",
              "       [0.]])"
            ]
          },
          "metadata": {},
          "execution_count": 18
        }
      ],
      "source": [
        "unit_vector(2)"
      ]
    },
    {
      "cell_type": "markdown",
      "id": "89d27432",
      "metadata": {
        "id": "89d27432"
      },
      "source": [
        "Writing the backpropagation algorithm"
      ]
    },
    {
      "cell_type": "code",
      "execution_count": 19,
      "id": "465203fd",
      "metadata": {
        "id": "465203fd"
      },
      "outputs": [],
      "source": [
        "def backprop(net_input, y,biases,weights,cross_entropy):\n",
        "    a = [] # list to store all the activations, layer by layer\n",
        "    zs = [] # list to store all the z vectors, layer by layer\n",
        "\n",
        "    # Two empty vectors carrying the result\n",
        "    deriv_bias = [np.zeros_like(b) for b in biases]\n",
        "    deriv_weight = [np.zeros_like(w) for w in weights]\n",
        "\n",
        "    a.append(net_input)\n",
        "    # FORWARD RUN\n",
        "    # Iteration trough the layers, everything computed in vector form\n",
        "    for b, w in zip(biases, weights):\n",
        "        #compute each intermediate value z\n",
        "        z = np.dot(w, net_input)+b\n",
        "        #save it for later\n",
        "        zs.append(z)\n",
        "        #calculate and store each activation value\n",
        "        net_input = sigmoid(z)\n",
        "        a.append(net_input)\n",
        "\n",
        "    # backward run trough the network\n",
        "    delta = quadcost_derivative(a[-1], y,zs[-1])\n",
        "\n",
        "    deriv_bias[-1] = delta\n",
        "    deriv_weight[-1] = np.dot(delta, a[-2].transpose())\n",
        "\n",
        "    #BACKWARD RUN\n",
        "    for l in range(-2, -len(sizes),-1):\n",
        "        z = zs[l]\n",
        "        sigma_prime = sigmoid_deriv(z)\n",
        "        # calculate current delta\n",
        "        # Hadamard product *\n",
        "        delta = np.dot(weights[l+1].transpose(), delta) * sigma_prime\n",
        "        # calculate each value for bias and weight, as in (BP3/4)\n",
        "        deriv_bias[l] = delta\n",
        "        deriv_weight[l] = np.dot(delta, a[l-1].transpose())\n",
        "    #return the two vectors\n",
        "    return (deriv_bias, deriv_weight)\n",
        "\n",
        "def quadcost_derivative(output_activations, y,z):\n",
        "        return ((output_activations-y) * sigmoid_deriv(z))\n",
        "\n",
        "def evaluation(test_data,biases,weights):\n",
        "        tmp = []\n",
        "        results = []\n",
        "        # we get the output for every test input\n",
        "        for x,y in test_data:\n",
        "            results.append((net_output(x,biases,weights),y))\n",
        "        for i in results:\n",
        "            # Argmax for finding the most likely result\n",
        "            tmp.append((np.argmax(i[0]),i[1]))\n",
        "        correct_classifications = 0\n",
        "        for (x,y) in tmp:\n",
        "            if(int(x)==int(y)):\n",
        "                correct_classifications = correct_classifications + 1\n",
        "        return correct_classifications\n",
        "\n",
        "def net_output(net_input,biases,weights):\n",
        "    #Forward pass in the network\n",
        "    # get current output given input (evaluation purposes)\n",
        "    for i in range(len(weights)):\n",
        "        current_z = np.dot(weights[i],net_input) + biases[i]\n",
        "        net_input = sigmoid(current_z)\n",
        "    return net_input\n",
        "\n",
        "def sigmoid(z):\n",
        "    try:\n",
        "        return 1.0/(1.0+np.exp(-z))\n",
        "    except:\n",
        "        # Overflow check\n",
        "        print(z)\n",
        "\n",
        "def sigmoid_deriv(z):\n",
        "    return sigmoid(z)*(1-sigmoid(z))\n"
      ]
    },
    {
      "cell_type": "markdown",
      "id": "ea4ec67b",
      "metadata": {
        "id": "ea4ec67b"
      },
      "source": [
        "Now we define the main parameters of our network"
      ]
    },
    {
      "cell_type": "markdown",
      "id": "c7f799ba",
      "metadata": {
        "id": "c7f799ba"
      },
      "source": [
        "Loading the data"
      ]
    },
    {
      "cell_type": "code",
      "execution_count": 20,
      "id": "a0bffd88",
      "metadata": {
        "id": "a0bffd88"
      },
      "outputs": [],
      "source": [
        "def prepare_data():\n",
        "    # # Reshape so that the input is a single array of dimension 784\n",
        "    #(rather than 28x28)\n",
        "    test_imgs = np.reshape(x_test,[10000,784])\n",
        "    train_imgs = np.reshape(x_train,[60000,784])\n",
        "\n",
        "    # Transform the data in a zip iterable object\n",
        "    training_inputs = [np.reshape(x,[784,1]) for x in train_imgs]\n",
        "    training_results = [unit_vector(y) for y in y_train]\n",
        "    training_data = zip(training_inputs, training_results)\n",
        "    test_inputs = [np.reshape(x, [784,1]) for x in test_imgs]\n",
        "    test_data = zip(test_inputs, y_test)\n",
        "\n",
        "    return (list(training_data), list(test_data))"
      ]
    },
    {
      "cell_type": "code",
      "execution_count": 21,
      "id": "69815771",
      "metadata": {
        "id": "69815771"
      },
      "outputs": [],
      "source": [
        "training_data, test_data = prepare_data()"
      ]
    },
    {
      "cell_type": "code",
      "execution_count": 22,
      "id": "44965fac-9df9-48b2-a2a3-1dd30135d73e",
      "metadata": {
        "colab": {
          "base_uri": "https://localhost:8080/"
        },
        "id": "44965fac-9df9-48b2-a2a3-1dd30135d73e",
        "outputId": "5b4f905f-16e8-48b1-ef9b-1550c26bcac1"
      },
      "outputs": [
        {
          "output_type": "execute_result",
          "data": {
            "text/plain": [
              "(784, 1)"
            ]
          },
          "metadata": {},
          "execution_count": 22
        }
      ],
      "source": [
        "training_data[0][0].shape"
      ]
    },
    {
      "cell_type": "code",
      "execution_count": 23,
      "id": "f0144690",
      "metadata": {
        "colab": {
          "base_uri": "https://localhost:8080/"
        },
        "id": "f0144690",
        "outputId": "0a92b31f-5b5c-4104-b09e-83b6818a38e9"
      },
      "outputs": [
        {
          "output_type": "execute_result",
          "data": {
            "text/plain": [
              "array([[0.],\n",
              "       [0.],\n",
              "       [0.],\n",
              "       [0.],\n",
              "       [0.],\n",
              "       [1.],\n",
              "       [0.],\n",
              "       [0.],\n",
              "       [0.],\n",
              "       [0.]])"
            ]
          },
          "metadata": {},
          "execution_count": 23
        }
      ],
      "source": [
        "training_data[0][1]"
      ]
    },
    {
      "cell_type": "markdown",
      "id": "0e9d8ce4",
      "metadata": {
        "id": "0e9d8ce4"
      },
      "source": [
        "We define the main training loop"
      ]
    },
    {
      "cell_type": "code",
      "execution_count": 24,
      "id": "a8bf1c65",
      "metadata": {
        "id": "a8bf1c65"
      },
      "outputs": [],
      "source": [
        "def train(training_data, epochs, mini_batch_size, eta,test_data,weights,biases,rnd,plot=True,L2=True,cross_entropy=False):\n",
        "    # Start time, timestamps for tuning purposes\n",
        "    start = time.time()\n",
        "    train_evaluation = []\n",
        "    timestamps =  []\n",
        "    #Setup of logs for visualization purposes\n",
        "    biases_log = []\n",
        "    weights_log = []\n",
        "\n",
        "    n_test = len(test_data)\n",
        "    # cycle trough the requested number of epochs\n",
        "    for i in range(epochs):\n",
        "        # Shuffle the training data, so to achieve random batches\n",
        "        rnd.shuffle(training_data)\n",
        "        # split the data in batches\n",
        "        mini_batches = split_data(training_data, mini_batch_size)\n",
        "        print(\"mini batches number : \", len(mini_batches))\n",
        "\n",
        "        # SGD\n",
        "        # Update paramenters for each mini batch\n",
        "        for mini_batch in mini_batches:\n",
        "\n",
        "                # Prepare the lists for the partial derivatives of weights and biases\n",
        "                partial_deriv_biases = [np.zeros_like(b) for b in biases]\n",
        "                partial_deriv_weights = [np.zeros_like(w) for w in weights]\n",
        "\n",
        "                # for each training example run trough the network\n",
        "                for x, y in mini_batch:\n",
        "                    # we obtain from the network the two vectors\n",
        "                    # containing the partial derivatives with respect to weight and bias\n",
        "                    deriv_bias, deriv_weight = backprop(x, y,biases,weights,cross_entropy)\n",
        "                    #sum the values\n",
        "                    for l in range(len(partial_deriv_biases)):\n",
        "                        partial_deriv_biases[l] = partial_deriv_biases[l] + deriv_bias[l]\n",
        "                    for l in range(len(partial_deriv_weights)):\n",
        "                        partial_deriv_weights[l] = partial_deriv_weights[l] + deriv_weight[l]\n",
        "\n",
        "                # finally compute the updated values of weights and biases\n",
        "                # Optional L2 regularization\n",
        "                for l in range(len(weights)):\n",
        "                        weights[l] = weights[l] - (eta/len(mini_batch))*partial_deriv_weights[l]\n",
        "\n",
        "                for l in range(len(biases)):\n",
        "                        biases[l] = biases[l] - (eta/len(mini_batch))*partial_deriv_biases[l]\n",
        "\n",
        "\n",
        "        # time evaluation\n",
        "        timestamps.append(time.time() - start)\n",
        "\n",
        "        #Get current net performance\n",
        "        v = evaluation(test_data,biases,weights)\n",
        "        print(\"{0} --> correct classifications: ({1} / {2}) \".format(\n",
        "            i, v, n_test))\n",
        "        # update the train evaluation list\n",
        "        train_evaluation.append(v)\n",
        "\n",
        "\n",
        "        # Following commands for plotting\n",
        "        if(plot==True):\n",
        "            level = 1 # choose which level of the network to plot\n",
        "            biases_log.append(biases[level])\n",
        "            weights_log.append(weights[level])\n",
        "\n",
        "    return train_evaluation, timestamps, biases_log, weights_log\n"
      ]
    },
    {
      "cell_type": "markdown",
      "id": "7d2f631f",
      "metadata": {
        "id": "7d2f631f"
      },
      "source": [
        "Training the network"
      ]
    },
    {
      "cell_type": "code",
      "execution_count": 25,
      "id": "4ddb1d59",
      "metadata": {
        "id": "4ddb1d59"
      },
      "outputs": [],
      "source": [
        "#Set network architecture\n",
        "sizes = [784,28,28,10]\n",
        "#Set if unsaturated weights\n",
        "epochs = [3]\n",
        "mini_batches_len = [64]\n",
        "eta = [0.6]"
      ]
    },
    {
      "cell_type": "code",
      "execution_count": 26,
      "id": "3689cd01",
      "metadata": {
        "colab": {
          "base_uri": "https://localhost:8080/"
        },
        "id": "3689cd01",
        "outputId": "2471ee75-c00f-4d2f-a980-d27cf50ad128"
      },
      "outputs": [
        {
          "output_type": "stream",
          "name": "stdout",
          "text": [
            "bias matrix dim [28, 28, 10]\n",
            "weight matrix dim [[784, 28], [28, 28], [28, 10]]\n",
            "mini batches number :  938\n",
            "0 --> correct classifications: (6393 / 10000) \n",
            "mini batches number :  938\n",
            "1 --> correct classifications: (7531 / 10000) \n",
            "mini batches number :  938\n",
            "2 --> correct classifications: (8073 / 10000) \n"
          ]
        }
      ],
      "source": [
        "num_layers = len(sizes)\n",
        "# Prepare biases for each level except the first\n",
        "bias_matrix_dim = sizes[1:]\n",
        "# Prepare weights\n",
        "weight_matrix_dim = prepare_weightMatrix_dim(sizes)\n",
        "\n",
        "print(\"bias matrix dim\", bias_matrix_dim)\n",
        "print(\"weight matrix dim\",weight_matrix_dim)\n",
        "\n",
        "rnd = np.random.RandomState(121)\n",
        "\n",
        "biases = set_biases(bias_matrix_dim,copy.deepcopy(rnd))\n",
        "weights = set_weights(weight_matrix_dim,copy.deepcopy(rnd))\n",
        "\n",
        "train_evaluation = []\n",
        "timestamps = []\n",
        "train_evaluation2 = []\n",
        "timestamps2 = []\n",
        "\n",
        "# Load the data, as zip iterables\n",
        "training_data, test_data = prepare_data()\n",
        "\n",
        "# Set error so to be reactive to overflow\n",
        "#np.seterr(all='print')\n",
        "\n",
        "# Call the train method\n",
        "train_evaluation,timestamps, biases_log, weights_log = train(copy.deepcopy(training_data), epochs[0], mini_batches_len[0], eta[0],\n",
        "                                    copy.deepcopy(test_data),copy.deepcopy(weights),copy.deepcopy(biases),copy.deepcopy(rnd))\n"
      ]
    },
    {
      "cell_type": "markdown",
      "id": "956c00f4",
      "metadata": {
        "id": "956c00f4"
      },
      "source": [
        "Let's visualize the changing of weights thorough the epochs!"
      ]
    },
    {
      "cell_type": "code",
      "execution_count": 27,
      "id": "6ca95bd6",
      "metadata": {
        "colab": {
          "base_uri": "https://localhost:8080/",
          "height": 576
        },
        "id": "6ca95bd6",
        "outputId": "628a6ca4-3a72-4143-dff0-c794bbccc832"
      },
      "outputs": [
        {
          "output_type": "execute_result",
          "data": {
            "text/plain": [
              "<IPython.core.display.HTML object>"
            ],
            "text/html": [
              "\n",
              "<link rel=\"stylesheet\"\n",
              "href=\"https://maxcdn.bootstrapcdn.com/font-awesome/4.4.0/css/font-awesome.min.css\">\n",
              "<script language=\"javascript\">\n",
              "  function isInternetExplorer() {\n",
              "    ua = navigator.userAgent;\n",
              "    /* MSIE used to detect old browsers and Trident used to newer ones*/\n",
              "    return ua.indexOf(\"MSIE \") > -1 || ua.indexOf(\"Trident/\") > -1;\n",
              "  }\n",
              "\n",
              "  /* Define the Animation class */\n",
              "  function Animation(frames, img_id, slider_id, interval, loop_select_id){\n",
              "    this.img_id = img_id;\n",
              "    this.slider_id = slider_id;\n",
              "    this.loop_select_id = loop_select_id;\n",
              "    this.interval = interval;\n",
              "    this.current_frame = 0;\n",
              "    this.direction = 0;\n",
              "    this.timer = null;\n",
              "    this.frames = new Array(frames.length);\n",
              "\n",
              "    for (var i=0; i<frames.length; i++)\n",
              "    {\n",
              "     this.frames[i] = new Image();\n",
              "     this.frames[i].src = frames[i];\n",
              "    }\n",
              "    var slider = document.getElementById(this.slider_id);\n",
              "    slider.max = this.frames.length - 1;\n",
              "    if (isInternetExplorer()) {\n",
              "        // switch from oninput to onchange because IE <= 11 does not conform\n",
              "        // with W3C specification. It ignores oninput and onchange behaves\n",
              "        // like oninput. In contrast, Microsoft Edge behaves correctly.\n",
              "        slider.setAttribute('onchange', slider.getAttribute('oninput'));\n",
              "        slider.setAttribute('oninput', null);\n",
              "    }\n",
              "    this.set_frame(this.current_frame);\n",
              "  }\n",
              "\n",
              "  Animation.prototype.get_loop_state = function(){\n",
              "    var button_group = document[this.loop_select_id].state;\n",
              "    for (var i = 0; i < button_group.length; i++) {\n",
              "        var button = button_group[i];\n",
              "        if (button.checked) {\n",
              "            return button.value;\n",
              "        }\n",
              "    }\n",
              "    return undefined;\n",
              "  }\n",
              "\n",
              "  Animation.prototype.set_frame = function(frame){\n",
              "    this.current_frame = frame;\n",
              "    document.getElementById(this.img_id).src =\n",
              "            this.frames[this.current_frame].src;\n",
              "    document.getElementById(this.slider_id).value = this.current_frame;\n",
              "  }\n",
              "\n",
              "  Animation.prototype.next_frame = function()\n",
              "  {\n",
              "    this.set_frame(Math.min(this.frames.length - 1, this.current_frame + 1));\n",
              "  }\n",
              "\n",
              "  Animation.prototype.previous_frame = function()\n",
              "  {\n",
              "    this.set_frame(Math.max(0, this.current_frame - 1));\n",
              "  }\n",
              "\n",
              "  Animation.prototype.first_frame = function()\n",
              "  {\n",
              "    this.set_frame(0);\n",
              "  }\n",
              "\n",
              "  Animation.prototype.last_frame = function()\n",
              "  {\n",
              "    this.set_frame(this.frames.length - 1);\n",
              "  }\n",
              "\n",
              "  Animation.prototype.slower = function()\n",
              "  {\n",
              "    this.interval /= 0.7;\n",
              "    if(this.direction > 0){this.play_animation();}\n",
              "    else if(this.direction < 0){this.reverse_animation();}\n",
              "  }\n",
              "\n",
              "  Animation.prototype.faster = function()\n",
              "  {\n",
              "    this.interval *= 0.7;\n",
              "    if(this.direction > 0){this.play_animation();}\n",
              "    else if(this.direction < 0){this.reverse_animation();}\n",
              "  }\n",
              "\n",
              "  Animation.prototype.anim_step_forward = function()\n",
              "  {\n",
              "    this.current_frame += 1;\n",
              "    if(this.current_frame < this.frames.length){\n",
              "      this.set_frame(this.current_frame);\n",
              "    }else{\n",
              "      var loop_state = this.get_loop_state();\n",
              "      if(loop_state == \"loop\"){\n",
              "        this.first_frame();\n",
              "      }else if(loop_state == \"reflect\"){\n",
              "        this.last_frame();\n",
              "        this.reverse_animation();\n",
              "      }else{\n",
              "        this.pause_animation();\n",
              "        this.last_frame();\n",
              "      }\n",
              "    }\n",
              "  }\n",
              "\n",
              "  Animation.prototype.anim_step_reverse = function()\n",
              "  {\n",
              "    this.current_frame -= 1;\n",
              "    if(this.current_frame >= 0){\n",
              "      this.set_frame(this.current_frame);\n",
              "    }else{\n",
              "      var loop_state = this.get_loop_state();\n",
              "      if(loop_state == \"loop\"){\n",
              "        this.last_frame();\n",
              "      }else if(loop_state == \"reflect\"){\n",
              "        this.first_frame();\n",
              "        this.play_animation();\n",
              "      }else{\n",
              "        this.pause_animation();\n",
              "        this.first_frame();\n",
              "      }\n",
              "    }\n",
              "  }\n",
              "\n",
              "  Animation.prototype.pause_animation = function()\n",
              "  {\n",
              "    this.direction = 0;\n",
              "    if (this.timer){\n",
              "      clearInterval(this.timer);\n",
              "      this.timer = null;\n",
              "    }\n",
              "  }\n",
              "\n",
              "  Animation.prototype.play_animation = function()\n",
              "  {\n",
              "    this.pause_animation();\n",
              "    this.direction = 1;\n",
              "    var t = this;\n",
              "    if (!this.timer) this.timer = setInterval(function() {\n",
              "        t.anim_step_forward();\n",
              "    }, this.interval);\n",
              "  }\n",
              "\n",
              "  Animation.prototype.reverse_animation = function()\n",
              "  {\n",
              "    this.pause_animation();\n",
              "    this.direction = -1;\n",
              "    var t = this;\n",
              "    if (!this.timer) this.timer = setInterval(function() {\n",
              "        t.anim_step_reverse();\n",
              "    }, this.interval);\n",
              "  }\n",
              "</script>\n",
              "\n",
              "<style>\n",
              ".animation {\n",
              "    display: inline-block;\n",
              "    text-align: center;\n",
              "}\n",
              "input[type=range].anim-slider {\n",
              "    width: 374px;\n",
              "    margin-left: auto;\n",
              "    margin-right: auto;\n",
              "}\n",
              ".anim-buttons {\n",
              "    margin: 8px 0px;\n",
              "}\n",
              ".anim-buttons button {\n",
              "    padding: 0;\n",
              "    width: 36px;\n",
              "}\n",
              ".anim-state label {\n",
              "    margin-right: 8px;\n",
              "}\n",
              ".anim-state input {\n",
              "    margin: 0;\n",
              "    vertical-align: middle;\n",
              "}\n",
              "</style>\n",
              "\n",
              "<div class=\"animation\">\n",
              "  <img id=\"_anim_imge9f9cdfc953448b4984b85e3783c06ea\">\n",
              "  <div class=\"anim-controls\">\n",
              "    <input id=\"_anim_slidere9f9cdfc953448b4984b85e3783c06ea\" type=\"range\" class=\"anim-slider\"\n",
              "           name=\"points\" min=\"0\" max=\"1\" step=\"1\" value=\"0\"\n",
              "           oninput=\"anime9f9cdfc953448b4984b85e3783c06ea.set_frame(parseInt(this.value));\">\n",
              "    <div class=\"anim-buttons\">\n",
              "      <button title=\"Decrease speed\" aria-label=\"Decrease speed\" onclick=\"anime9f9cdfc953448b4984b85e3783c06ea.slower()\">\n",
              "          <i class=\"fa fa-minus\"></i></button>\n",
              "      <button title=\"First frame\" aria-label=\"First frame\" onclick=\"anime9f9cdfc953448b4984b85e3783c06ea.first_frame()\">\n",
              "        <i class=\"fa fa-fast-backward\"></i></button>\n",
              "      <button title=\"Previous frame\" aria-label=\"Previous frame\" onclick=\"anime9f9cdfc953448b4984b85e3783c06ea.previous_frame()\">\n",
              "          <i class=\"fa fa-step-backward\"></i></button>\n",
              "      <button title=\"Play backwards\" aria-label=\"Play backwards\" onclick=\"anime9f9cdfc953448b4984b85e3783c06ea.reverse_animation()\">\n",
              "          <i class=\"fa fa-play fa-flip-horizontal\"></i></button>\n",
              "      <button title=\"Pause\" aria-label=\"Pause\" onclick=\"anime9f9cdfc953448b4984b85e3783c06ea.pause_animation()\">\n",
              "          <i class=\"fa fa-pause\"></i></button>\n",
              "      <button title=\"Play\" aria-label=\"Play\" onclick=\"anime9f9cdfc953448b4984b85e3783c06ea.play_animation()\">\n",
              "          <i class=\"fa fa-play\"></i></button>\n",
              "      <button title=\"Next frame\" aria-label=\"Next frame\" onclick=\"anime9f9cdfc953448b4984b85e3783c06ea.next_frame()\">\n",
              "          <i class=\"fa fa-step-forward\"></i></button>\n",
              "      <button title=\"Last frame\" aria-label=\"Last frame\" onclick=\"anime9f9cdfc953448b4984b85e3783c06ea.last_frame()\">\n",
              "          <i class=\"fa fa-fast-forward\"></i></button>\n",
              "      <button title=\"Increase speed\" aria-label=\"Increase speed\" onclick=\"anime9f9cdfc953448b4984b85e3783c06ea.faster()\">\n",
              "          <i class=\"fa fa-plus\"></i></button>\n",
              "    </div>\n",
              "    <form title=\"Repetition mode\" aria-label=\"Repetition mode\" action=\"#n\" name=\"_anim_loop_selecte9f9cdfc953448b4984b85e3783c06ea\"\n",
              "          class=\"anim-state\">\n",
              "      <input type=\"radio\" name=\"state\" value=\"once\" id=\"_anim_radio1_e9f9cdfc953448b4984b85e3783c06ea\"\n",
              "             >\n",
              "      <label for=\"_anim_radio1_e9f9cdfc953448b4984b85e3783c06ea\">Once</label>\n",
              "      <input type=\"radio\" name=\"state\" value=\"loop\" id=\"_anim_radio2_e9f9cdfc953448b4984b85e3783c06ea\"\n",
              "             checked>\n",
              "      <label for=\"_anim_radio2_e9f9cdfc953448b4984b85e3783c06ea\">Loop</label>\n",
              "      <input type=\"radio\" name=\"state\" value=\"reflect\" id=\"_anim_radio3_e9f9cdfc953448b4984b85e3783c06ea\"\n",
              "             >\n",
              "      <label for=\"_anim_radio3_e9f9cdfc953448b4984b85e3783c06ea\">Reflect</label>\n",
              "    </form>\n",
              "  </div>\n",
              "</div>\n",
              "\n",
              "\n",
              "<script language=\"javascript\">\n",
              "  /* Instantiate the Animation class. */\n",
              "  /* The IDs given should match those used in the template above. */\n",
              "  (function() {\n",
              "    var img_id = \"_anim_imge9f9cdfc953448b4984b85e3783c06ea\";\n",
              "    var slider_id = \"_anim_slidere9f9cdfc953448b4984b85e3783c06ea\";\n",
              "    var loop_select_id = \"_anim_loop_selecte9f9cdfc953448b4984b85e3783c06ea\";\n",
              "    var frames = new Array(3);\n",
              "    \n",
              "  frames[0] = \"data:image/png;base64,iVBORw0KGgoAAAANSUhEUgAAAoAAAAHgCAYAAAA10dzkAAAAOXRFWHRTb2Z0d2FyZQBNYXRwbG90\\\n",
              "bGliIHZlcnNpb24zLjcuMSwgaHR0cHM6Ly9tYXRwbG90bGliLm9yZy/bCgiHAAAACXBIWXMAAA9h\\\n",
              "AAAPYQGoP6dpAAAu50lEQVR4nO3de3TU9Z3/8ddkkkxukwlJyE0CBBBQubRFiBRBLVkudq0ov3rd\\\n",
              "XfDnarXBU6TWLl0V2drN1nata5fqnl5g/R3xtiu4WktVlFAr0IpSipcIESVcEiSSGXJPZr6/P1hz\\\n",
              "TEXNewqZJp/n45w5BybfF593vvnO8JpvJvn6PM/zBAAAAGckJXoAAAAA9C8KIAAAgGMogAAAAI6h\\\n",
              "AAIAADiGAggAAOAYCiAAAIBjKIAAAACOoQACAAA4hgIIAADgGAogAACAYyiAAAAAjqEAAgAAOIYC\\\n",
              "CAAA4BgKIAAAgGMogAAAAI6hAAIAADiGAggAAOAYCiAAAIBjKIAAAACOoQACAAA4hgIIAADgGAog\\\n",
              "AACAYyiAAAAAjqEAAgAAOIYCCAAA4BgKIAAAgGMogAAAAI6hAAIAADiGAggAAOAYCiAAAIBjKIAA\\\n",
              "AACOoQACAAA4hgIIAADgGAogAACAYyiAAAAAjqEAAgAAOIYCCAAA4BgKIAAAgGMogAAAAI6hAAIA\\\n",
              "ADiGAggAAOAYCiAAAIBjKIAAAACOoQACAAA4hgIIAADgGAogAACAYyiAAAAAjqEAAgAAOIYCCAAA\\\n",
              "4BgKIAAAgGMogAAAAI6hAAIAADiGAggAAOAYCiAAAIBjKIAAAACOoQACAAA4JjnRA2BgisViOnjw\\\n",
              "oILBoHw+X6LHAQAYeZ6nY8eOqaSkRElJnA9yDQUQcTl48KBKS0sTPQYA4M9UV1enYcOGJXoM9DMK\\\n",
              "IOISDAYlSSX3/IOS0gN9D7b7zWv5W+wZSbpxzrPmzDPfmGnOvPfldHMm74+eOXNkdoc5I0lDhrSa\\\n",
              "M8mPDDFnGi7oNmfyCo+ZM5KUm95izry3xf6CJWm8fb5YTdCc6cyPmjOSNGSn/bHRHMfrtq4h9vlS\\\n",
              "P7DPNnb6u+aMJL2xY4Q588hFq8yZRTsWmTPR7vjOrHV12P97zs21PS6irR3atejfe57P4RYKoONW\\\n",
              "rVqlH/zgB6qvr9fkyZP14x//WNOmTfvM3Iff9k1KDygpPa3vC/rs/ykkReMrgGlZ9sM7Odnwufyv\\\n",
              "pDR7xp9qL4BJGfF9q92fYf/POzkljv2Qbi+A/oxOc0aSkjPiWCuOr1NSRpc5o3jWSY+vAPpT43g8\\\n",
              "2ceLa76kNPtsKZmp5szxteyfVFbQXsz8GYYXu//L647v+Sspyf785Y/jcSGJt/E4im/6O+zRRx/V\\\n",
              "smXLtGLFCr366quaPHmy5s6dq8OHDyd6NAAAcApRAB12zz336LrrrtM111yjM888Uw888IAyMjL0\\\n",
              "i1/8ItGjAQCAU4gC6KjOzk5t375dFRUVPfclJSWpoqJCW7Zs+dj2HR0dikQivW4AAGBgogA66siR\\\n",
              "I4pGoyosLOx1f2Fhoerr6z+2fVVVlUKhUM+NnwAGAGDgogCiT5YvX65wONxzq6urS/RIAAAgTvwU\\\n",
              "sKPy8/Pl9/vV0NDQ6/6GhgYVFRV9bPtAIKBAwP4TcAAA4C8PZwAdlZqaqilTpmjjxo0998ViMW3c\\\n",
              "uFHTp09P4GQAAOBU4wygw5YtW6ZFixbp7LPP1rRp03TvvfeqpaVF11xzTaJHAwAApxAF0GGXX365\\\n",
              "3n//fd1xxx2qr6/X5z73OW3YsOFjPxgCAAAGF5/nefZLEsB5kUhEoVBIf/PClUrN6vtv79/4uwnm\\\n",
              "tbJK4/uVMx1/zDFnMhrsvxG/6Qv2q1nMGL/HnHntqTPNGUkausN+NYsPzkwxZ3wzj5ozx5oyzBlJ\\\n",
              "Gl1q/2Xle187zZxJHm6/5Fw0jis/FOeFzRlJqntnqDmTVm9/3d9RZr8MYUGB/XOKtMZxmRJJbUfs\\\n",
              "x5Evan+sj1xnv9LG3kvjuxJISm67OTPyPtvn1N3drupt31M4HFZ2drZ5PQxsvAcQAADAMRRAAAAA\\\n",
              "x1AAAQAAHEMBBAAAcAwFEAAAwDEUQAAAAMdQAAEAABxDAQQAAHAMBRAAAMAxFEAAAADHUAABAAAc\\\n",
              "QwEEAABwjP2q4MBHbD0wQv6Mvl/APa/sqHmNo+FMc0aSkj17xhe1h1IzO82Z154+05wJTG80ZyRp\\\n",
              "+FcOmTOZ/yfLnGmcnWHOjB61z5yRpN2NQ82ZaF6XOZPiM0fkT46aM+9H7PtbkkaOaTBnDh4pMWe8\\\n",
              "Lvu5goaGkDmTHuwwZyQp8137f2Vf+9tfmjP3NV9ozvyw4iFzRpK+/72rzZk919uei2JtydI28zIY\\\n",
              "JDgDCAAA4BgKIAAAgGMogAAAAI6hAAIAADiGAggAAOAYCiAAAIBjKIAAAACOoQACAAA4hgIIAADg\\\n",
              "GAogAACAYyiAAAAAjqEAAgAAOIYCCAAA4JjkRA+Aga2rM1nR5L4fRovGbTOv8bNnKswZSQp+odGc\\\n",
              "+d74debM15+81pwp2tltzrTNiJkzkvT7X00wZ9q/22nOJNXYn05aDhSYM5J08d/8xpx59WipOfP2\\\n",
              "KyPMmVhhhzkTeCfNnJGktH9915zx/TzbnLl09OvmzAurzzFnSn55xJyRpH332B8b9z/yZXMmxZyQ\\\n",
              "bnnhijhSkmZ1mSO+ZuNjsI0K4DLOAAIAADiGAggAAOAYCiAAAIBjKIAAAACOoQACAAA4hgIIAADg\\\n",
              "GAogAACAYyiAAAAAjqEAAgAAOIYCCAAA4BgKIAAAgGMogAAAAI7hStD4swR2Zcgf6PuF7J8tOMO8\\\n",
              "RvKoZnNGkrx1eebMP15yiTkzbGK9OdN+hv2h1/hWvjkjSalxZHzNfnPGS/HMmS9e9po5I0kvHR5t\\\n",
              "ztRvLTZn0lp85sywKQ3mzN59w80ZSXp75VnmTPZm++v+Jz4425xJnWl/3LZ8xb6/JanlzWxzZuwz\\\n",
              "YXOm5sZ0cyZzTzyPQKk7w/54ihmfVmLtnANyGV99AAAAx1AAAQAAHEMBBAAAcAwFEAAAwDEUQAAA\\\n",
              "AMdQAAEAABxDAQQAAHAMBRAAAMAxFEAAAADHUAABAAAcQwEEAABwDAUQAADAMfYr0gMf8cPFP1dm\\\n",
              "0N/n7W/5l6+Z14hVtJgzkjTlazvMmY2bJ5sz0T32C9h7fnsmudh+cXhJ6s6y53xDOs2ZQE26ObNx\\\n",
              "93hzRpKK1qWaM9Fp9nWSOuyZPfVDzZnMI/bjQZLa8+LI5NszGUPtj8Hk34TMmX1lGeaMJHmBmDlT\\\n",
              "N8c+32VTXjZnNuSfYc5IUnpy1Jxp2WL74kY74jvuMDhwBhAAAMAxFEAAAADHUAAddeedd8rn8/W6\\\n",
              "jR8f37fjAADAwMJ7AB121lln6fnnn+/5e3IyhwMAAC7gf3yHJScnq6ioKNFjAACAfsa3gB22e/du\\\n",
              "lZSUaNSoUbr66qu1b9++T9y2o6NDkUik1w0AAAxMFEBHlZeXa82aNdqwYYPuv/9+7d27VzNnztSx\\\n",
              "Y8dOuH1VVZVCoVDPrbS0tJ8nBgAAJwsF0FHz58/XV7/6VU2aNElz587VM888o6amJj322GMn3H75\\\n",
              "8uUKh8M9t7q6un6eGAAAnCy8BxCSpJycHI0dO1Z79uw54ccDgYACgUA/TwUAAE4FzgBCktTc3Kza\\\n",
              "2loVFxcnehQAAHCKUQAddcstt6i6ulrvvvuuXn75ZV1yySXy+/268sorEz0aAAA4xfgWsKP279+v\\\n",
              "K6+8Uo2NjRo6dKjOPfdcbd26VUOH2q9jCgAABhaf53nxXWEeTotEIgqFQipb8T0lpaX1ORdLsa81\\\n",
              "al2rPSRp9zWp5sy15b8xZ37x6gxzpvDX9h1Rf579gveSpGR7rnCT/bXh+3M7zBkvGt83IdKy7GsN\\\n",
              "u8dvznStbDJnLj/tFXPmtebh5owkvfzY582ZcRe/bc7sPFBizmRvzDRnAgsbzBlJOrfwHXPmmYe/\\\n",
              "aM50nX3i35LwaToPZ5gzkpTWYD9e06cdMW0fbe3QHy/7V4XDYWVnZ5vXw8DGt4ABAAAcQwEEAABw\\\n",
              "DAUQAADAMRRAAAAAx1AAAQAAHEMBBAAAcAwFEAAAwDEUQAAAAMdQAAEAABxDAQQAAHAMBRAAAMAx\\\n",
              "FEAAAADH2K/4DnyEr1tK6u779l84r8a8xpFfjjRnJOnqqVvNmQffmGbOZL4eMGfahpojOuPfGu0h\\\n",
              "SW/dmGvOhK7Zb85ENg03Z4a8FTVnJCk82r7Pqx6615xZ8taV5syq1RebM57fHJEktYwyPPj+164X\\\n",
              "Tzdnukd2mDON53SZM2nHMs0ZSdr84DnmzNLbnzBn/q3mAnPmvGk7zRlJinn28zO7w7Ynlu7uTvMa\\\n",
              "GDw4AwgAAOAYCiAAAIBjKIAAAACOoQACAAA4hgIIAADgGAogAACAYyiAAAAAjqEAAgAAOIYCCAAA\\\n",
              "4BgKIAAAgGMogAAAAI6hAAIAADiGAggAAOCY5EQPgIEt64DkT+379m89Mt68RusNzeaMJL3z2y+a\\\n",
              "M+dNecOcqT5ypjkzYeJ75sxbxWXmjCT93/NfNGee+8dZ5kzg7z8wZxqyh5gzkhQLRM2Zrz51kzlz\\\n",
              "7tQ3zZmtuQXmTHd2zJyRJF+GfT+kHLM/7fszO8yZ7reyzZmO5Pj2w5SbXzNn7v7vS8yZpE6fObOp\\\n",
              "I8WckaTMFzPNmaPlnabtY23t5jUweHAGEAAAwDEUQAAAAMdQAAEAABxDAQQAAHAMBRAAAMAxFEAA\\\n",
              "AADHUAABAAAcQwEEAABwDAUQAADAMRRAAAAAx1AAAQAAHEMBBAAAcIz9quDAR9xw0zqlZ/X9MLrv\\\n",
              "h181r/HDKf9lzkjSyh8uMmfe3HKWOZMTtF8g/vTph82ZrFkd5owkpfii5szM724xZx599lxzJpYW\\\n",
              "M2ckqXCrfZ/X/1WXOfP20QJz5sHL/92c+fn7s8wZSXr+VfvxmveGfT+kzIuYM/XhkDmTNanZnJGk\\\n",
              "53/1BXOmO9szZzL32Y+7ovviO8/i/dN+c6b9qG2fR/3xPadgcOAMIAAAgGMogAAAAI6hAAIAADiG\\\n",
              "AggAAOAYCiAAAIBjKIAAAACOoQACAAA4hgIIAADgGAogAACAYyiAAAAAjqEAAgAAOIYCCAAA4Jjk\\\n",
              "RA+Age0X781Qcmagz9s3lneb1/jmukXmjCTFZrabM6HsVnPGvz7XnFn30jT7OkPtn48ktZ6Was7s\\\n",
              "3jDanPmrS181Z55//vPmjCR1ZtkzSeEUc6ah3f61vdl3mTmT5PPMGUlKjvjNmfAInzmTumaYOXPx\\\n",
              "N39jznw+4z1zRpJurb3KnMnaaz//0TUzYs68c1ocB6ukq/PfMWcefG+6aftYm3kJDCKcAQQAAHAM\\\n",
              "BRAAAMAxFMBBaPPmzbroootUUlIin8+n9evX9/q453m64447VFxcrPT0dFVUVGj37t2JGRYAAPQ7\\\n",
              "CuAg1NLSosmTJ2vVqlUn/Pjdd9+t++67Tw888IC2bdumzMxMzZ07V+3t8b3HDAAADCz8EMggNH/+\\\n",
              "fM2fP/+EH/M8T/fee69uu+02XXzxxZKkBx98UIWFhVq/fr2uuOKK/hwVAAAkAGcAHbN3717V19er\\\n",
              "oqKi575QKKTy8nJt2bLlE3MdHR2KRCK9bgAAYGCiADqmvr5eklRYWNjr/sLCwp6PnUhVVZVCoVDP\\\n",
              "rbS09JTOCQAATh0KIPpk+fLlCofDPbe6urpEjwQAAOJEAXRMUVGRJKmhoaHX/Q0NDT0fO5FAIKDs\\\n",
              "7OxeNwAAMDBRAB1TVlamoqIibdy4see+SCSibdu2afp022+RBwAAAxM/BTwINTc3a8+ePT1/37t3\\\n",
              "r3bs2KHc3FwNHz5cS5cu1V133aXTTz9dZWVluv3221VSUqIFCxYkbmgAANBvKICD0CuvvKILLrig\\\n",
              "5+/Lli2TJC1atEhr1qzRrbfeqpaWFl1//fVqamrSueeeqw0bNigtLS1RIwMAgH7k8zwvvquQw2mR\\\n",
              "SEShUEjDVt2ppPS+F8ebyl8wr/WTX801ZyTpir96yZzZ1jjSnDnwgv0nojvG26/CPrK40ZyRpAO/\\\n",
              "HWbOBKccMWf8STFzpmH/EHNGks6f9JY5U/37M82ZpLwOc0aez77Oe/G9+Aq+a880zbL/wvdATbo5\\\n",
              "03VGqzkz5Fn7OpL0/jlRcyY93z6fXrO/97m9xD6bJOWNOGrOHH0zz7R9rL1d7932jwqHw7yv20G8\\\n",
              "BxAAAMAxFEAAAADHUAABAAAcQwEEAABwDAUQAADAMRRAAAAAx1AAAQAAHEMBBAAAcAwFEAAAwDEU\\\n",
              "QAAAAMdQAAEAABxDAQQAAHAMBRAAAMAxyYkeAAPb+LJDSslM7fP2/692mnkNf7s5Ikla99hMcyb9\\\n",
              "sGfOxOYcM2euHLvDnHl419nmjCT5A/bPKdKSZs50tvT9OPhQSnaHOSNJ4U77fEN22V/vthZmmDP5\\\n",
              "f4yaMwfOt3+NJCk81p7xmuxfp/ZC++c0JNhqzrQV2Pe3JPlb7F/b9u5Mcyaz0xxR3oij9pCkxveG\\\n",
              "mDNedrdp+1iKbXsMLpwBBAAAcAwFEAAAwDEUQAAAAMdQAAEAABxDAQQAAHAMBRAAAMAxFEAAAADH\\\n",
              "UAABAAAcQwEEAABwDAUQAADAMRRAAAAAx1AAAQAAHJOc6AEwsL39h1IlpaX1efvkVp95jc5hcVyB\\\n",
              "XVJnp/31TUa9/SHheyNozjx0rNy+jt8zZyQpuNeeSf1DhjnTnmff361FKeaMJB15pMyc+db3HzFn\\\n",
              "vvPry8yZ5LaYOeMF4/vaemH78Zpe3Gxfx7M/bpt35pkz3RPbzBlJ8mL2+dL29P1560MpMxvNmQ+O\\\n",
              "ZpozklQ27pA5c6h6mGn7aEfUvAYGD84AAgAAOIYCCAAA4BgKIAAAgGMogAAAAI6hAAIAADiGAggA\\\n",
              "AOAYCiAAAIBjKIAAAACOoQACAAA4hgIIAADgGAogAACAYyiAAAAAjrFfSRz4iFhGVEo3XFC8LY5D\\\n",
              "rivO1ykpnjmSc/V+c6blxVJzZsrYd82ZN54da85I0gfTOs2Zr5e/aM78dNcMc6bsip3mjCTtvq/c\\\n",
              "nPnO85eZM0kd9mMvtPxdc6boP8rMGUlKa+w2Z979aro5M/F0++PizdqgOfN3k7aZM5L09L+dZ850\\\n",
              "ZtvX8TyfOZOeaX/8SdLeg/nmTNl5tq9Td0uH9phXwWDBGUAAAADHUAABAAAcQwEEAABwDAUQAADA\\\n",
              "MRRAAAAAx1AAAQAAHEMBBAAAcAwFEAAAwDEUQAAAAMdQAAEAABxDAQQAAHAMBRAAAMAxyYkeAANb\\\n",
              "Unq3kjL6fkH6pM4U8xrZb9ozktSRY8/sOzjMnAnt98yZvECLORNNta8jSbnb7PvvmeETzJns5zPN\\\n",
              "mbd/OtWckaSU9+2vXYMTG82Z7qjfnHnj5VHmTOzL7eaMJKXvSDdnkppj5sybW8vMmewz7ft7zW/P\\\n",
              "NWckSed2mSO+Y/b//goeyzFnMv/2sDkjSe1tqebM0PRm0/ZdsU7zGhg8OAMIAADgGAogAACAYyiA\\\n",
              "g9DmzZt10UUXqaSkRD6fT+vXr+/18cWLF8vn8/W6zZs3LzHDAgCAfkcBHIRaWlo0efJkrVq16hO3\\\n",
              "mTdvng4dOtRze/jhh/txQgAAkEj8EMggNH/+fM2fP/9TtwkEAioqKuqniQAAwF8SzgA6atOmTSoo\\\n",
              "KNC4ceN04403qrHx039ir6OjQ5FIpNcNAAAMTBRAB82bN08PPvigNm7cqO9///uqrq7W/PnzFY1G\\\n",
              "PzFTVVWlUCjUcystLe3HiQEAwMnEt4AddMUVV/T8eeLEiZo0aZJGjx6tTZs2afbs2SfMLF++XMuW\\\n",
              "Lev5eyQSoQQCADBAcQYQGjVqlPLz87Vnz55P3CYQCCg7O7vXDQAADEwUQGj//v1qbGxUcXFxokcB\\\n",
              "AAD9gG8BD0LNzc29zubt3btXO3bsUG5urnJzc7Vy5UotXLhQRUVFqq2t1a233qoxY8Zo7ty5CZwa\\\n",
              "AAD0FwrgIPTKK6/oggsu6Pn7h+/dW7Roke6//37t3LlT//mf/6mmpiaVlJRozpw5+u53v6tAIJCo\\\n",
              "kQEAQD/yeZ4X3xXm4bRIJKJQKKTTb/ln+QNpfc4VXHDAvNaxR0rMGUlxvcGhtdBnzqScfdScyXrI\\\n",
              "/h7KhnL7bJKUNuqYOeOvDpkzBTvazJnahfYL3ktSUqd9X4x5yL4f3v6/WebM8F/FzJl9c/3mjCSd\\\n",
              "V/66OXOwxf613X2gwJzxuuwPwOT3U8wZSSp7stWc2XtJhjmTcdB+3EXGd5szkuTLsOe8NttxFGtr\\\n",
              "1/5vrFA4HOZ93Q7iPYAAAACOoQACAAA4hgIIAADgGAogAACAYyiAAAAAjqEAAgAAOIYCCAAA4BgK\\\n",
              "IAAAgGMogAAAAI6hAAIAADiGAggAAOAYCiAAAIBjKIAAAACOSU70ABjYus9sUSwj2uft3zuYZ14j\\\n",
              "86/D5owkZT+cbc4cG2lfp/2AfR1vuN+c+esLfmfOSNKbTUXmzHt59s+pvjzdnMkaftSckaTm/fb5\\\n",
              "ar+VYs54Ec+c+WC8fZ1/mLPenJGkHz55sTlTtLXvj9cPZS0+Zs607s4xZwpfiZkzkrRozdPmzE/f\\\n",
              "m2nOtE+w/5fZtnOoOSNJX5/5rDnz7xvmmbb3tdufhzB4cAYQAADAMRRAAAAAx1AAAQAAHEMBBAAA\\\n",
              "cAwFEAAAwDEUQAAAAMdQAAEAABxDAQQAAHAMBRAAAMAxFEAAAADHUAABAAAcQwEEAABwjM/zPPvV\\\n",
              "zuG8SCSiUCikkSu/p6S0tD7nxp3zrnmtJF98h+juF0aZM+3F3ebM0C32C6q3FfrMmdaSmDkjSWmH\\\n",
              "7a/zqq5ZY87c9vrF5sxfj3jdnJGkR6u/aM6kntZiziS9FjRnhs3eZ84ceHa4OSNJLWX24zUpq8uc\\\n",
              "SQ3Y1/Fvt+87X3mTOSNJLfuyzZmUY/bHoL/DnunOiO/5qyvXvs+nnvWObY2WTv3PnNUKh8PKzrbv\\\n",
              "QwxsnAEEAABwDAUQAADAMRRAAAAAx1AAAQAAHEMBBAAAcAwFEAAAwDEUQAAAAMdQAAEAABxDAQQA\\\n",
              "AHAMBRAAAMAxFEAAAADHUAABAAAck5zoATCwdQ/pVlJ63y9a/vTYX5nXmHXj9eaMJMWm2S/CnjG0\\\n",
              "xZw5VhYyZ0qfazVn9lyWZs5IUtv4dnPmn3dfaM4M/XGGOdP0L/aMJM2f8Zo5s781x5z5w5iAOfN+\\\n",
              "S6Y5400LmzOSlL7Dfux9+ZLfmzNPVJebM7MW/NGceeW/J5ozkhTssmeKLtpnzviTYubM268ON2ck\\\n",
              "KeWo/b/nw61B0/bdrR3mNTB4cAYQAADAMRRAAAAAx1AAAQAAHEMBBAAAcAwFEAAAwDEUQAAAAMdQ\\\n",
              "AAEAABxDAQQAAHAMBRAAAMAxFEAAAADHUAABAAAcQwEEAABwjM/zPC/RQ2DgiUQiCoVCOmfePyk5\\\n",
              "Ja3PueLle8xrJfvsF2CXpN++OcacSc3qNGdmj3rbnNnfmmPOvPHKSHNGklKP2l/ntY2074fUoD3T\\\n",
              "fSDDnJGkWLr9mAgWHzNnAslRc6br1/nmTPtM+2ySVFFmP/ZeeO90cybn8SxzpiPHZ8/MjZgzktS9\\\n",
              "K9ucyfx8ozlztDFoznjtfnNGkgK5beZMR7jvz8WSFGtr1/6bVigcDis7274PMbBxBhAAAMAxFEAA\\\n",
              "AADHUAAHoaqqKk2dOlXBYFAFBQVasGCBampqem3T3t6uyspK5eXlKSsrSwsXLlRDQ0OCJgYAAP2J\\\n",
              "AjgIVVdXq7KyUlu3btVzzz2nrq4uzZkzRy0tLT3b3HzzzXrqqaf0+OOPq7q6WgcPHtSll16awKkB\\\n",
              "AEB/SU70ADj5NmzY0Ovva9asUUFBgbZv365Zs2YpHA7r5z//udauXasvfelLkqTVq1frjDPO0Nat\\\n",
              "W3XOOeckYmwAANBPOAPogHA4LEnKzc2VJG3fvl1dXV2qqKjo2Wb8+PEaPny4tmzZcsJ/o6OjQ5FI\\\n",
              "pNcNAAAMTBTAQS4Wi2np0qWaMWOGJkyYIEmqr69XamqqcnJyem1bWFio+vr6E/47VVVVCoVCPbfS\\\n",
              "0tJTPToAADhFKICDXGVlpXbt2qVHHnnkz/p3li9frnA43HOrq6s7SRMCAID+xnsAB7ElS5bo6aef\\\n",
              "1ubNmzVs2LCe+4uKitTZ2ammpqZeZwEbGhpUVFR0wn8rEAgoEAic6pEBAEA/4AzgIOR5npYsWaJ1\\\n",
              "69bphRdeUFlZWa+PT5kyRSkpKdq4cWPPfTU1Ndq3b5+mT5/e3+MCAIB+xhnAQaiyslJr167Vk08+\\\n",
              "qWAw2PO+vlAopPT0dIVCIV177bVatmyZcnNzlZ2drZtuuknTp0/nJ4ABAHAABXAQuv/++yVJ559/\\\n",
              "fq/7V69ercWLF0uSfvSjHykpKUkLFy5UR0eH5s6dq5/85Cf9PCkAAEgEn+d5XqKHwMATiUQUCoU0\\\n",
              "vOouJaX1/QLkE6fsNa91sDm+i5RXlNR89kZ/Yn3tJHPG57M/hGJ/CJkzHWPazRlJSj5gf+/mBbN3\\\n",
              "mDMbN082Zzy/OSJJyq61v3slGsdbWNumtJozvn3p5kzaYZ85I0nNZVF7KNhtjhQXHTVn/HE8LtJv\\\n",
              "zzJnJKnuVvtavlftzys5s078WxI+zaHaoeaMJOVttx/jly171rR9e3O37izfqHA4rOzs+J5nMXDx\\\n",
              "HkAAAADHUAABAAAcQwEEAABwDAUQAADAMRRAAAAAx1AAAQAAHEMBBAAAcAwFEAAAwDEUQAAAAMdQ\\\n",
              "AAEAABxDAQQAAHAMBRAAAMAxFEAAAADHJCd6AAxssayolB7t8/avbxtlXuO0zx0yZyRp+42fM2cK\\\n",
              "vxs2Z96tLTRnVNpljgxbl2JfR9KBL8XMmc6Y/akh9aj99WT+rPi+tnUZ+ebMXec/Yc6sO/x5c+bv\\\n",
              "pr5szvzDHy41ZySpIKPdnJmcf8Cc2fVBsTnjvyfPnDl6RnzHuPdHnzmTPO2oOdP6dJE5kxYyRyRJ\\\n",
              "4/7+DXPmF29+0bR9tLVd0kbzOhgcOAMIAADgGAogAACAYyiAAAAAjqEAAgAAOIYCCAAA4BgKIAAA\\\n",
              "gGMogAAAAI6hAAIAADiGAggAAOAYCiAAAIBjKIAAAACOoQACAAA4xn7Fd+Ajgm+myB/o+wXc/V9q\\\n",
              "NK/R8rD9QvSSdOASeyZak27O+Id02hc6FDBHzlz+B/s6kva/fqY588oTE82ZzoKYORP1fOaMpLhe\\\n",
              "usaz1u7/HmvO/OwS+9NqfrDFnJGkkqywOfPOsXxzxvezoebMu1d0mzPjRuwzZyQp/H6eOTO1qM6c\\\n",
              "2ZIzxJwpmHXQnJGkr+S/Zs78dtfppu1jbeYlMIhwBhAAAMAxFEAAAADHUAABAAAcQwEEAABwDAUQ\\\n",
              "AADAMRRAAAAAx1AAAQAAHEMBBAAAcAwFEAAAwDEUQAAAAMdQAAEAABxDAQQAAHCMz/M8L9FDYOCJ\\\n",
              "RCIKhUKa+Ng35c8I9DnXVJtrXiuWFjNnJGnk6AZzpmHTaeZMRoP9IZR/lf2i92+/PsyckaRxPw3b\\\n",
              "M6v3mDP/8/IUcybjgN+ckaSOHPs+787vimstq6y3U82Z9vz4noZH/rLdnHn3a/a1xpXYH0uvv1Vq\\\n",
              "zgRy28wZSfK/FjRnYl84Zs60R/r+XPeh66b+xpyRpBe/Pt2cqf172+Mp1tauuhtWKhwOKzs727we\\\n",
              "BjbOAAIAADiGAggAAOAYCiAAAIBjKIAAAACOoQACAAA4hgIIAADgGAogAACAYyiAAAAAjqEAAgAA\\\n",
              "OIYCCAAA4BgKIAAAgGMogAAAAI5JTvQAGNhS/2uI/Clpfd7e+6L9QvS+bp85I0n7dhWbM7nTj5gz\\\n",
              "3VH766h3tg43Z/xxPlp3L8oxZzJb7RnF8WXyt9kzkhQrsB9HmXtSzZnQ+fXmTHBUhznzXmOuOSNJ\\\n",
              "Z93zpjlT+9LZ5swb748wZzIP2h8Xxac3mTOSdLi825xpfidkzoydvN+c+dmOGeaMJKVd0Pfn1Q95\\\n",
              "3Z3G7eN7bsXgwBlAAAAAx1AAAQAAHEMBHISqqqo0depUBYNBFRQUaMGCBaqpqem1zfnnny+fz9fr\\\n",
              "dsMNNyRoYgAA0J8ogINQdXW1KisrtXXrVj333HPq6urSnDlz1NLS0mu76667TocOHeq53X333Qma\\\n",
              "GAAA9Cd+CGQQ2rBhQ6+/r1mzRgUFBdq+fbtmzZrVc39GRoaKior6ezwAAJBgnAF0QDgcliTl5vb+\\\n",
              "ScOHHnpI+fn5mjBhgpYvX67W1tZP/Dc6OjoUiUR63QAAwMDEGcBBLhaLaenSpZoxY4YmTJjQc/9V\\\n",
              "V12lESNGqKSkRDt37tS3v/1t1dTU6Iknnjjhv1NVVaWVK1f219gAAOAUogAOcpWVldq1a5deeuml\\\n",
              "Xvdff/31PX+eOHGiiouLNXv2bNXW1mr06NEf+3eWL1+uZcuW9fw9EomotLT01A0OAABOGQrgILZk\\\n",
              "yRI9/fTT2rx5s4YNG/ap25aXl0uS9uzZc8ICGAgEFAgETsmcAACgf1EAByHP83TTTTdp3bp12rRp\\\n",
              "k8rKyj4zs2PHDklScbH96hkAAGBgoQAOQpWVlVq7dq2efPJJBYNB1dcfv5xVKBRSenq6amtrtXbt\\\n",
              "Wl144YXKy8vTzp07dfPNN2vWrFmaNGlSgqcHAACnGgVwELr//vslHf9lzx+1evVqLV68WKmpqXr+\\\n",
              "+ed17733qqWlRaWlpVq4cKFuu+22BEwLAAD6GwVwEPI871M/Xlpaqurq6n6aBgAA/KWhAOLP8sGZ\\\n",
              "PiWl+fq8fXBY2LxG1++HmDOSFJt8zJxpej3PnIlmxsyZeB54Jb+JxpGSgt+sM2de+/0Yc6b4zMPm\\\n",
              "zFVf+r05I0kbj4w3Z97YZP+cDtbZjwd9+uuvE8qsTbGHJP3q7anmTM5++zp/U/lrc2btj+aaM+Oy\\\n",
              "7ceQJI3M+sCc2Vg34bM3+hP1x4LmTHFBkzkjSe+nZtlDTWm27bv5VcAu46sPAADgGAogAACAYyiA\\\n",
              "AAAAjqEAAgAAOIYCCAAA4BgKIAAAgGMogAAAAI6hAAIAADiGAggAAOAYCiAAAIBjKIAAAACOoQAC\\\n",
              "AAA4Jp5r0gM98iYdVnJmoM/bf+W0P5rX+I+mWeaMJOW8aL+Y+pTFO82Zg5eGzJkR6+0Xr3+x8wvm\\\n",
              "jCTVvzTSnAmMP2bOFGdGzJnfHD3dnJGk3f9jz4UaPHOmuS3FnOma1GLOdObE91RcUfGaOfOrHRPN\\\n",
              "mV9+4wJzpvssnznzzLbPmTOSNPrxTnMmeZ79/EfkUNCcSXk1x5yRpOBXGs2Z8tFvm7bvbO7UavMq\\\n",
              "GCw4AwgAAOAYCiAAAIBjKIAAAACOoQACAAA4hgIIAADgGAogAACAYyiAAAAAjqEAAgAAOIYCCAAA\\\n",
              "4BgKIAAAgGMogAAAAI7hWsCIi+cdv65qtLXDlGtv7jKvFWtrN2ckKdoZM2c6m+3XFO2O2fZBvOtE\\\n",
              "2+PbD16y/Rq4arWv1dVi/5y8JPvXSJKiHfb5op32/RDtsF/PNhbHvlN7fK/F4zmO4nk8dXfbv07R\\\n",
              "Dvv+jrVFzRlJ6u6OYz/E8WWKZ75op9++kCTP+Nwq2Y+Hzpbjz8cfPp/DLT6PrzzisH//fpWWliZ6\\\n",
              "DADAn6murk7Dhg1L9BjoZxRAxCUWi+ngwYMKBoPy+XqfJYlEIiotLVVdXZ2ys7MTNGHisR+OYz8c\\\n",
              "x344jv1w3F/CfvA8T8eOHVNJSYmSknhHmGv4FjDikpSU9JmvGLOzs51+gv8Q++E49sNx7Ifj2A/H\\\n",
              "JXo/hEKhhK2NxKLyAwAAOIYCCAAA4BgKIE66QCCgFStWKBAIJHqUhGI/HMd+OI79cBz74Tj2AxKN\\\n",
              "HwIBAABwDGcAAQAAHEMBBAAAcAwFEAAAwDEUQAAAAMdQAHFSrVq1SiNHjlRaWprKy8v1u9/9LtEj\\\n",
              "9as777xTPp+v1238+PGJHqtfbN68WRdddJFKSkrk8/m0fv36Xh/3PE933HGHiouLlZ6eroqKCu3e\\\n",
              "vTsxw55Cn7UfFi9e/LFjZN68eYkZ9hSpqqrS1KlTFQwGVVBQoAULFqimpqbXNu3t7aqsrFReXp6y\\\n",
              "srK0cOFCNTQ0JGjiU6Mv++H888//2PFwww03JGhiuIQCiJPm0Ucf1bJly7RixQq9+uqrmjx5subO\\\n",
              "navDhw8nerR+ddZZZ+nQoUM9t5deeinRI/WLlpYWTZ48WatWrTrhx++++27dd999euCBB7Rt2zZl\\\n",
              "ZmZq7ty5am9v7+dJT63P2g+SNG/evF7HyMMPP9yPE5561dXVqqys1NatW/Xcc8+pq6tLc+bMUUtL\\\n",
              "S882N998s5566ik9/vjjqq6u1sGDB3XppZcmcOqTry/7QZKuu+66XsfD3XffnaCJ4RQPOEmmTZvm\\\n",
              "VVZW9vw9Go16JSUlXlVVVQKn6l8rVqzwJk+enOgxEk6St27dup6/x2Ixr6ioyPvBD37Qc19TU5MX\\\n",
              "CAS8hx9+OAET9o8/3Q+e53mLFi3yLr744oTMkyiHDx/2JHnV1dWe5x3/2qekpHiPP/54zzZvvvmm\\\n",
              "J8nbsmVLosY85f50P3ie55133nneN77xjcQNBWdxBhAnRWdnp7Zv366Kioqe+5KSklRRUaEtW7Yk\\\n",
              "cLL+t3v3bpWUlGjUqFG6+uqrtW/fvkSPlHB79+5VfX19r+MjFAqpvLzcueNDkjZt2qSCggKNGzdO\\\n",
              "N954oxobGxM90ikVDoclSbm5uZKk7du3q6urq9fxMH78eA0fPnxQHw9/uh8+9NBDDyk/P18TJkzQ\\\n",
              "8uXL1dramojx4JjkRA+AweHIkSOKRqMqLCzsdX9hYaHeeuutBE3V/8rLy7VmzRqNGzdOhw4d0sqV\\\n",
              "KzVz5kzt2rVLwWAw0eMlTH19vSSd8Pj48GOumDdvni699FKVlZWptrZW3/nOdzR//nxt2bJFfr8/\\\n",
              "0eOddLFYTEuXLtWMGTM0YcIEScePh9TUVOXk5PTadjAfDyfaD5J01VVXacSIESopKdHOnTv17W9/\\\n",
              "WzU1NXriiScSOC1cQAEETqL58+f3/HnSpEkqLy/XiBEj9Nhjj+naa69N4GT4S3HFFVf0/HnixIma\\\n",
              "NGmSRo8erU2bNmn27NkJnOzUqKys1K5du5x5L+wn+aT9cP311/f8eeLEiSouLtbs2bNVW1ur0aNH\\\n",
              "9/eYcAjfAsZJkZ+fL7/f/7Gf4mtoaFBRUVGCpkq8nJwcjR07Vnv27En0KAn14THA8fFxo0aNUn5+\\\n",
              "/qA8RpYsWaKnn35aL774ooYNG9Zzf1FRkTo7O9XU1NRr+8F6PHzSfjiR8vJySRqUxwP+slAAcVKk\\\n",
              "pqZqypQp2rhxY899sVhMGzdu1PTp0xM4WWI1NzertrZWxcXFiR4locrKylRUVNTr+IhEItq2bZvT\\\n",
              "x4ck7d+/X42NjYPqGPE8T0uWLNG6dev0wgsvqKysrNfHp0yZopSUlF7HQ01Njfbt2zeojofP2g8n\\\n",
              "smPHDkkaVMcD/jLxLWCcNMuWLdOiRYt09tlna9q0abr33nvV0tKia665JtGj9ZtbbrlFF110kUaM\\\n",
              "GKGDBw9qxYoV8vv9uvLKKxM92inX3Nzc66zF3r17tWPHDuXm5mr48OFaunSp7rrrLp1++ukqKyvT\\\n",
              "7bffrpKSEi1YsCBxQ58Cn7YfcnNztXLlSi1cuFBFRUWqra3VrbfeqjFjxmju3LkJnPrkqqys1Nq1\\\n",
              "a/Xkk08qGAz2vK8vFAopPT1doVBI1157rZYtW6bc3FxlZ2frpptu0vTp03XOOeckePqT57P2Q21t\\\n",
              "rdauXasLL7xQeXl52rlzp26++WbNmjVLkyZNSvD0GPQS/WPIGFx+/OMfe8OHD/dSU1O9adOmeVu3\\\n",
              "bk30SP3q8ssv94qLi73U1FTvtNNO8y6//HJvz549iR6rX7z44ouepI/dFi1a5Hne8V8Fc/vtt3uF\\\n",
              "hYVeIBDwZs+e7dXU1CR26FPg0/ZDa2urN2fOHG/o0KFeSkqKN2LECO+6667z6uvrEz32SXWiz1+S\\\n",
              "t3r16p5t2travK9//evekCFDvIyMDO+SSy7xDh06lLihT4HP2g/79u3zZs2a5eXm5nqBQMAbM2aM\\\n",
              "961vfcsLh8OJHRxO8Hme5/Vn4QQAAEBi8R5AAAAAx1AAAQAAHEMBBAAAcAwFEAAAwDEUQAAAAMdQ\\\n",
              "AAEAABxDAQQAAHAMBRAAAMAxFEAAAADHUAABAAAcQwEEAABwDAUQAADAMRRAAAAAx1AAAQAAHEMB\\\n",
              "BAAAcAwFEAAAwDEUQAAAAMdQAAEAABxDAQQAAHAMBRAAAMAxFEAAAADHUAABAAAcQwEEAABwDAUQ\\\n",
              "AADAMRRAAAAAx1AAAQAAHEMBBAAAcAwFEAAAwDEUQAAAAMdQAAEAABxDAQQAAHDM/wfD+yTwHX7Y\\\n",
              "hAAAAABJRU5ErkJggg==\\\n",
              "\"\n",
              "  frames[1] = \"data:image/png;base64,iVBORw0KGgoAAAANSUhEUgAAAoAAAAHgCAYAAAA10dzkAAAAOXRFWHRTb2Z0d2FyZQBNYXRwbG90\\\n",
              "bGliIHZlcnNpb24zLjcuMSwgaHR0cHM6Ly9tYXRwbG90bGliLm9yZy/bCgiHAAAACXBIWXMAAA9h\\\n",
              "AAAPYQGoP6dpAAAu20lEQVR4nO3de3iU9Z338c/kNDkPhJAThBBAwMpBFyFSFVEopy0VpdbT7oKP\\\n",
              "1dUGt8jj6tJVka1druq2pbpUn73ayrqPWLUVqFSxiBJWy6GiFPGQQgoSDAkQyUzOh5n7+YM1T1Oh\\\n",
              "5juFjMnv/bquuS4yc3/y++U39wyfuTOT2+d5nicAAAA4Iy7WEwAAAEDPogACAAA4hgIIAADgGAog\\\n",
              "AACAYyiAAAAAjqEAAgAAOIYCCAAA4BgKIAAAgGMogAAAAI6hAAIAADiGAggAAOAYCiAAAIBjKIAA\\\n",
              "AACOoQACAAA4hgIIAADgGAogAACAYyiAAAAAjqEAAgAAOIYCCAAA4BgKIAAAgGMogAAAAI6hAAIA\\\n",
              "ADiGAggAAOAYCiAAAIBjKIAAAACOoQACAAA4hgIIAADgGAogAACAYyiAAAAAjqEAAgAAOIYCCAAA\\\n",
              "4BgKIAAAgGMogAAAAI6hAAIAADiGAggAAOAYCiAAAIBjKIAAAACOoQACAAA4hgIIAADgGAogAACA\\\n",
              "YyiAAAAAjqEAAgAAOIYCCAAA4BgKIAAAgGMogAAAAI6hAAIAADiGAggAAOAYCiAAAIBjKIAAAACO\\\n",
              "oQACAAA4hgIIAADgGAogAACAYyiAAAAAjqEAAgAAOIYCCAAA4BgKIAAAgGMSYj0B9E6RSERVVVXK\\\n",
              "yMiQz+eL9XQAAEae56m+vl4FBQWKi+N4kGsogIhKVVWVCgsLYz0NAMBfqLKyUoMHD471NNDDKICI\\\n",
              "SkZGhiRp0Mp7FJfi736wIdE8VlxzdK9Mb5/xa3Nm4+1fNGcOzks3ZwLl5ohqL26zhyRl9Gs2Z1J/\\\n",
              "kWnOHJvRas5kZTWaM5I0OKPOnHnv9eHmTPyoenPG22Nfu5ZB7eaMJAX22h9PTYM8c6YjLWLOJNXG\\\n",
              "mzNDL/3QnJGkil1DzJkNX/2hOTN3x9fNmSR/2JyRpMYTKebMgBzb/hpuatXeBf/e+XwOt1AAHbdq\\\n",
              "1So9/PDDqq6u1vjx4/Xoo49q0qRJn5n75Ne+cSl+xaUkd3/AcBQF0IuuACan23fvhATDz/I/4pLt\\\n",
              "mfgkc0RxKdGtQ3yq/T/vhMQo1iHV/laA+NQOc0aSEtPsCxjV/ZRqL92eP4q1S7GXJUmKT4ri8ZRs\\\n",
              "L4BxKfZ9KD7Z/jMlpBleTP6RaO7bjAz74ykuNYp9yB/dPh7X0jP7qyTexuMofunvsGeeeUZLlizR\\\n",
              "smXL9NZbb2n8+PGaOXOmjh49GuupAQCAs4gC6LDvf//7uuWWW3TTTTfpC1/4gh5//HGlpqbqpz/9\\\n",
              "aaynBgAAziIKoKPa2tq0a9cuTZ8+vfO6uLg4TZ8+Xdu2bfvU9q2trQqFQl0uAACgd6IAOur48eMK\\\n",
              "h8PKzc3tcn1ubq6qq6s/tf2KFSsUCAQ6L3wCGACA3osCiG5ZunSpgsFg56WysjLWUwIAAFHiU8CO\\\n",
              "ys7OVnx8vGpqarpcX1NTo7y8vE9t7/f75fdH9wk9AADw+cIRQEclJSVpwoQJ2rx5c+d1kUhEmzdv\\\n",
              "1uTJk2M4MwAAcLZxBNBhS5Ys0YIFC3ThhRdq0qRJWrlypRobG3XTTTfFemoAAOAsogA67Nprr9Wx\\\n",
              "Y8d0//33q7q6Wueff742btz4qQ+GAACAvsXneZ79z8LDeaFQSIFAQLeUfVVJ6d0/G8GGNyaYx0ot\\\n",
              "tJ+OS5Layu2n5Mo4aB/n4wvtf+l/wugD5swHvxppzkjSgHft8zsxMoqzqFxWa87U1aWZM5I0rugj\\\n",
              "c+adXcXmTHxBkznjRezvrBk88IQ5I0kffvDp9+t+Fn8Up2hrG24/neDAAfbHbajJfvYLSWo+lmrO\\\n",
              "+CL2s18UvWA/I8rBedGdZSOpf4s5U7TSNlZHR4vKdn5HwWBQmZn250v0brwHEAAAwDEUQAAAAMdQ\\\n",
              "AAEAABxDAQQAAHAMBRAAAMAxFEAAAADHUAABAAAcQwEEAABwDAUQAADAMRRAAAAAx1AAAQAAHEMB\\\n",
              "BAAAcIz9jO/AH9lSOULxqf5ub589otY8xsfBNHNGkuI77BkvipdESZmt5sx7L480Z/yTPzZnJKno\\\n",
              "yipzJv2aDHPm2BWp5sz5QyvNGUnaVzvQnPEGtJkz8fGeORPxRcyZ6rpMc0aShoyqMWeO7Mg3ZyKt\\\n",
              "8ebM0aMBcyY1s8WckaS0D+3/lX39b180Z1Y1zjZn/u2Kp8wZSfrud240Z/bfZnsuijTHSzvNw6CP\\\n",
              "4AggAACAYyiAAAAAjqEAAgAAOIYCCAAA4BgKIAAAgGMogAAAAI6hAAIAADiGAggAAOAYCiAAAIBj\\\n",
              "KIAAAACOoQACAAA4hgIIAADgGAogAACAYxJiPQH0bp4neZ6v29v/9eB3zWP81/tTzBlJ6j/hmDnz\\\n",
              "wPUvmDOL1v4vcyb3nQ5zpvmiiDkjSb99eYw50/qvLeaMb1+SOdP80UBzRpLm3PAbc+bDpixz5q2t\\\n",
              "o8yZjoJWcybpYLI5I0n+5e+ZMwnPpZkzXym2j7P5Py4yZ3JfbzRnJOnDB0LmzP95do45k2h/2Oqu\\\n",
              "1661hyTp0nZzxBdMtAWaw+Yx0HdwBBAAAMAxFEAAAADHUAABAAAcQwEEAABwDAUQAADAMRRAAAAA\\\n",
              "x1AAAQAAHEMBBAAAcAwFEAAAwDEUQAAAAMdQAAEAABxDAQQAAHCMz/M8L9aTQO8TCoUUCAQ08s5/\\\n",
              "Vby/+yeyz7riiHmsI7UBc0aSAq+mmDNtX64zZ3IzGsyZ+la/OXOsPNuckaSkoP11Xmv/iH2gOPtT\\\n",
              "yZdK9tjHkXSwfoA5U7lliDmT0GSOKH/OIXPm4LZC+0CSOtLsa565z74/1I3rMGeyBtWZMxn+NnNG\\\n",
              "kirfzTNnRq4OmjMf/EOaOZP+fpI5I0mtA+z3rWe8ayMtLTp4/z8rGAwqMzPTPB56N44AAgAAOIYC\\\n",
              "CAAA4BgKIAAAgGMogAAAAI6hAAIAADiGAggAAOAYCiAAAIBjKIAAAACOoQACAAA4hgIIAADgGAog\\\n",
              "AACAYyiAAAAAjkmI9QTQu/3D36xTSnr3d6MfPvpV8xgJU+vNGUmaUfqGOfPsKxebM8cP9jdnwsnm\\\n",
              "iHx59pPDS1JbIGLOxGW32jOV9h9q877R5owkFT4Zb86EL7GvX3yrz5ypqMk2Z1JC9nEkyYviGbwt\\\n",
              "YM8MGnrcnKl/Kc+cOTTMvq9KUlwUsYPz7I/b6//qdXPmVwPOM2ckKYqnCGmr7WcKR7F/o+/gCCAA\\\n",
              "AIBjKIAAAACOoQA66oEHHpDP5+tyGT06ul/HAQCA3oX3ADrsvPPO0yuvvNL5dUICuwMAAC7gf3yH\\\n",
              "JSQkKC/P/kZtAADQu/ErYIft27dPBQUFGjZsmG688UYdOnTotNu2trYqFAp1uQAAgN6JAuiokpIS\\\n",
              "rV69Whs3btRjjz2mAwcO6NJLL1V9/an/5MqKFSsUCAQ6L4WFhT08YwAAcKZQAB01e/ZsXXPNNRo3\\\n",
              "bpxmzpypF198UXV1dXr22WdPuf3SpUsVDAY7L5WVlT08YwAAcKbwHkBIkvr166eRI0dq//79p7zd\\\n",
              "7/fL7/f38KwAAMDZwBFASJIaGhpUUVGh/Pz8WE8FAACcZRRAR911110qKyvTwYMH9Zvf/EZXXXWV\\\n",
              "4uPjdf3118d6agAA4CzjV8COOnz4sK6//nrV1tZq4MCBuuSSS7R9+3YNHDgw1lMDAABnmc/zvOjO\\\n",
              "MA+nhUIhBQIBDV3+HcUld/+05dGcenzoC81RpKR9f5doztx16UZz5pF3LjdnAi+lmTPHJoXNGUlS\\\n",
              "UsQcKfi1/bXhkTnt5ky0zz7J6W3mTNFD9nE+fqDFnLlh6G/NmXfqB5szkrTz5+PMmXO+ss+c+d2H\\\n",
              "9vllb+r+88InUv+2ypyRpPP6VZszZc9MMGfCF9n//FXbgQxzRpL8H9ufLZMu+ti0fbipVe9e97CC\\\n",
              "waAyMzPN46F341fAAAAAjqEAAgAAOIYCCAAA4BgKIAAAgGMogAAAAI6hAAIAADiGAggAAOAYCiAA\\\n",
              "AIBjKIAAAACOoQACAAA4hgIIAADgGAogAACAY+xnfAf+SFzHyUt3FX/xkHmM8K9yzBlJurFkuznz\\\n",
              "g93TzJmUt1PNmfZ0c0SjH7efiF6Syr8eMGeSb60yZ/xbB5szWe+HzRlJqhvhN2e+99z3zJmvv/83\\\n",
              "5sxPnphjznjx5ogkqXG44cH3P94tG2EfaGiLOXL0i/b7Nq0+igeGpLd+fIE588//8rQ58+299vt2\\\n",
              "xtS3zRlJauhIMmc+auxn2r5DreYx0HdwBBAAAMAxFEAAAADHUAABAAAcQwEEAABwDAUQAADAMRRA\\\n",
              "AAAAx1AAAQAAHEMBBAAAcAwFEAAAwDEUQAAAAMdQAAEAABxDAQQAAHAMBRAAAMAxCbGeAHq3tI+k\\\n",
              "+KTub3/kl0XmMToWB80ZSXpq50XmzOwL3jFnXmoYa86ce85H5swfBg41ZyTp7y/fZM689E9T7QMt\\\n",
              "rDdHajLT7ONIivjD5syXX1tkzswdu8ecebl/jjnT3i9izkiS/PZcYoP9aT8cxaGCpOPx5kxbILr/\\\n",
              "ks6/a7c5c//z15kz8c0+c+aVtlHmjCRlbk41Z+q/1GjaPtLUYh4DfQdHAAEAABxDAQQAAHAMBRAA\\\n",
              "AMAxFEAAAADHUAABAAAcQwEEAABwDAUQAADAMRRAAAAAx1AAAQAAHEMBBAAAcAwFEAAAwDEUQAAA\\\n",
              "AMdEd+Zt4H/8fel6paR3fzf6j2VXm8e47byXzRlJeuR715gzO3deYM7089tPEF94/glzJndmvTkj\\\n",
              "Se1evDlT8uBvzZm1GyebM16KZ85IUs52+5rXTLW/3t384UhzZt2N3zNnvlM1x5yRpDfeG2HOZJV3\\\n",
              "mDOZs6vNmQN7i82ZjECjOSNJZc//lTnTURA2Z9IP2feh7FfMEUmS79uV5syJqoGm7SNt9ucG9B0c\\\n",
              "AQQAAHAMBRAAAMAxFEAAAADHUAABAAAcQwEEAABwDAUQAADAMRRAAAAAx1AAAQAAHEMBBAAAcAwF\\\n",
              "EAAAwDEUQAAAAMdQAAEAAByTEOsJoHdbc3iSEtL83d7+yBX2E7A/+Pw15owkhae0mDPpGfZM0vp+\\\n",
              "5swrb4w3Z3w5reaMJJ0YnGrO/OGXw82Zi695x5zZ9usx5owktafZM3EN9hPft9RnmDMLkheYM9FK\\\n",
              "rkwyZ0KF9nHa/6PInPnS/95pzkxMP2DOSNL9v7c/RwQ+sO8PHTNPmDMHivqZM5J0RcbvzZnfNxSY\\\n",
              "to8025+P0XdwBBAAAMAxFEAAAADHUAD7oK1bt2ru3LkqKCiQz+fTunXrutzueZ7uv/9+5efnKyUl\\\n",
              "RdOnT9e+fftiM1kAANDjKIB9UGNjo8aPH69Vq1ad8vaHHnpIjzzyiB5//HHt2LFDaWlpmjlzplpa\\\n",
              "7O9/AwAAvQ8fAumDZs+erdmzZ5/yNs/ztHLlSt1777268sorJUlPPvmkcnNztW7dOl133XU9OVUA\\\n",
              "ABADHAF0zIEDB1RdXa3p06d3XhcIBFRSUqJt27adNtfa2qpQKNTlAgAAeicKoGOqq6slSbm5uV2u\\\n",
              "z83N7bztVFasWKFAINB5KSyM4m9JAACAzwUKILpl6dKlCgaDnZfKyspYTwkAAESJAuiYvLw8SVJN\\\n",
              "TU2X62tqajpvOxW/36/MzMwuFwAA0DtRAB1TXFysvLw8bd68ufO6UCikHTt2aPLkyTGcGQAA6Cl8\\\n",
              "CrgPamho0P79+zu/PnDggHbv3q2srCwNGTJEixcv1oMPPqhzzjlHxcXFuu+++1RQUKB58+bFbtIA\\\n",
              "AKDHUAD7oDfffFOXX35559dLliyRJC1YsECrV6/W3XffrcbGRt16662qq6vTJZdcoo0bNyo5OTlW\\\n",
              "UwYAAD3I53meF+tJoPcJhUIKBAIa/NgyxaV0vzjeVfJr81grX/iyOSNJV884/Z+1OZ03aoaZM6FN\\\n",
              "p3/v5Om0XNhozuT0rzdnJOnjN+zzS55Ya86kJLWbM1WHs8wZSZo9fq8589KuceZMYqDVnImG7w+p\\\n",
              "UeXSDtszoUubzZmkd+3z6xgTxT7+8+hehFZNtWeS8+3z0277e5+bB3fYx5HUL9/+p7Zaf2t7PIVb\\\n",
              "W7T/oW8pGAzyvm4H8R5AAAAAx1AAAQAAHEMBBAAAcAwFEAAAwDEUQAAAAMdQAAEAABxDAQQAAHAM\\\n",
              "BRAAAMAxFEAAAADHUAABAAAcQwEEAABwDAUQAADAMRRAAAAAxyTEegLo3cYMrVJiWlK3t1/13mXm\\\n",
              "MeJbzRFJ0oZnv2jOpBz1zJnWGQ3mzOXF+8yZV/ePMmckyZdq/5l8Pnum+ljAnPFnRnfn1rWlmDP5\\\n",
              "W+yvd+sHp5kzGYcj5kz1ZPt6S1J9sc+cCdd1//H6ieaidnMmK73ZnKkfYl9vSYprta95S7V9rLQW\\\n",
              "c0T9C4L2kKQTxzLMGd9A2zpEmu3rhr6DI4AAAACOoQACAAA4hgIIAADgGAogAACAYyiAAAAAjqEA\\\n",
              "AgAAOIYCCAAA4BgKIAAAgGMogAAAAI6hAAIAADiGAggAAOAYCiAAAIBjEmI9AfRu7/2uSHHJyd3e\\\n",
              "3he2jxEZ2moPSVJdojmSdsT+mih+T7o58+uG88yZOH8UiydpwAf2TPw7WeZMeq597VqyPXNGkj56\\\n",
              "8hxz5rZ/+7k5s+y1q82ZnLft95OXaY5IksIh+z6ektNkzkQiPnOmeUe2PTOmzZyRpISUDnMmaX+K\\\n",
              "OZM+rcacOXo8ujs3r+CEORP8Ta5p+3Arx4Bcxr0PAADgGAogAACAYyiAAAAAjqEAAgAAOIYCCAAA\\\n",
              "4BgKIAAAgGMogAAAAI6hAAIAADiGAggAAOAYCiAAAIBjKIAAAACOoQACAAA4JiHWE0DvFkkLSynh\\\n",
              "bm+fVGPf5cIt8eaMJMX1t59YPuvvjpozDa8WmTMjh1abM5WvDTFnJOnYZfZ1+GbJK+bM4+9eas4U\\\n",
              "31huzkhS+Q/PN2eWvXq1OZNQb9/3Bv7LfnOm4fFR5owkpVfZ79s/3Jhszlw82v4z7Thwrjlz88TX\\\n",
              "zRlJeuHhy82Z5oE+c6a+2b52aRkt5owkHa3NNGcKL60ybd/R2Cr7PYu+giOAAAAAjqEAAgAAOIYC\\\n",
              "CAAA4BgKIAAAgGMogAAAAI6hAAIAADiGAggAAOAYCiAAAIBjKIAAAACOoQACAAA4hgIIAADgGAog\\\n",
              "AACAYxJiPQH0br6ksHxJ4e5vH7HvcpnvJZozktSeZs8d/EOROdP/DxFzZuhXas2ZQ3FDzBlJytpu\\\n",
              "X4d1g883ZzJeSjdnyh+1jyNJSbXx5kzg/OPmTHuHfZxdr48yZ8LTW80ZSWp6N9mc8dXb99edW881\\\n",
              "Z/qPta/3T7dcZs5Ikm9Giz1z1G/OZD+fYc4k/M1Rc0aSGuvt9216km0/am9vM4+BvoMjgAAAAI6h\\\n",
              "AAIAADiGAtgHbd26VXPnzlVBQYF8Pp/WrVvX5faFCxfK5/N1ucyaNSs2kwUAAD2OAtgHNTY2avz4\\\n",
              "8Vq1atVpt5k1a5aOHDnSeXn66ad7cIYAACCW+BBIHzR79mzNnj37z27j9/uVl5fXQzMCAACfJxwB\\\n",
              "dNSWLVuUk5OjUaNG6fbbb1dt7Z//VGpra6tCoVCXCwAA6J0ogA6aNWuWnnzySW3evFnf/e53VVZW\\\n",
              "ptmzZyscPv2fc1mxYoUCgUDnpbCwsAdnDAAAziR+Beyg6667rvPfY8eO1bhx4zR8+HBt2bJF06ZN\\\n",
              "O2Vm6dKlWrJkSefXoVCIEggAQC/FEUBo2LBhys7O1v79+0+7jd/vV2ZmZpcLAADonSiA0OHDh1Vb\\\n",
              "W6v8/PxYTwUAAPQAfgXcBzU0NHQ5mnfgwAHt3r1bWVlZysrK0vLlyzV//nzl5eWpoqJCd999t0aM\\\n",
              "GKGZM2fGcNYAAKCnUAD7oDfffFOXX35559efvHdvwYIFeuyxx7Rnzx7953/+p+rq6lRQUKAZM2bo\\\n",
              "29/+tvx++7kxAQBA70MB7IOmTp0qz/NOe/vLL798xsZK3peseH/3T1o+cGqVeYyGZ6L71XRioz3T\\\n",
              "lOuzZ74WNGf2PjzOnGkviZgzktQyvt6cCW8oMGcG7m82Z2ovSDJnJCnsP/3+fTpZ99rH+v1N6ebM\\\n",
              "kLIOc+bQzOjW4YKr9pozNU329+/uO5xjzhw7EjBnEpqie1dS8dP2x8aBq+yP9eZseyZ0MNuckSRf\\\n",
              "in0/evcD2wfzIs0t5jHQd/AeQAAAAMdQAAEAABxDAQQAAHAMBRAAAMAxFEAAAADHUAABAAAcQwEE\\\n",
              "AABwDAUQAADAMRRAAAAAx1AAAQAAHEMBBAAAcAwFEAAAwDEUQAAAAMckxHoC6N3az21SODXS7e0r\\\n",
              "a/qbx0j9ctCckaSMn2WaM/VF9nFaPrKPEymON2fmTP2tOSNJvw/lmDMHs+0/U/VFKeZM+pAT5owk\\\n",
              "NXwYMGf+cI99zb06z5z5+NxEc+afZqwzZyTp4fVXmjP528PmTMbCenOmscJ+Hw18277ekvSNJ39h\\\n",
              "zvzw4DRzpn2cfR9q3p1rzkjSwi+WmTM/ffkK0/a+FvvPg76DI4AAAACOoQACAAA4hgIIAADgGAog\\\n",
              "AACAYyiAAAAAjqEAAgAAOIYCCAAA4BgKIAAAgGMogAAAAI6hAAIAADiGAggAAOAYCiAAAIBjfJ7n\\\n",
              "RXf2bTgtFAopEAho6PLvKC45udu5c0o+NI8VjkT3OuXwK0PMmZaBEXMmd4c5ovoh9p+paZB9bpKU\\\n",
              "fNQ+1n0LnjZnvr13jjnzpaHl5owkbXjtQnMmaWiDOePtzTRniqbY9/GPXiwyZySp4Zx2c8aXEjZn\\\n",
              "Ev0d5kzC7nRzpn1cozkjSe1BvzmT8lGCOROxRxRJiu6/2Pb+9vvp4nG/t43R2KafT39SwWBQmZn2\\\n",
              "fR29G0cAAQAAHEMBBAAAcAwFEAAAwDEUQAAAAMdQAAEAABxDAQQAAHAMBRAAAMAxFEAAAADHUAAB\\\n",
              "AAAcQwEEAABwDAUQAADAMRRAAAAAx0Rxamvg/+vIaVNcSvdfR6wdud48xozbSs0ZSQpfaM+kDwua\\\n",
              "M3Un+pszBa+3mDMHBiWZM5LUNLTdnPnX92eZM/n/7jdnIg/7zBlJ+tq035gzh5qzzJmd7UXmzMfN\\\n",
              "qeZMZLJ9v5OklLcD5sxfX/2mOfP81hJzpuQre82Zt38xxpyRpOSIPZP2pRpzZmBqoznz/rZic0aS\\\n",
              "ko7FmzNHmjJN23c0tZrHQN/BEUAAAADHUAABAAAcQwEEAABwDAUQAADAMRRAAAAAx1AAAQAAHEMB\\\n",
              "BAAAcAwFEAAAwDEUQAAAAMdQAAEAABxDAQQAAHAMBRAAAMAxPs/zvFhPAr1PKBRSIBDQRbP/RQmJ\\\n",
              "yd3O5d5TYR4rzhfdLrrjg2HmjD/DfnL0WcPfN2f21w80Z95/q8ickST/CfvrvOYh7fZxAi3mTPvh\\\n",
              "NHNGkiIpEXMmZWCTOeNP7DBntCnLHGmeUm8fR9KMYR+YM68cHGXO9H823ZxpDfjsmTlBc0aSOnb3\\\n",
              "M2fSJx43Z2pr7evgNSeYM5Lkz2o2Z1pPdP+5WJIizS06/M1lCgaDyszMNI+H3o0jgAAAAI6hAAIA\\\n",
              "ADiGAtgHrVixQhMnTlRGRoZycnI0b948lZeXd9mmpaVFpaWlGjBggNLT0zV//nzV1NTEaMYAAKAn\\\n",
              "UQD7oLKyMpWWlmr79u3atGmT2tvbNWPGDDU2NnZuc+edd+qFF17Qc889p7KyMlVVVenqq6+O4awB\\\n",
              "AEBPie7dqfhc27hxY5evV69erZycHO3atUtTpkxRMBjUT37yE61Zs0ZXXHGFJOmJJ57Queeeq+3b\\\n",
              "t+uiiy6KxbQBAEAP4QigA4LBk5+sy8o6+enEXbt2qb29XdOnT+/cZvTo0RoyZIi2bdt2yu/R2tqq\\\n",
              "UCjU5QIAAHonCmAfF4lEtHjxYl188cUaM2aMJKm6ulpJSUnq169fl21zc3NVXV19yu+zYsUKBQKB\\\n",
              "zkthYeHZnjoAADhLKIB9XGlpqfbu3auf/exnf9H3Wbp0qYLBYOelsrLyDM0QAAD0NN4D2IctWrRI\\\n",
              "GzZs0NatWzV48ODO6/Py8tTW1qa6urouRwFramqUl5d3yu/l9/vl9/vP9pQBAEAP4AhgH+R5nhYt\\\n",
              "WqS1a9fq1VdfVXFxcZfbJ0yYoMTERG3evLnzuvLych06dEiTJ0/u6ekCAIAexhHAPqi0tFRr1qzR\\\n",
              "+vXrlZGR0fm+vkAgoJSUFAUCAd18881asmSJsrKylJmZqTvuuEOTJ0/mE8AAADiAAtgHPfbYY5Kk\\\n",
              "qVOndrn+iSee0MKFCyVJP/jBDxQXF6f58+ertbVVM2fO1I9+9KMenikAAIgFn+d5Xqwngd4nFAop\\\n",
              "EAho6Le/o7jk7p+AfOiEw+axPm5KMWck6YpB+8yZtR+MN2cSEsLmjFduP6l8R3GLOSNJ8YdsJ4iX\\\n",
              "pMum7TFntpSNM2ciSdE9/WTut797pSPVPk77hfX2cT6037ep1T5zRpLqR7bbQ4n2NR825Kg5k5HY\\\n",
              "as4035NrzkjSkX+yr4P3Rn9zZsCXqsyZQ+XR/UwD3rbv4wvv2mDavrmhQ/dM/G8Fg0FlZmaax0Pv\\\n",
              "xnsAAQAAHEMBBAAAcAwFEAAAwDEUQAAAAMdQAAEAABxDAQQAAHAMBRAAAMAxFEAAAADHUAABAAAc\\\n",
              "QwEEAABwDAUQAADAMRRAAAAAx1AAAQAAHJMQ6wmgd+vo3664lPhub3/wt4PNYwz6qyPmjCS9c+t5\\\n",
              "5sy4739kzrz9/lBzRgPD5kjuS377OJKOX+CZM83hRHPG/7HPnAlMrTFnJKkqKducWXbFOnPml0fH\\\n",
              "mzPXnb/TnLn3rSvNGUkamNFszlyYU2nO/K62wJxJ+FbAnPl4TJo5I0kdu+z7Xtplx82Z+l/kmzMp\\\n",
              "Wfa5SVLRTb83Zx4vv9S0fbipVdJ/m8dB38ARQAAAAMdQAAEAABxDAQQAAHAMBRAAAMAxFEAAAADH\\\n",
              "UAABAAAcQwEEAABwDAUQAADAMRRAAAAAx1AAAQAAHEMBBAAAcAwFEAAAwDEJsZ4AereM95IU70/q\\\n",
              "9vbxV9Sax2j8mf0E7JL00TX2THiP/WT08Vmt5oxXnWzOjP/m78wZSfr1u18wZ363zp5pyYmYM1k+\\\n",
              "z5yRJCXZx4qTPVPx/DnmzP+9Kt6cKcgKmTOSVJAWNGf2hQaaM74f2zP7vtFhzpxTWGnOSFLoeJY5\\\n",
              "My67ypzZlpNtzuRO+cickaSv5f7WnLnn/a+Zto802/dV9B0cAQQAAHAMBRAAAMAxFEAAAADHUAAB\\\n",
              "AAAcQwEEAABwDAUQAADAMRRAAAAAx1AAAQAAHEMBBAAAcAwFEAAAwDEUQAAAAMdQAAEAAByTEOsJ\\\n",
              "oHfzX3Fc8an+bm9/7MP+9kG+2G7PSCosrDVnTmzON2f8v0sxZwZcZz/p/aad48wZSRr1kwZzZuxP\\\n",
              "3jJnfr5zojlTW2Zfb0mK7++ZM8u2XmUf6Dz7vndw/TBzpqkgYs5IUvyLA8yZQ18PmzNDb68yZ+J2\\\n",
              "DzJnDqVF8fwgKe69dHPmTX+hOdM8xL4/zMnfa85I0o8XzDNn4ko7jAnr9uhLOAIIAADgGAogAACA\\\n",
              "YyiAAAAAjqEAAgAAOIYCCAAA4BgKIAAAgGMogAAAAI6hAAIAADiGAggAAOAYCiAAAIBjKIAAAACO\\\n",
              "oQACAAA4JiHWE0DvlrAmSwmJyd3e3neJZx8kEm/PSKp+O8+cybj0uDnTHrbP78AO+4nofclRrJ2k\\\n",
              "iuszzZmk+lxzxtdqfz3p/zi6n6kjxZ5JOZpozqRfUWPOZA5rNWcqarLNGUka+/Bec+Zg2YXmTEVt\\\n",
              "gTmTVm3fH9K/0GTOSFLjBR3mTMOBgDkzanylOfOjHZebM5KUMi3JnInU29Yh0hw2j4G+gyOAAAAA\\\n",
              "jqEAAgAAOIYC2AetWLFCEydOVEZGhnJycjRv3jyVl5d32Wbq1Kny+XxdLrfddluMZgwAAHoSBbAP\\\n",
              "KisrU2lpqbZv365Nmzapvb1dM2bMUGNjY5ftbrnlFh05cqTz8tBDD8VoxgAAoCfxIZA+aOPGjV2+\\\n",
              "Xr16tXJycrRr1y5NmTKl8/rU1FTl5dk/KAEAAHo3jgA6IBgMSpKysrK6XP/UU08pOztbY8aM0dKl\\\n",
              "S9XUdPpP4LW2tioUCnW5AACA3okjgH1cJBLR4sWLdfHFF2vMmDGd199www0qKipSQUGB9uzZo3vu\\\n",
              "uUfl5eV6/vnnT/l9VqxYoeXLl/fUtAEAwFlEAezjSktLtXfvXr3++utdrr/11ls7/z127Fjl5+dr\\\n",
              "2rRpqqio0PDhwz/1fZYuXaolS5Z0fh0KhVRYaP9bdgAAIPYogH3YokWLtGHDBm3dulWDBw/+s9uW\\\n",
              "lJRIkvbv33/KAuj3++X3+8/KPAEAQM+iAPZBnufpjjvu0Nq1a7VlyxYVFxd/Zmb37t2SpPz8/LM8\\\n",
              "OwAAEGsUwD6otLRUa9as0fr165WRkaHq6mpJUiAQUEpKiioqKrRmzRrNmTNHAwYM0J49e3TnnXdq\\\n",
              "ypQpGjduXIxnDwAAzjYKYB/02GOPSTr5x57/2BNPPKGFCxcqKSlJr7zyilauXKnGxkYVFhZq/vz5\\\n",
              "uvfee2MwWwAA0NMogH2Q53l/9vbCwkKVlZX10GwAAMDnDQUQf5Ha8T7FJfu6vX2/oSfMYzS/OcCc\\\n",
              "kSSNrTdHguVZn73RnwinRcyZxCj+AuegrfZxJKnfnYfMmXffHmrODD63xpxZMGObOSNJvzo21px5\\\n",
              "t2yEOVN92L4/VP/511+nlHog0R6S9OKHE82ZzMruP14/saD0RXPmv34425z5Ys4Bc0aSQh0p5szm\\\n",
              "w2M+e6M/UVOfYc4UDPrYnJGk2ow0e6gu2bZ9fBQ7K/oM/hA0AACAYyiAAAAAjqEAAgAAOIYCCAAA\\\n",
              "4BgKIAAAgGMogAAAAI6hAAIAADiGAggAAOAYCiAAAIBjKIAAAACOoQACAAA4hgIIAADgmIRYTwC9\\\n",
              "W9roE4pP9Xd7+68O3W0e48cnLjZnJCnr5XRz5gs3v2vO1H7VPs7w9cfMmU0tE80ZSap+o9icSRzR\\\n",
              "YM7kpNabM+uPnm/OSFLlc8PMmazaiDnTeCLRnGm+sMmcCSfbx5GkWV9605x54a3zzZkXb51qzkQu\\\n",
              "8Jkzv3ylxJyRpKKXWs2ZuLn2+QUP9jNnfO/bx5GkjC/XmjPDBtoyHY2tOmweBX0FRwABAAAcQwEE\\\n",
              "AABwDAUQAADAMRRAAAAAx1AAAQAAHEMBBAAAcAwFEAAAwDEUQAAAAMdQAAEAABxDAQQAAHAMBRAA\\\n",
              "AMAxnAsYUfE8T5IUbrKdg7Olod08VqS5xZyRpHCbZ860N7aZMx0R+3lI26JYh3BLdOsQidjXwWuy\\\n",
              "jxXN2rVH7OfnlaRwm31+4Xb7WOFW+2vkSBRrp5boXotHsx9F83jq6Ihif22LYu1a7PuqJHV02B+D\\\n",
              "kRb7/hCJN0cUbovuXMAyPrdKUodsmY6mk4/ZT57P4Rafxz2PKBw+fFiFhYWxngYA4C9UWVmpwYMH\\\n",
              "x3oa6GEUQEQlEomoqqpKGRkZ8vm6vsINhUIqLCxUZWWlMjMzYzTD2GMdTmIdTmIdTmIdTvo8rIPn\\\n",
              "eaqvr1dBQYHi4nhHmGv4FTCiEhcX95mvGDMzM51+gv8E63AS63AS63AS63BSrNchEAjEbGzEFpUf\\\n",
              "AADAMRRAAAAAx1AAccb5/X4tW7ZMfr8/1lOJKdbhJNbhJNbhJNbhJNYBscaHQAAAABzDEUAAAADH\\\n",
              "UAABAAAcQwEEAABwDAUQAADAMRRAnFGrVq3S0KFDlZycrJKSEu3cuTPWU+pRDzzwgHw+X5fL6NGj\\\n",
              "Yz2tHrF161bNnTtXBQUF8vl8WrduXZfbPc/T/fffr/z8fKWkpGj69Onat29fbCZ7Fn3WOixcuPBT\\\n",
              "+8isWbNiM9mzZMWKFZo4caIyMjKUk5OjefPmqby8vMs2LS0tKi0t1YABA5Senq758+erpqYmRjM+\\\n",
              "O7qzDlOnTv3U/nDbbbfFaMZwCQUQZ8wzzzyjJUuWaNmyZXrrrbc0fvx4zZw5U0ePHo311HrUeeed\\\n",
              "pyNHjnReXn/99VhPqUc0NjZq/PjxWrVq1Slvf+ihh/TII4/o8ccf144dO5SWlqaZM2eqpaWlh2d6\\\n",
              "dn3WOkjSrFmzuuwjTz/9dA/O8OwrKytTaWmptm/frk2bNqm9vV0zZsxQY2Nj5zZ33nmnXnjhBT33\\\n",
              "3HMqKytTVVWVrr766hjO+szrzjpI0i233NJlf3jooYdiNGM4xQPOkEmTJnmlpaWdX4fDYa+goMBb\\\n",
              "sWJFDGfVs5YtW+aNHz8+1tOIOUne2rVrO7+ORCJeXl6e9/DDD3deV1dX5/n9fu/pp5+OwQx7xp+u\\\n",
              "g+d53oIFC7wrr7wyJvOJlaNHj3qSvLKyMs/zTt73iYmJ3nPPPde5zfvvv+9J8rZt2xaraZ51f7oO\\\n",
              "nud5l112mffNb34zdpOCszgCiDOira1Nu3bt0vTp0zuvi4uL0/Tp07Vt27YYzqzn7du3TwUFBRo2\\\n",
              "bJhuvPFGHTp0KNZTirkDBw6ourq6y/4RCARUUlLi3P4hSVu2bFFOTo5GjRql22+/XbW1tbGe0lkV\\\n",
              "DAYlSVlZWZKkXbt2qb29vcv+MHr0aA0ZMqRP7w9/ug6feOqpp5Sdna0xY8Zo6dKlampqisX04JiE\\\n",
              "WE8AfcPx48cVDoeVm5vb5frc3Fx98MEHMZpVzyspKdHq1as1atQoHTlyRMuXL9ell16qvXv3KiMj\\\n",
              "I9bTi5nq6mpJOuX+8cltrpg1a5auvvpqFRcXq6KiQt/61rc0e/Zsbdu2TfHx8bGe3hkXiUS0ePFi\\\n",
              "XXzxxRozZoykk/tDUlKS+vXr12Xbvrw/nGodJOmGG25QUVGRCgoKtGfPHt1zzz0qLy/X888/H8PZ\\\n",
              "wgUUQOAMmj17due/x40bp5KSEhUVFenZZ5/VzTffHMOZ4fPiuuuu6/z32LFjNW7cOA0fPlxbtmzR\\\n",
              "tGnTYjizs6O0tFR79+515r2wp3O6dbj11ls7/z127Fjl5+dr2rRpqqio0PDhw3t6mnAIvwLGGZGd\\\n",
              "na34+PhPfYqvpqZGeXl5MZpV7PXr108jR47U/v37Yz2VmPpkH2D/+LRhw4YpOzu7T+4jixYt0oYN\\\n",
              "G/Taa69p8ODBndfn5eWpra1NdXV1Xbbvq/vD6dbhVEpKSiSpT+4P+HyhAOKMSEpK0oQJE7R58+bO\\\n",
              "6yKRiDZv3qzJkyfHcGax1dDQoIqKCuXn58d6KjFVXFysvLy8LvtHKBTSjh07nN4/JOnw4cOqra3t\\\n",
              "U/uI53latGiR1q5dq1dffVXFxcVdbp8wYYISExO77A/l5eU6dOhQn9ofPmsdTmX37t2S1Kf2B3w+\\\n",
              "8StgnDFLlizRggULdOGFF2rSpElauXKlGhsbddNNN8V6aj3mrrvu0ty5c1VUVKSqqiotW7ZM8fHx\\\n",
              "uv7662M9tbOuoaGhy1GLAwcOaPfu3crKytKQIUO0ePFiPfjggzrnnHNUXFys++67TwUFBZo3b17s\\\n",
              "Jn0W/Ll1yMrK0vLlyzV//nzl5eWpoqJCd999t0aMGKGZM2fGcNZnVmlpqdasWaP169crIyOj8319\\\n",
              "gUBAKSkpCgQCuvnmm7VkyRJlZWUpMzNTd9xxhyZPnqyLLrooxrM/cz5rHSoqKrRmzRrNmTNHAwYM\\\n",
              "0J49e3TnnXdqypQpGjduXIxnjz4v1h9DRt/y6KOPekOGDPGSkpK8SZMmedu3b4/1lHrUtdde6+Xn\\\n",
              "53tJSUneoEGDvGuvvdbbv39/rKfVI1577TVP0qcuCxYs8Dzv5J+Cue+++7zc3FzP7/d706ZN88rL\\\n",
              "y2M76bPgz61DU1OTN2PGDG/gwIFeYmKiV1RU5N1yyy1edXV1rKd9Rp3q55fkPfHEE53bNDc3e9/4\\\n",
              "xje8/v37e6mpqd5VV13lHTlyJHaTPgs+ax0OHTrkTZkyxcvKyvL8fr83YsQI7x//8R+9YDAY24nD\\\n",
              "CT7P87yeLJwAAACILd4DCAAA4BgKIAAAgGMogAAAAI6hAAIAADiGAggAAOAYCiAAAIBjKIAAAACO\\\n",
              "oQACAAA4hgIIAADgGAogAACAYyiAAAAAjqEAAgAAOIYCCAAA4BgKIAAAgGMogAAAAI6hAAIAADiG\\\n",
              "AggAAOAYCiAAAIBjKIAAAACOoQACAAA4hgIIAADgGAogAACAYyiAAAAAjqEAAgAAOIYCCAAA4BgK\\\n",
              "IAAAgGMogAAAAI6hAAIAADiGAggAAOAYCiAAAIBjKIAAAACO+X84RCDUK9ypFQAAAABJRU5ErkJg\\\n",
              "gg==\\\n",
              "\"\n",
              "  frames[2] = \"data:image/png;base64,iVBORw0KGgoAAAANSUhEUgAAAoAAAAHgCAYAAAA10dzkAAAAOXRFWHRTb2Z0d2FyZQBNYXRwbG90\\\n",
              "bGliIHZlcnNpb24zLjcuMSwgaHR0cHM6Ly9tYXRwbG90bGliLm9yZy/bCgiHAAAACXBIWXMAAA9h\\\n",
              "AAAPYQGoP6dpAAAu5ElEQVR4nO3de3iU9Z338c9kkkwSkgyEkJMkEA6CcrIiRKogCstpi6K06+l5\\\n",
              "CtbF1Q1ukbV60a1SWneztSfXLtXuPq1sd8WquwJVW1ZECVoBFaUUxUhSlCAkSCAzOR9m7ucP1lyb\\\n",
              "ijXfKWRMfu/Xdc11weT34f7mnjvDJ3dmcvs8z/MEAAAAZyTEewAAAAD0LgogAACAYyiAAAAAjqEA\\\n",
              "AgAAOIYCCAAA4BgKIAAAgGMogAAAAI6hAAIAADiGAggAAOAYCiAAAIBjKIAAAACOoQACAAA4hgII\\\n",
              "AADgGAogAACAYyiAAAAAjqEAAgAAOIYCCAAA4BgKIAAAgGMogAAAAI6hAAIAADiGAggAAOAYCiAA\\\n",
              "AIBjKIAAAACOoQACAAA4hgIIAADgGAogAACAYyiAAAAAjqEAAgAAOIYCCAAA4BgKIAAAgGMogAAA\\\n",
              "AI6hAAIAADiGAggAAOAYCiAAAIBjKIAAAACOoQACAAA4hgIIAADgGAogAACAYyiAAAAAjqEAAgAA\\\n",
              "OIYCCAAA4BgKIAAAgGMogAAAAI6hAAIAADiGAggAAOAYCiAAAIBjKIAAAACOoQACAAA4hgIIAADg\\\n",
              "GAogAACAYyiAAAAAjqEAAgAAOIYCCAAA4BgKIAAAgGMogAAAAI6hAAIAADgmMd4DoG+KRqM6cuSI\\\n",
              "MjIy5PP54j0OAMDI8zw1NDSooKBACQmcD3INBRAxOXLkiAoLC+M9BgDgT1RdXa2hQ4fGewz0Mgog\\\n",
              "YpKRkSFJGvrgXUpIDfQ4F21KMm8rMew3ZyRp6dwXzJnyW6eYMwcXZZgzGe+ZIzo5td0ekpSW2WbO\\\n",
              "ZGxIN2dOLGgxZ9LTW80ZSRo96Lg5s+fFMeZMwnlhc8a3J9OcaSnqMGckKXO//eupJdczZyIp9kzy\\\n",
              "SfsZpRGXv2fOSNK7rw4zZ379pX8yZxbsXGbOpKTG9tg2fDjAnAnmNJrWR5rb9M5XHux6PodbKICO\\\n",
              "W7t2rb773e+qpqZGkyZN0o9+9CNNnTr1U3Mf/dg3ITWghLSUnm8wav8PK6E9tgKYkm4/vBP9PS+z\\\n",
              "H0lIMXz+/8OfbI4oITW2H9H40+yZxCT755SQZi8J/hgykpQ0wL4D/TE8Tglp9tLtC8SwndTYjnF/\\\n",
              "IIavpxjKnBdDxh+wH6+xPK5SbF+DGRn2+UzPdf/DH+PXbUJqDNtKi61s8jIeN/FDf4c9/vjjWrly\\\n",
              "pVavXq033nhDkyZN0ty5c3Xs2LF4jwYAAM4iCqDDfvCDH2jZsmW66aabdP755+vhhx9WWlqafvaz\\\n",
              "n8V7NAAAcBZRAB3V3t6u3bt3a/bs2V33JSQkaPbs2dqxY8fH1re1tSkcDne7AQCAvokC6Kjjx48r\\\n",
              "EokoNze32/25ubmqqan52PqysjIFg8GuG+8ABgCg76IAokdWrVqlUCjUdauuro73SAAAIEa8C9hR\\\n",
              "2dnZ8vv9qq2t7XZ/bW2t8vLyPrY+EAgoELC/QxYAAHz2cAbQUcnJyZo8ebK2bt3adV80GtXWrVs1\\\n",
              "bdq0OE4GAADONs4AOmzlypVasmSJLrroIk2dOlUPPPCAmpqadNNNN8V7NAAAcBZRAB127bXX6sMP\\\n",
              "P9S9996rmpoaXXDBBdq8efPH3hgCAAD6F5/nebH9Kn44LRwOKxgM6rbtVyuQ3vOrEWx86dOvMvKH\\\n",
              "UgobzBlJaq+yX5IrWGHfTt2UiDkz6bz3zZnKX400ZyQpq6LTnKkfaf/eMHC5/fJsJ07aL3clSZ8b\\\n",
              "bn8T0pu7R5kz/lz75e08z35VhaFDTpozkvT+2/nmTHK9/ZU/HSPs+2Fwlu2yZJLU0Gy/+oUktX6Y\\\n",
              "as74Ynicip6NmjPvLzJHJEnJQfslHId/3/bfeWdnq7btLlMoFFJmpv35En0brwEEAABwDAUQAADA\\\n",
              "MRRAAAAAx1AAAQAAHEMBBAAAcAwFEAAAwDEUQAAAAMdQAAEAABxDAQQAAHAMBRAAAMAxFEAAAADH\\\n",
              "UAABAAAcY7/iO/C/PH9ojPxpgR6vzxnzoXkbdfXp5owkJXTYM5GA/QLxgawWc6bihZHmTMrnT5gz\\\n",
              "kjTy6g/MmWPXDjRn6mb1/Dj4yOTiQ+aMJO3/MNec8Qa1mzP+xKg5E4nYj6Fj4diO8eJxR8yZwzvO\\\n",
              "MWei7X5z5nhdhjkzIKPVnJGktGr7f2XL/s+vzJl/bp1nznxv5npzRpK+8w83mjMHSttM66MtEemv\\\n",
              "zJtBP8EZQAAAAMdQAAEAABxDAQQAAHAMBRAAAMAxFEAAAADHUAABAAAcQwEEAABwDAUQAADAMRRA\\\n",
              "AAAAx1AAAQAAHEMBBAAAcAwFEAAAwDEUQAAAAMckxnsA9G0JCZ4SErwer/98zkHzNja9NdWckaSs\\\n",
              "C46bM3d+6Tlz5u823GDO5P+205xpuihqzkjSzl9NMGfavtVqzvjeTTZnmj7IMWckad71O8yZE+0D\\\n",
              "zJmXt9j3XWdRmznj359uzkhS4pq3zJmkpzLMmT8rrDRndv7kQnMm+037vpOkg3c1mjM/eWKBORNo\\\n",
              "N0d05wvX2UOSNM3+HOGrN34NtsT2nIL+gTOAAAAAjqEAAgAAOIYCCAAA4BgKIAAAgGMogAAAAI6h\\\n",
              "AAIAADiGAggAAOAYCiAAAIBjKIAAAACOoQACAAA4hgIIAADgGAogAACAYxLjPQD6Nu+1oLxASo/X\\\n",
              "70odbt9GXmwXiI9uyDZnVs+90pwZOeWQOROa2PN99pH6/UPMGUlK8tszvpPGi8pL8hI8c+biL/7W\\\n",
              "nJGkt0L55sz7W4abMynN5oiKPv+hOXOoeqh9Q5Iqf3ixOZP5vP37/mfHTzJnCr9UY840ftFnzkhS\\\n",
              "5K0cc2bkk8fNmf1/m2nOZO6zfy1JUnOu/evJs36td8S2v9E/cAYQAADAMRRAAAAAx1AAAQAAHEMB\\\n",
              "BAAAcAwFEAAAwDEUQAAAAMdQAAEAABxDAQQAAHAMBRAAAMAxFEAAAADHUAABAAAcQwEEAABwTGK8\\\n",
              "B0DfdsN1W5WS3vPD6NGfzDVvI2VmyJyRpGv+5hVz5pHNV5gzNS9lmDOdqeaIlBeNISS1Z0XMGf/g\\\n",
              "NnMmWptizrxYea45I0nFD9szUftDq2iSPfNe7WBzJrnJZ9+QpEiKZ850ptu3M+LcGnPmxMah5kzo\\\n",
              "XPuxKkn+Dvv+q7re/jjdOPllc+bZ7HHmjCQld/rNmaRtQdP6SFtsxx36B84AAgAAOIYCCAAA4BgK\\\n",
              "oKO++c1vyufzdbuNHTs23mMBAIBewGsAHTZu3Dg9//zzXX9PTORwAADABfyP77DExETl5eXFewwA\\\n",
              "ANDL+BGwww4cOKCCggKNGDFCN954ow4dOvSJa9va2hQOh7vdAABA30QBdFRJSYnWrVunzZs366GH\\\n",
              "HtLBgwc1ffp0NTQ0nHZ9WVmZgsFg162wsLCXJwYAAGcKBdBR8+fP15e+9CVNnDhRc+fO1a9+9SvV\\\n",
              "19friSeeOO36VatWKRQKdd2qq6t7eWIAAHCm8BpASJIGDhyoc889V5WVlaf9eCAQUCAQ6OWpAADA\\\n",
              "2cAZQEiSGhsbVVVVpfz8/HiPAgAAzjIKoKPuvPNOlZeX67333tMrr7yiq6++Wn6/X9dff328RwMA\\\n",
              "AGcZPwJ21OHDh3X99derrq5OQ4YM0aWXXqqdO3dqyJAh8R4NAACcZT7P8+xXE4fzwuGwgsGght33\\\n",
              "90pISelxLqHDvq1hv261hyRVftn+/c2a6RvMme/un2POBH5lu2i7JJ2YFDVnJMlLsufO2WL/4cAH\\\n",
              "CyLmjM8f2+eUmt5mzhT+o/1zOvJ3nebM0lG7zJn9TbG99OLVX0wyZ0Zf864580bVMHNmyAvJ5kzm\\\n",
              "ksPmjCQNTz9hzux6wr7vopeEzJn2ikxzRpKSwj5zJrHkpGl9pLlN+6+/X6FQSJmZsc2JvosfAQMA\\\n",
              "ADiGAggAAOAYCiAAAIBjKIAAAACOoQACAAA4hgIIAADgGAogAACAYyiAAAAAjqEAAgAAOIYCCAAA\\\n",
              "4BgKIAAAgGMogAAAAI5JjPcA6Nv8bVKC4Zrl+VOP2jfy60H2jKTrL9plzqx5faE5k/bbVHMmEjBH\\\n",
              "dO5PG+0hSe9+Jd2cSbyl1pxJeaXAnMl6K2LOSFL96BRzZu1/3m/OfHn/l82ZR9bNM2c8vzkiSWoa\\\n",
              "02nO/G7baPuGhrWZIx+WRM2Zlgb7sSpJTf9yjjnzrft+bs6s2nO1OTN79pvmjCSFO+zH+PHWAab1\\\n",
              "nf427TdvBf0FZwABAAAcQwEEAABwDAUQAADAMRRAAAAAx1AAAQAAHEMBBAAAcAwFEAAAwDEUQAAA\\\n",
              "AMdQAAEAABxDAQQAAHAMBRAAAMAxFEAAAADHUAABAAAckxjvAdC3DTgs+ZN7vv7EiQLzNryV9eaM\\\n",
              "JD325lRzZv6EfebMr9vGmzPnDq8xZw4NKjJnJGn55ZvNmafvnGXORJY0mTO16anmjCRFAxFzZv4r\\\n",
              "pebMvNFvmzP/PTDXnOkYFDVnJEmJ9lxSk/1pv73Tfq4g+YQ905adZM5I0rS//a05c9d//V9zJrHJ\\\n",
              "Z8481zHWnJGkrOfsXxvNV4ZN6yPNbeZtoP/gDCAAAIBjKIAAAACOoQACAAA4hgIIAADgGAogAACA\\\n",
              "YyiAAAAAjqEAAgAAOIYCCAAA4BgKIAAAgGMogAAAAI6hAAIAADiGAggAAOAYn+d5XryHQN8TDocV\\\n",
              "DAb1vdcuUWp6zy8u/4uvLTBv64bvPWvOSNK/fP8qcyYSsF/s3fObI/rcDb8zZxJ9UfuGJOUGbBeI\\\n",
              "l6SoZ98PT/3yUnOmIzO2z2nIbnumdnrEnAkMajVnnrv4IXPmruorzRlJerVyuDlT8HSSOZP31Spz\\\n",
              "5u3N55ozwUtrzRlJatiWa840F9mPh6w37OdMst5uNmckyXdfnTlz4HCOaX20pVXVf/UthUIhZWZm\\\n",
              "mreHvo0zgAAAAI6hAAIAADiGAggAAOAYCiAAAIBjKIAAAACOoQACAAA4hgIIAADgGAogAACAYyiA\\\n",
              "AAAAjqEAAgAAOIYCCAAA4BgKIAAAgGMS4z0A+rZnaycosTHQ4/Xvx3DN++8/dZU9JClyRYs5k5Rk\\\n",
              "v0B8xrPp5sxLvxlnzkSz280ZSbqguNqc+f1/jjZnLrrubXPm9S3nmzOS1JHmmTO+dvv3u94B+2O7\\\n",
              "OO0r5kysBryVYs40DLVvx3twpDkz8643zJkL0g+ZM5L0j+csNGcG/s5+PESuPGnOvDdqkDkjSRcE\\\n",
              "DpszvpPJtvWtUfM20H9wBhAAAMAxFEAAAADHUAD7oe3bt2vhwoUqKCiQz+fTxo0bu33c8zzde++9\\\n",
              "ys/PV2pqqmbPnq0DBw7EZ1gAANDrKID9UFNTkyZNmqS1a9ee9uP333+/HnzwQT388MPatWuXBgwY\\\n",
              "oLlz56q1tbWXJwUAAPHAm0D6ofnz52v+/Pmn/ZjneXrggQf0jW98Q1ddderNFT//+c+Vm5urjRs3\\\n",
              "6rrrruvNUQEAQBxwBtAxBw8eVE1NjWbPnt11XzAYVElJiXbs2PGJuba2NoXD4W43AADQN1EAHVNT\\\n",
              "UyNJys3N7XZ/bm5u18dOp6ysTMFgsOtWWFh4VucEAABnDwUQPbJq1SqFQqGuW3W1/XfLAQCAzwYK\\\n",
              "oGPy8vIkSbW1td3ur62t7frY6QQCAWVmZna7AQCAvokC6Jji4mLl5eVp69atXfeFw2Ht2rVL06ZN\\\n",
              "i+NkAACgt/Au4H6osbFRlZWVXX8/ePCg9uzZo6ysLBUVFWnFihW67777NHr0aBUXF+uee+5RQUGB\\\n",
              "Fi1aFL+hAQBAr6EA9kOvv/66Lr/88q6/r1y5UpK0ZMkSrVu3TnfddZeampp0yy23qL6+Xpdeeqk2\\\n",
              "b96slBT7dUUBAEDf4/M8z35VdTgvHA6fejfwT+5VQmrPi+M3S35p3tZ9G79kzkjSgj97zZzZWTvc\\\n",
              "nGndnGPPXNpgzgxMbzFnJCn8in2+ARcfN2d8PvtTyYcfDDRnJGnhhXvMmaffuMCcCQy0/3L0aNRn\\\n",
              "ziS8O8CckaS0I/ZM42XN5kziPvt8neObzJm8xwPmjCR9MNP+aqbA0Eb7hvbYX/vcMrTTvh1JmXn2\\\n",
              "5wiVDzItj7S1av/arysUCvG6bgfxGkAAAADHUAABAAAcQwEEAABwDAUQAADAMRRAAAAAx1AAAQAA\\\n",
              "HEMBBAAAcAwFEAAAwDEUQAAAAMdQAAEAABxDAQQAAHAMBRAAAMAxFEAAAADHJMZ7APRt44qOKmlA\\\n",
              "co/Xf/uNL5i3kdBhjkiStj4+1ZwJnPDMmdY5DebMRUOrzZnXqovMGUlSqv1zSk7sNGdq64LmTGpW\\\n",
              "izkjSfUdqebM0F/bv99tKMwwZwIn7fv7+GR7RpIak33mTEcoYM+MbDdncoNN5ky4aIA5I0m+jhi+\\\n",
              "bo/at5Uew+GamWd/fpCkxsYUe6goaloebbWtR//CGUAAAADHUAABAAAcQwEEAABwDAUQAADAMRRA\\\n",
              "AAAAx1AAAQAAHEMBBAAAcAwFEAAAwDEUQAAAAMdQAAEAABxDAQQAAHAMBRAAAMAxifEeAH3bW3uH\\\n",
              "KSHVcNFyv/2i7dHhreaMJEWO2S96n1rrM2f8ezLMmd+ER5kzCSkRc0aSst+xZ6Jv5ZgzqQX27yfb\\\n",
              "B8ZwwXtJh342xpxZ+v1N5sx92xeaMyN/YX+cjl1hP+4kSV6SORLIarFvxrPP11huP4aaxneYM5IU\\\n",
              "GGh/jvAq0s2ZwfM+MGfePzrYnJGkYLDZnGl7J9W0PtLGOSCX8egDAAA4hgIIAADgGAogAACAYyiA\\\n",
              "AAAAjqEAAgAAOIYCCAAA4BgKIAAAgGMogAAAAI6hAAIAADiGAggAAOAYCiAAAIBjKIAAAACOSYz3\\\n",
              "AOjbvJSIvJRIj9enfGC/eH1rcmyHaUJumzmTc1ONOfP7rcXmTGFhnTlz/KV8c0aSjl3Wbs7c+fn/\\\n",
              "NmfWvn2ZOTPiy783ZyTpnR+MN2fu23alOZN00m/OFPxDhTkTfnicOSNJwfdazZmqm5LNmcvGvmvO\\\n",
              "vHzQ/hh9ueQVc0aSnvvOdHOmKd9nztTUZ5ozAzLsj5EkNTSmmjOFl31gWt/Z1KZK81bQX3AGEAAA\\\n",
              "wDEUQAAAAMdQAAEAABxDAQQAAHAMBRAAAMAxFEAAAADHUAABAAAcQwEEAABwDAUQAADAMRRAAAAA\\\n",
              "x1AAAQAAHEMBBAAAcExivAdA3+YLROULRHu8PprkmbeR+XaSOSNJkRR7rqqy2JzJquj55/+R8xbW\\\n",
              "mDMvefnmjCRlvWbfD08N/5w5M+DZDHPmne+PN2ckKemE35wZOOm4OdOWb3+KfOXlceZMZEaHOSNJ\\\n",
              "zXmp9lBDxBz5zTb745Q96Zg58x8vTDdnJCnhC63mjPeBfd9lbxxgziR/udackaTmxoA5k5hgfC6y\\\n",
              "rke/whlAAAAAx1AAAQAAHEMB7Ie2b9+uhQsXqqCgQD6fTxs3buz28aVLl8rn83W7zZs3Lz7DAgCA\\\n",
              "XkcB7Ieampo0adIkrV279hPXzJs3T0ePHu26PfbYY704IQAAiCfeBNIPzZ8/X/Pnz/+jawKBgPLy\\\n",
              "8nppIgAA8FnCGUBHbdu2TTk5ORozZoxuu+021dXV/dH1bW1tCofD3W4AAKBvogA6aN68efr5z3+u\\\n",
              "rVu36jvf+Y7Ky8s1f/58RSKf/OshysrKFAwGu26FhYW9ODEAADiT+BGwg6677rquP0+YMEETJ07U\\\n",
              "yJEjtW3bNs2aNeu0mVWrVmnlypVdfw+Hw5RAAAD6KM4AQiNGjFB2drYqKys/cU0gEFBmZma3GwAA\\\n",
              "6JsogNDhw4dVV1en/PzYrjQBAAD6Fn4E3A81NjZ2O5t38OBB7dmzR1lZWcrKytKaNWu0ePFi5eXl\\\n",
              "qaqqSnfddZdGjRqluXPnxnFqAADQWyiA/dDrr7+uyy+/vOvvH712b8mSJXrooYe0d+9e/du//Zvq\\\n",
              "6+tVUFCgOXPm6Nvf/rYCAfu1JwEAQN/j8zzPi/cQ6HvC4bCCwaBG3/kP8gdSepwbMvOIeVuNj8f4\\\n",
              "o2mfPdKcZw8lXnTSnMl41P4aytqSGD4hSYHiBnMmqTxozgx5s8WcqfpibN90JHTYM6Mete+Hd29K\\\n",
              "N2eKNkfNmeo5fnNGki4peducqW22H3sHDueYM16H/RVGSceTzBlJGr6p2Zw5eHWaOZN2xP41GB7T\\\n",
              "ac5Iki/NnvNabOd0oi2tOrziXoVCIV7X7SBeAwgAAOAYCiAAAIBjKIAAAACOoQACAAA4hgIIAADg\\\n",
              "GAogAACAYyiAAAAAjqEAAgAAOIYCCAAA4BgKIAAAgGMogAAAAI6hAAIAADiGAggAAOCYxHgPgL6t\\\n",
              "47xmRdKiPV5fXTvIvI20L4TMGUnK+EWmOdMw3L6d1sP27XjFfnNmwczXzBlJqmwYYs78Ptv+OdWU\\\n",
              "pJoz6cNOmjOS1HQwaM68t8r+/a53wjNn6s5PMme+NmeTOSNJP/jlleZM3s6IORO8KWzONFQONGey\\\n",
              "37Tvb0n66r8/bs784L055kzbRPt/mS17cs0ZSbrx8y+bM/+x+TLT+mir/XkI/QdnAAEAABxDAQQA\\\n",
              "AHAMBRAAAMAxFEAAAADHUAABAAAcQwEEAABwDAUQAADAMRRAAAAAx1AAAQAAHEMBBAAAcAwFEAAA\\\n",
              "wDEUQAAAAMf4PM+L7erbcFo4HFYwGNTwNX+vhJSUHufGXPyeeVstnUnmjCTVbhlqzrQH7V8OQ/bY\\\n",
              "M+Ei+/dezUOj5owkBers21pxw0Zz5p/evtycubyo0pyRpP9+8UJzJnlk2JzpfDvTnBk9/T1z5tAv\\\n",
              "i80ZSWoY22EPJdmPo6RU+3aS30w3Z1omtJgzkhRt9Zszqe8l27eTbP9ajwTMkVO5dPvjdPnkt0zr\\\n",
              "2xvbtX7WeoVCIWVm2o919G2cAQQAAHAMBRAAAMAxFEAAAADHUAABAAAcQwEEAABwDAUQAADAMRRA\\\n",
              "AAAAx1AAAQAAHEMBBAAAcAwFEAAAwDEUQAAAAMdQAAEAAByTGO8B0LdF81ultJ6vf3TUU+ZtXHnr\\\n",
              "V80ZSYpMtmeCE+vMmZPN2eZM3s42c+ZQfpI5I0ktBZ3mzANvXWHOnPNP9vkSH4iYM5K0ZN6L5kx1\\\n",
              "6yBz5je+EeZMXYvhC+J/dExrMGckKe2NDHNm3hd3mjMbfjPFnLnwynfMmbefGmvOSJI8eyRwxXFz\\\n",
              "pjDzpDmz7zejzBlJCnzoN2d+3zDYtL6zyf48hP6DM4AAAACOoQACAAA4hgIIAADgGAogAACAYyiA\\\n",
              "AAAAjqEAAgAAOIYCCAAA4BgKIAAAgGMogAAAAI6hAAIAADiGAggAAOAYCiAAAIBjfJ7nxXAZbbgu\\\n",
              "HA4rGAyq5M+/pcSklB7ncu78/Vmcqrvd7xSbM4Fgqzkzb+R+c+adUK45c+C3heaMJAVO2L/Pazmn\\\n",
              "05xJGdxiznS8P8CckaRIWtScSR5sf2wDgQ5zxr9lkDnTNL3RnJGkBaPfNme2vDfGnBn0WLo505Zp\\\n",
              "P+6a/zxszkiStydozgwoOW7O1NXZ94PXnGjOSFJylv14bT/Z8+diSYq2tOrwinsVCoWUmZlp3h76\\\n",
              "Ns4AAgAAOIYCCAAA4BgKYD9UVlamKVOmKCMjQzk5OVq0aJEqKiq6rWltbVVpaakGDx6s9PR0LV68\\\n",
              "WLW1tXGaGAAA9CYKYD9UXl6u0tJS7dy5U1u2bFFHR4fmzJmjpqamrjV33HGHnn76aT355JMqLy/X\\\n",
              "kSNHdM0118RxagAA0Ftie3UqPtM2b97c7e/r1q1TTk6Odu/erRkzZigUCumnP/2p1q9fryuuuEKS\\\n",
              "9Mgjj+i8887Tzp07dfHFF8djbAAA0Es4A+iAUCgkScrKypIk7d69Wx0dHZo9e3bXmrFjx6qoqEg7\\\n",
              "duw47b/R1tamcDjc7QYAAPomCmA/F41GtWLFCl1yySUaP368JKmmpkbJyckaOHBgt7W5ubmqqak5\\\n",
              "7b9TVlamYDDYdSssjO1XkgAAgPijAPZzpaWl2rdvn37xi1/8Sf/OqlWrFAqFum7V1dVnaEIAANDb\\\n",
              "eA1gP7Z8+XI988wz2r59u4YOHdp1f15entrb21VfX9/tLGBtba3y8vJO+28FAgEFAoGzPTIAAOgF\\\n",
              "nAHshzzP0/Lly7Vhwwa98MILKi7ufkWMyZMnKykpSVu3bu26r6KiQocOHdK0adN6e1wAANDLOAPY\\\n",
              "D5WWlmr9+vXatGmTMjIyul7XFwwGlZqaqmAwqJtvvlkrV65UVlaWMjMzdfvtt2vatGm8AxgAAAdQ\\\n",
              "APuhhx56SJI0c+bMbvc/8sgjWrp0qSTphz/8oRISErR48WK1tbVp7ty5+vGPf9zLkwIAgHjweZ7n\\\n",
              "xXsI9D3hcFjBYFDFa/5eCSk9vwB53udO/y7jP6ahNbbXHk4/p8qceeatCeZMcmqHOROtsl9UPlpk\\\n",
              "vzi8JCVU2y4QL0nTZ/7OnNm+zb7voimxPf1kVNlfvdKZZt9O5KIGc6b98ABzZsDh2F6N0zjJfkx4\\\n",
              "HfZtnTfiiDmTlthuzjT8bb45I0lHv95pD700yBzJmmvfD4cqcs0ZScrebX+c/vLuTab1LY2dWnnR\\\n",
              "KwqFQsrMzDRvD30brwEEAABwDAUQAADAMRRAAAAAx1AAAQAAHEMBBAAAcAwFEAAAwDEUQAAAAMdQ\\\n",
              "AAEAABxDAQQAAHAMBRAAAMAxFEAAAADHUAABAAAcQwEEAABwTGK8B0Df1jG4Qwmp/h6vr301z7yN\\\n",
              "IVNqzRlJenfZuebMZQ8dMGe27R1rzvgyo+bM4OdTzBlJCo+yZzo8+/eGKSd85syAmR+aM5J0LGmw\\\n",
              "OfN3V2wyZ54+NsmcuW7iq+bMvW9cac5I0uCMFnNmSu4hc2bfiXxzxlsRNGfqpqabM5LU+Zr92AvO\\\n",
              "tj+vNPynfT+kDbLPJklDv2J/LvrnistM6yPNbZJeMW8H/QNnAAEAABxDAQQAAHAMBRAAAMAxFEAA\\\n",
              "AADHUAABAAAcQwEEAABwDAUQAADAMRRAAAAAx1AAAQAAHEMBBAAAcAwFEAAAwDEUQAAAAMckxnsA\\\n",
              "9G0Z+5PlDyT3eL3/8jrzNlqfzDVnJKn2envm3dfPN2f8WW3mjFeTYs5ceNsec0aSnnvL/jm9+dR4\\\n",
              "c6YlN2rODPJHzBlJ8lLsOb/PPt/BjSPNmfWLfOZMweCQOSNJBQPsuQPhIeZM9F9zzJmKOzrNmdGF\\\n",
              "1eaMJDXWDTJnzh9Ua87syLU/F+XO+MCckaTr8l41Z+5+5y9M66MtVACXcQYQAADAMRRAAAAAx1AA\\\n",
              "AQAAHEMBBAAAcAwFEAAAwDEUQAAAAMdQAAEAABxDAQQAAHAMBRAAAMAxFEAAAADHUAABAAAcQwEE\\\n",
              "AABwDFeCxp8k9fIP5R8Q6PH62kNZ9o18vsOekVRwzglzpnFznjmT1JRqzmT8xRFz5rnXJ5gzkjTm\\\n",
              "Z83mzKR/3W3OPLFnsjlz/KV8c0aS/AOj5sya8qvsGzrffuy9v2GEOdNUaP98JMn/7GBz5v2/jJgz\\\n",
              "xbfZj1f/a0PNmer0geaMJOmddHNkb1qBOdNSZD8eFuTvM2ck6f8tWWTOJP1Nu2l91G9bj/6FM4AA\\\n",
              "AACOoQACAAA4hgIIAADgGAogAACAYyiAAAAAjqEAAgAAOIYCCAAA4BgKIAAAgGMogAAAAI6hAAIA\\\n",
              "ADiGAggAAOAYCiAAAIBjEuM9APo2/79nKTEppcfrfZfFsJEOfwwh6fhruebMgCvqzJmOqP37qA92\\\n",
              "2y9E70uLmjOSVPUXGeZMQr19Pv+JJHMmrcYzZyRJnn2fJx22ZzLm1ZgzqSM6zJnfH8k2ZyTpwu/t\\\n",
              "MWfef6HEnKmszzdn0ut85kzyuHZzRpLaJ4TMmROVWebMiPFHzJkf/+YKc0aSUq+wfz111kVM66Mt\\\n",
              "5k2gH+EMIAAAgGMogAAAAI6hAPZDZWVlmjJlijIyMpSTk6NFixapoqKi25qZM2fK5/N1u916661x\\\n",
              "mhgAAPQmCmA/VF5ertLSUu3cuVNbtmxRR0eH5syZo6ampm7rli1bpqNHj3bd7r///jhNDAAAehNv\\\n",
              "AumHNm/e3O3v69atU05Ojnbv3q0ZM2Z03Z+Wlqa8vLzeHg8AAMQZZwAdEAqdeodcVlb3d709+uij\\\n",
              "ys7O1vjx47Vq1So1Nzd/4r/R1tamcDjc7QYAAPomzgD2c9FoVCtWrNAll1yi8ePHd91/ww03aNiw\\\n",
              "YSooKNDevXt19913q6KiQk899dRp/52ysjKtWbOmt8YGAABnEQWwnystLdW+ffv08ssvd7v/lltu\\\n",
              "6frzhAkTlJ+fr1mzZqmqqkojR4782L+zatUqrVy5suvv4XBYhYWFZ29wAABw1lAA+7Hly5frmWee\\\n",
              "0fbt2zV06NA/urak5NQvh62srDxtAQwEAgoEAmdlTgAA0LsogP2Q53m6/fbbtWHDBm3btk3FxcWf\\\n",
              "mtmzZ48kKT/f/hv/AQBA30IB7IdKS0u1fv16bdq0SRkZGaqpOXU5q2AwqNTUVFVVVWn9+vVasGCB\\\n",
              "Bg8erL179+qOO+7QjBkzNHHixDhPDwAAzjYKYD/00EMPSTr1y57/t0ceeURLly5VcnKynn/+eT3w\\\n",
              "wANqampSYWGhFi9erG984xtxmBYAAPQ2CmA/5HneH/14YWGhysvLe2kaAADwWUMBxJ/k+IUJSkjp\\\n",
              "+a+THDyizryNht3Z5owkJYyz/67C8IFB5kxkQNScSfSZIzrnRXtGkgatOGjO7PvtMHOmaEKNObPs\\\n",
              "Cy+ZM5L0X7UXmjNvvTTKnAkfzvr0RX/Isz+4aQeT7NuRtOmDi82ZjMP2+ZbctvnTF/2Bf//tfHNm\\\n",
              "ZkGlOSNJ4c5Uc+b5o+PMmfqWFHOmcPhxc0aSjg8eYM54J237wYvan7vQf/CLoAEAABxDAQQAAHAM\\\n",
              "BRAAAMAxFEAAAADHUAABAAAcQwEEAABwDAUQAADAMRRAAAAAx1AAAQAAHEMBBAAAcAwFEAAAwDEU\\\n",
              "QAAAAMckxnsA9G2Bc0Pyp7X2eP0Xh71p3sZPTkw3ZyRp8LMZ5syFy/abMyevTTdnzt/0gTnzdOs0\\\n",
              "c0aSancUmzOJw5vMmawUe+bRIyXmjCTVPD7MnMk+4ZkzDYXJ5kzzhS3mTDQpyZyRpAV/9po5s2n3\\\n",
              "58yZX99k/xqMlPjMmae3xHY8FD7Xbs74rrKf/6ivzDJnogdiO88SXFhrzmSlN5vWdza16bB5K+gv\\\n",
              "OAMIAADgGAogAACAYyiAAAAAjqEAAgAAOIYCCAAA4BgKIAAAgGMogAAAAI6hAAIAADiGAggAAOAY\\\n",
              "CiAAAIBjKIAAAACO4VrAiInnnbquaqS5zZRrbewwbyva0vNrDf9vkXb7tV87muzXFO2M2vaBJLXF\\\n",
              "sB8irbHth48eK5Nm+7Zi2neRqDkjSZF2+3ydHfb9EGmzf48cjWHfRVrt182VpPZe+nrq7Izhc2qz\\\n",
              "X9842hrDsSqps9N+7EVbIuaML4bxIu2xnWeJNNmfVzzjgB89f8f0HIE+z+fxyCMGhw8fVmFhYbzH\\\n",
              "AAD8iaqrqzV06NB4j4FeRgFETKLRqI4cOaKMjAz5fN3PXoTDYRUWFqq6ulqZmZlxmjD+2A+nsB9O\\\n",
              "YT+cwn445bOwHzzPU0NDgwoKCpSQwCvCXMOPgBGThISET/2OMTMz0+kn+I+wH05hP5zCfjiF/XBK\\\n",
              "vPdDMBiM27YRX1R+AAAAx1AAAQAAHEMBxBkXCAS0evVqBQKBeI8SV+yHU9gPp7AfTmE/nMJ+QLzx\\\n",
              "JhAAAADHcAYQAADAMRRAAAAAx1AAAQAAHEMBBAAAcAwFEGfU2rVrNXz4cKWkpKikpESvvvpqvEfq\\\n",
              "Vd/85jfl8/m63caOHRvvsXrF9u3btXDhQhUUFMjn82njxo3dPu55nu69917l5+crNTVVs2fP1oED\\\n",
              "B+Iz7Fn0afth6dKlHztG5s2bF59hz5KysjJNmTJFGRkZysnJ0aJFi1RRUdFtTWtrq0pLSzV48GCl\\\n",
              "p6dr8eLFqq2tjdPEZ0dP9sPMmTM/djzceuutcZoYLqEA4ox5/PHHtXLlSq1evVpvvPGGJk2apLlz\\\n",
              "5+rYsWPxHq1XjRs3TkePHu26vfzyy/EeqVc0NTVp0qRJWrt27Wk/fv/99+vBBx/Uww8/rF27dmnA\\\n",
              "gAGaO3euWltbe3nSs+vT9oMkzZs3r9sx8thjj/XihGdfeXm5SktLtXPnTm3ZskUdHR2aM2eOmpqa\\\n",
              "utbccccdevrpp/Xkk0+qvLxcR44c0TXXXBPHqc+8nuwHSVq2bFm34+H++++P08RwigecIVOnTvVK\\\n",
              "S0u7/h6JRLyCggKvrKwsjlP1rtWrV3uTJk2K9xhxJ8nbsGFD19+j0aiXl5fnffe73+26r76+3gsE\\\n",
              "At5jjz0Whwl7xx/uB8/zvCVLlnhXXXVVXOaJl2PHjnmSvPLycs/zTj32SUlJ3pNPPtm1Zv/+/Z4k\\\n",
              "b8eOHfEa86z7w/3geZ532WWXeV/96lfjNxScxRlAnBHt7e3avXu3Zs+e3XVfQkKCZs+erR07dsRx\\\n",
              "st534MABFRQUaMSIEbrxxht16NCheI8UdwcPHlRNTU234yMYDKqkpMS540OStm3bppycHI0ZM0a3\\\n",
              "3Xab6urq4j3SWRUKhSRJWVlZkqTdu3ero6Oj2/EwduxYFRUV9evj4Q/3w0ceffRRZWdna/z48Vq1\\\n",
              "apWam5vjMR4ckxjvAdA/HD9+XJFIRLm5ud3uz83N1TvvvBOnqXpfSUmJ1q1bpzFjxujo0aNas2aN\\\n",
              "pk+frn379ikjIyPe48VNTU2NJJ32+PjoY66YN2+errnmGhUXF6uqqkpf//rXNX/+fO3YsUN+vz/e\\\n",
              "451x0WhUK1as0CWXXKLx48dLOnU8JCcna+DAgd3W9ufj4XT7QZJuuOEGDRs2TAUFBdq7d6/uvvtu\\\n",
              "VVRU6KmnnorjtHABBRA4g+bPn9/154kTJ6qkpETDhg3TE088oZtvvjmOk+Gz4rrrruv684QJEzRx\\\n",
              "4kSNHDlS27Zt06xZs+I42dlRWlqqffv2OfNa2E/ySfvhlltu6frzhAkTlJ+fr1mzZqmqqkojR47s\\\n",
              "7THhEH4EjDMiOztbfr//Y+/iq62tVV5eXpymir+BAwfq3HPPVWVlZbxHiauPjgGOj48bMWKEsrOz\\\n",
              "++Uxsnz5cj3zzDN68cUXNXTo0K778/Ly1N7ervr6+m7r++vx8En74XRKSkokqV8eD/hsoQDijEhO\\\n",
              "TtbkyZO1devWrvui0ai2bt2qadOmxXGy+GpsbFRVVZXy8/PjPUpcFRcXKy8vr9vxEQ6HtWvXLqeP\\\n",
              "D0k6fPiw6urq+tUx4nmeli9frg0bNuiFF15QcXFxt49PnjxZSUlJ3Y6HiooKHTp0qF8dD5+2H05n\\\n",
              "z549ktSvjgd8NvEjYJwxK1eu1JIlS3TRRRdp6tSpeuCBB9TU1KSbbrop3qP1mjvvvFMLFy7UsGHD\\\n",
              "dOTIEa1evVp+v1/XX399vEc76xobG7udtTh48KD27NmjrKwsFRUVacWKFbrvvvs0evRoFRcX6557\\\n",
              "7lFBQYEWLVoUv6HPgj+2H7KysrRmzRotXrxYeXl5qqqq0l133aVRo0Zp7ty5cZz6zCotLdX69eu1\\\n",
              "adMmZWRkdL2uLxgMKjU1VcFgUDfffLNWrlyprKwsZWZm6vbbb9e0adN08cUXx3n6M+fT9kNVVZXW\\\n",
              "r1+vBQsWaPDgwdq7d6/uuOMOzZgxQxMnTozz9Oj34v02ZPQvP/rRj7yioiIvOTnZmzp1qrdz5854\\\n",
              "j9Srrr32Wi8/P99LTk72zjnnHO/aa6/1Kisr4z1Wr3jxxRc9SR+7LVmyxPO8U78K5p577vFyc3O9\\\n",
              "QCDgzZo1y6uoqIjv0GfBH9sPzc3N3pw5c7whQ4Z4SUlJ3rBhw7xly5Z5NTU18R77jDrd5y/Je+SR\\\n",
              "R7rWtLS0eH/913/tDRo0yEtLS/Ouvvpq7+jRo/Eb+iz4tP1w6NAhb8aMGV5WVpYXCAS8UaNGeV/7\\\n",
              "2te8UCgU38HhBJ/neV5vFk4AAADEF68BBAAAcAwFEAAAwDEUQAAAAMdQAAEAABxDAQQAAHAMBRAA\\\n",
              "AMAxFEAAAADHUAABAAAcQwEEAABwDAUQAADAMRRAAAAAx1AAAQAAHEMBBAAAcAwFEAAAwDEUQAAA\\\n",
              "AMdQAAEAABxDAQQAAHAMBRAAAMAxFEAAAADHUAABAAAcQwEEAABwDAUQAADAMRRAAAAAx1AAAQAA\\\n",
              "HEMBBAAAcAwFEAAAwDEUQAAAAMdQAAEAABxDAQQAAHAMBRAAAMAxFEAAAADH/H+VQShq1tyFZwAA\\\n",
              "AABJRU5ErkJggg==\\\n",
              "\"\n",
              "\n",
              "\n",
              "    /* set a timeout to make sure all the above elements are created before\n",
              "       the object is initialized. */\n",
              "    setTimeout(function() {\n",
              "        anime9f9cdfc953448b4984b85e3783c06ea = new Animation(frames, img_id, slider_id, 200.0,\n",
              "                                 loop_select_id);\n",
              "    }, 0);\n",
              "  })()\n",
              "</script>\n"
            ]
          },
          "metadata": {},
          "execution_count": 27
        }
      ],
      "source": [
        "%matplotlib inline\n",
        "num_images = len(weights_log)\n",
        "image_data = weights_log\n",
        "\n",
        "# Set up the figure and axis\n",
        "fig, ax = plt.subplots()\n",
        "im = ax.imshow(image_data[0], animated=True)\n",
        "\n",
        "def update(frame):\n",
        "    im.set_array(image_data[frame])\n",
        "    return im,\n",
        "\n",
        "ani = FuncAnimation(fig, update, frames=range(num_images), repeat=True)\n",
        "plt.close()\n",
        "# Display the animation\n",
        "HTML(ani.to_jshtml())"
      ]
    },
    {
      "cell_type": "markdown",
      "id": "821ae284",
      "metadata": {
        "id": "821ae284"
      },
      "source": [
        "And the changing of biases"
      ]
    },
    {
      "cell_type": "code",
      "execution_count": 28,
      "id": "0eaf657c",
      "metadata": {
        "colab": {
          "base_uri": "https://localhost:8080/",
          "height": 576
        },
        "id": "0eaf657c",
        "outputId": "a07832a8-ad3a-44d2-9db5-c647f165aed1"
      },
      "outputs": [
        {
          "output_type": "execute_result",
          "data": {
            "text/plain": [
              "<IPython.core.display.HTML object>"
            ],
            "text/html": [
              "\n",
              "<link rel=\"stylesheet\"\n",
              "href=\"https://maxcdn.bootstrapcdn.com/font-awesome/4.4.0/css/font-awesome.min.css\">\n",
              "<script language=\"javascript\">\n",
              "  function isInternetExplorer() {\n",
              "    ua = navigator.userAgent;\n",
              "    /* MSIE used to detect old browsers and Trident used to newer ones*/\n",
              "    return ua.indexOf(\"MSIE \") > -1 || ua.indexOf(\"Trident/\") > -1;\n",
              "  }\n",
              "\n",
              "  /* Define the Animation class */\n",
              "  function Animation(frames, img_id, slider_id, interval, loop_select_id){\n",
              "    this.img_id = img_id;\n",
              "    this.slider_id = slider_id;\n",
              "    this.loop_select_id = loop_select_id;\n",
              "    this.interval = interval;\n",
              "    this.current_frame = 0;\n",
              "    this.direction = 0;\n",
              "    this.timer = null;\n",
              "    this.frames = new Array(frames.length);\n",
              "\n",
              "    for (var i=0; i<frames.length; i++)\n",
              "    {\n",
              "     this.frames[i] = new Image();\n",
              "     this.frames[i].src = frames[i];\n",
              "    }\n",
              "    var slider = document.getElementById(this.slider_id);\n",
              "    slider.max = this.frames.length - 1;\n",
              "    if (isInternetExplorer()) {\n",
              "        // switch from oninput to onchange because IE <= 11 does not conform\n",
              "        // with W3C specification. It ignores oninput and onchange behaves\n",
              "        // like oninput. In contrast, Microsoft Edge behaves correctly.\n",
              "        slider.setAttribute('onchange', slider.getAttribute('oninput'));\n",
              "        slider.setAttribute('oninput', null);\n",
              "    }\n",
              "    this.set_frame(this.current_frame);\n",
              "  }\n",
              "\n",
              "  Animation.prototype.get_loop_state = function(){\n",
              "    var button_group = document[this.loop_select_id].state;\n",
              "    for (var i = 0; i < button_group.length; i++) {\n",
              "        var button = button_group[i];\n",
              "        if (button.checked) {\n",
              "            return button.value;\n",
              "        }\n",
              "    }\n",
              "    return undefined;\n",
              "  }\n",
              "\n",
              "  Animation.prototype.set_frame = function(frame){\n",
              "    this.current_frame = frame;\n",
              "    document.getElementById(this.img_id).src =\n",
              "            this.frames[this.current_frame].src;\n",
              "    document.getElementById(this.slider_id).value = this.current_frame;\n",
              "  }\n",
              "\n",
              "  Animation.prototype.next_frame = function()\n",
              "  {\n",
              "    this.set_frame(Math.min(this.frames.length - 1, this.current_frame + 1));\n",
              "  }\n",
              "\n",
              "  Animation.prototype.previous_frame = function()\n",
              "  {\n",
              "    this.set_frame(Math.max(0, this.current_frame - 1));\n",
              "  }\n",
              "\n",
              "  Animation.prototype.first_frame = function()\n",
              "  {\n",
              "    this.set_frame(0);\n",
              "  }\n",
              "\n",
              "  Animation.prototype.last_frame = function()\n",
              "  {\n",
              "    this.set_frame(this.frames.length - 1);\n",
              "  }\n",
              "\n",
              "  Animation.prototype.slower = function()\n",
              "  {\n",
              "    this.interval /= 0.7;\n",
              "    if(this.direction > 0){this.play_animation();}\n",
              "    else if(this.direction < 0){this.reverse_animation();}\n",
              "  }\n",
              "\n",
              "  Animation.prototype.faster = function()\n",
              "  {\n",
              "    this.interval *= 0.7;\n",
              "    if(this.direction > 0){this.play_animation();}\n",
              "    else if(this.direction < 0){this.reverse_animation();}\n",
              "  }\n",
              "\n",
              "  Animation.prototype.anim_step_forward = function()\n",
              "  {\n",
              "    this.current_frame += 1;\n",
              "    if(this.current_frame < this.frames.length){\n",
              "      this.set_frame(this.current_frame);\n",
              "    }else{\n",
              "      var loop_state = this.get_loop_state();\n",
              "      if(loop_state == \"loop\"){\n",
              "        this.first_frame();\n",
              "      }else if(loop_state == \"reflect\"){\n",
              "        this.last_frame();\n",
              "        this.reverse_animation();\n",
              "      }else{\n",
              "        this.pause_animation();\n",
              "        this.last_frame();\n",
              "      }\n",
              "    }\n",
              "  }\n",
              "\n",
              "  Animation.prototype.anim_step_reverse = function()\n",
              "  {\n",
              "    this.current_frame -= 1;\n",
              "    if(this.current_frame >= 0){\n",
              "      this.set_frame(this.current_frame);\n",
              "    }else{\n",
              "      var loop_state = this.get_loop_state();\n",
              "      if(loop_state == \"loop\"){\n",
              "        this.last_frame();\n",
              "      }else if(loop_state == \"reflect\"){\n",
              "        this.first_frame();\n",
              "        this.play_animation();\n",
              "      }else{\n",
              "        this.pause_animation();\n",
              "        this.first_frame();\n",
              "      }\n",
              "    }\n",
              "  }\n",
              "\n",
              "  Animation.prototype.pause_animation = function()\n",
              "  {\n",
              "    this.direction = 0;\n",
              "    if (this.timer){\n",
              "      clearInterval(this.timer);\n",
              "      this.timer = null;\n",
              "    }\n",
              "  }\n",
              "\n",
              "  Animation.prototype.play_animation = function()\n",
              "  {\n",
              "    this.pause_animation();\n",
              "    this.direction = 1;\n",
              "    var t = this;\n",
              "    if (!this.timer) this.timer = setInterval(function() {\n",
              "        t.anim_step_forward();\n",
              "    }, this.interval);\n",
              "  }\n",
              "\n",
              "  Animation.prototype.reverse_animation = function()\n",
              "  {\n",
              "    this.pause_animation();\n",
              "    this.direction = -1;\n",
              "    var t = this;\n",
              "    if (!this.timer) this.timer = setInterval(function() {\n",
              "        t.anim_step_reverse();\n",
              "    }, this.interval);\n",
              "  }\n",
              "</script>\n",
              "\n",
              "<style>\n",
              ".animation {\n",
              "    display: inline-block;\n",
              "    text-align: center;\n",
              "}\n",
              "input[type=range].anim-slider {\n",
              "    width: 374px;\n",
              "    margin-left: auto;\n",
              "    margin-right: auto;\n",
              "}\n",
              ".anim-buttons {\n",
              "    margin: 8px 0px;\n",
              "}\n",
              ".anim-buttons button {\n",
              "    padding: 0;\n",
              "    width: 36px;\n",
              "}\n",
              ".anim-state label {\n",
              "    margin-right: 8px;\n",
              "}\n",
              ".anim-state input {\n",
              "    margin: 0;\n",
              "    vertical-align: middle;\n",
              "}\n",
              "</style>\n",
              "\n",
              "<div class=\"animation\">\n",
              "  <img id=\"_anim_img48d26798117f448a8c6698b78e0d1ce7\">\n",
              "  <div class=\"anim-controls\">\n",
              "    <input id=\"_anim_slider48d26798117f448a8c6698b78e0d1ce7\" type=\"range\" class=\"anim-slider\"\n",
              "           name=\"points\" min=\"0\" max=\"1\" step=\"1\" value=\"0\"\n",
              "           oninput=\"anim48d26798117f448a8c6698b78e0d1ce7.set_frame(parseInt(this.value));\">\n",
              "    <div class=\"anim-buttons\">\n",
              "      <button title=\"Decrease speed\" aria-label=\"Decrease speed\" onclick=\"anim48d26798117f448a8c6698b78e0d1ce7.slower()\">\n",
              "          <i class=\"fa fa-minus\"></i></button>\n",
              "      <button title=\"First frame\" aria-label=\"First frame\" onclick=\"anim48d26798117f448a8c6698b78e0d1ce7.first_frame()\">\n",
              "        <i class=\"fa fa-fast-backward\"></i></button>\n",
              "      <button title=\"Previous frame\" aria-label=\"Previous frame\" onclick=\"anim48d26798117f448a8c6698b78e0d1ce7.previous_frame()\">\n",
              "          <i class=\"fa fa-step-backward\"></i></button>\n",
              "      <button title=\"Play backwards\" aria-label=\"Play backwards\" onclick=\"anim48d26798117f448a8c6698b78e0d1ce7.reverse_animation()\">\n",
              "          <i class=\"fa fa-play fa-flip-horizontal\"></i></button>\n",
              "      <button title=\"Pause\" aria-label=\"Pause\" onclick=\"anim48d26798117f448a8c6698b78e0d1ce7.pause_animation()\">\n",
              "          <i class=\"fa fa-pause\"></i></button>\n",
              "      <button title=\"Play\" aria-label=\"Play\" onclick=\"anim48d26798117f448a8c6698b78e0d1ce7.play_animation()\">\n",
              "          <i class=\"fa fa-play\"></i></button>\n",
              "      <button title=\"Next frame\" aria-label=\"Next frame\" onclick=\"anim48d26798117f448a8c6698b78e0d1ce7.next_frame()\">\n",
              "          <i class=\"fa fa-step-forward\"></i></button>\n",
              "      <button title=\"Last frame\" aria-label=\"Last frame\" onclick=\"anim48d26798117f448a8c6698b78e0d1ce7.last_frame()\">\n",
              "          <i class=\"fa fa-fast-forward\"></i></button>\n",
              "      <button title=\"Increase speed\" aria-label=\"Increase speed\" onclick=\"anim48d26798117f448a8c6698b78e0d1ce7.faster()\">\n",
              "          <i class=\"fa fa-plus\"></i></button>\n",
              "    </div>\n",
              "    <form title=\"Repetition mode\" aria-label=\"Repetition mode\" action=\"#n\" name=\"_anim_loop_select48d26798117f448a8c6698b78e0d1ce7\"\n",
              "          class=\"anim-state\">\n",
              "      <input type=\"radio\" name=\"state\" value=\"once\" id=\"_anim_radio1_48d26798117f448a8c6698b78e0d1ce7\"\n",
              "             >\n",
              "      <label for=\"_anim_radio1_48d26798117f448a8c6698b78e0d1ce7\">Once</label>\n",
              "      <input type=\"radio\" name=\"state\" value=\"loop\" id=\"_anim_radio2_48d26798117f448a8c6698b78e0d1ce7\"\n",
              "             checked>\n",
              "      <label for=\"_anim_radio2_48d26798117f448a8c6698b78e0d1ce7\">Loop</label>\n",
              "      <input type=\"radio\" name=\"state\" value=\"reflect\" id=\"_anim_radio3_48d26798117f448a8c6698b78e0d1ce7\"\n",
              "             >\n",
              "      <label for=\"_anim_radio3_48d26798117f448a8c6698b78e0d1ce7\">Reflect</label>\n",
              "    </form>\n",
              "  </div>\n",
              "</div>\n",
              "\n",
              "\n",
              "<script language=\"javascript\">\n",
              "  /* Instantiate the Animation class. */\n",
              "  /* The IDs given should match those used in the template above. */\n",
              "  (function() {\n",
              "    var img_id = \"_anim_img48d26798117f448a8c6698b78e0d1ce7\";\n",
              "    var slider_id = \"_anim_slider48d26798117f448a8c6698b78e0d1ce7\";\n",
              "    var loop_select_id = \"_anim_loop_select48d26798117f448a8c6698b78e0d1ce7\";\n",
              "    var frames = new Array(3);\n",
              "    \n",
              "  frames[0] = \"data:image/png;base64,iVBORw0KGgoAAAANSUhEUgAAAoAAAAHgCAYAAAA10dzkAAAAOXRFWHRTb2Z0d2FyZQBNYXRwbG90\\\n",
              "bGliIHZlcnNpb24zLjcuMSwgaHR0cHM6Ly9tYXRwbG90bGliLm9yZy/bCgiHAAAACXBIWXMAAA9h\\\n",
              "AAAPYQGoP6dpAAAaRklEQVR4nO3dbYyV5bno8WsNA2tAZ0YRmIEyKmqrtVRwU4pU60slIqRuaTlJ\\\n",
              "VRrFGE0NcIK0sbLjS21NOHUnrTGl2A9Valta2wTwaFq6FSucWvAFw/GlLUfctEB0BsXNjIAMMLPO\\\n",
              "h8bZewrWcZdhreX1+yVPwlrP/ay51pfJn3u9TKFUKpUCAIA0aso9AAAAR5cABABIRgACACQjAAEA\\\n",
              "khGAAADJCEAAgGQEIABAMgIQACAZAQgAkIwABABIRgACACQjAAEAkhGAAADJCEAAgGQEIABAMgIQ\\\n",
              "ACAZAQgAkIwABABIRgACACQjAAEAkhGAAADJCEAAgGQEIABAMgIQACAZAQgAkIwABABIRgACACQj\\\n",
              "AAEAkhGAAADJCEAAgGQEIABAMgIQACAZAQgAkIwABABIRgACACQjAAEAkhGAAADJCEAAgGQEIABA\\\n",
              "MgIQACAZAQgAkIwABABIRgACACQjAAEAkhGAAADJCEAAgGQEIABAMgIQACAZAQgAkIwABABIRgAC\\\n",
              "ACQjAAEAkhGAAADJCEAAgGQEIABAMgIQACCZ2nIPAFAu3d3d8dprr0V9fX0UCoU+X1cqleLtt9+O\\\n",
              "UaNGRU2N/0cD1UcAAmm99tpr0dLS8t++ftu2bTF69OgjOBHA0SEAgbTq6+sjImL8P98aAwbW9fm6\\\n",
              "rgP7YuP/vqvneoBq47ULoOotXrw4Tj755Kirq4tJkybFM88806fr3n3Zd8DAuqj9AMe7sfhBXjYG\\\n",
              "qCQCEKhqDz30UCxYsCDuuOOOeP7552PcuHExderU2LFjR7lHA6hYAhCoat/5znfi+uuvj2uvvTbO\\\n",
              "PPPMuO+++2LIkCFx//33l3s0gIolAIGqtX///tiwYUNMmTKl576ampqYMmVKrFu37pD1nZ2d0dHR\\\n",
              "0esAyEgAAlXrzTffjK6urmhqaup1f1NTU7S2th6yftGiRdHY2Nhz/COfAAaoZgIQSGPhwoXR3t7e\\\n",
              "c2zbtq3cIwGUha+BAarWsGHDYsCAAdHW1tbr/ra2tmhubj5kfbFYjGKxeLTGA6hYdgCBqjVo0KCY\\\n",
              "MGFCrF69uue+7u7uWL16dUyePLmMkwFUNjuAQFVbsGBBXHPNNfGpT30qPv3pT8c999wTe/bsiWuv\\\n",
              "vbbcowFULAEIVLUvfelL8cYbb8Ttt98era2tMX78+Fi1atUhHwwB4D8VSqVSqdxDAJRDR0dHNDY2\\\n",
              "xkX/dEvUDuj7n4I72LUvfvv8/4r29vZoaGjoxwkB+of3AAIAJCMAAQCSEYAAAMkIQACAZAQgAEAy\\\n",
              "AhAAIBkBCACQjAAEAEhGAAIAJCMAAQCSEYAAAMkIQACAZGrLPQBAubX/S2cMOKbv67v2dEb8j/6b\\\n",
              "B6C/2QEEAEhGAAIAJCMAAQCSEYAAAMkIQACAZAQgAEAyAhAAIBkBCACQjAAEAEhGAAIAJCMAAQCS\\\n",
              "EYAAAMkIQACAZGrLPQBAuXVHIQqlwgdaD1DN7AACACQjAAEAkhGAAADJCEAAgGQEIABAMgIQACAZ\\\n",
              "AQgAkIwABABIRgACACQjAAEAkhGAAADJCEAAgGRqyz0AQLnt3HJ81Ayu6/P67nf29eM0AP3PDiAA\\\n",
              "QDICEAAgGQEIAJCMAAQASEYAAgAkIwABAJIRgAAAyQhAAIBkBCAAQDICEAAgGQEIAJCMAAQASKa2\\\n",
              "3AMAlF39wYjBB/u+vvYDrAWoQHYAAQCSEYAAAMkIQKBqfeMb34hCodDrOOOMM8o9FkDF8x5AoKp9\\\n",
              "4hOfiMcff7zndm2tX2sA78dvSqCq1dbWRnNzc7nHAKgqXgIGqtorr7wSo0aNilNOOSVmzZoVW7du\\\n",
              "fc+1nZ2d0dHR0esAyEgAAlVr0qRJsXTp0li1alUsWbIktmzZEp/97Gfj7bffPuz6RYsWRWNjY8/R\\\n",
              "0tJylCcGqAyFUqlUKvcQAEfCrl274qSTTorvfOc7cd111x1yvrOzMzo7O3tud3R0REtLS7Tcd0fU\\\n",
              "DK7r88/pfmdfbPvKndHe3h4NDQ1HZHaAo8l7AIEPjeOOOy4+9rGPxebNmw97vlgsRrFYPMpTAVQe\\\n",
              "LwEDHxq7d++OV199NUaOHFnuUQAqmgAEqtbXvva1WLNmTfz5z3+O3//+9/GFL3whBgwYEFdeeWW5\\\n",
              "RwOoaF4CBqrW9u3b48orr4ydO3fG8OHD47zzzov169fH8OHDyz0aQEXzIRAgrY6OjmhsbIz/+H+n\\\n",
              "REN9318Q6Xi7O47/2L/7EAhQtbwEDACQjAAEAEhGAAIAJCMAAQCSEYAAAMkIQACAZAQgAEAyAhAA\\\n",
              "IBkBCACQjAAEAEhGAAIAJCMAAQCSqS33AADldkvr2TFo98A+r9+/+0BE/Hv/DQTQz+wAAgAkIwAB\\\n",
              "AJIRgAAAyQhAAIBkBCAAQDICEAAgGQEIAJCMAAQASEYAAgAkIwABAJIRgAAAyQhAAIBkBCAAQDK1\\\n",
              "5R4AoNw2f35w1BYG9Xn9wdL+fpwGoP/ZAQQASEYAAgAkIwABAJIRgAAAyQhAAIBkBCAAQDICEAAg\\\n",
              "GQEIAJCMAAQASEYAAgAkIwABAJIRgAAAydSWewCAcnvlX86Imrq6Pq/v3rcv4pZ+HAign9kBBABI\\\n",
              "RgACACQjAAEAkhGAAADJCEAAgGQEIABAMgIQACAZAQgAkIwABABIRgACACQjAAEAkhGAAADJ1JZ7\\\n",
              "AIByq2uriQHFvv9/uKvT/52B6ua3GABAMgIQACAZAQhUrLVr18Zll10Wo0aNikKhECtXrux1vlQq\\\n",
              "xe233x4jR46MwYMHx5QpU+KVV14pz7AAVUQAAhVrz549MW7cuFi8ePFhz999991x7733xn333RdP\\\n",
              "P/10HHPMMTF16tTYt2/fUZ4UoLr4EAhQsaZNmxbTpk077LlSqRT33HNP3HrrrXH55ZdHRMSDDz4Y\\\n",
              "TU1NsXLlyrjiiiuO5qgAVcUOIFCVtmzZEq2trTFlypSe+xobG2PSpEmxbt26w17T2dkZHR0dvQ6A\\\n",
              "jAQgUJVaW1sjIqKpqanX/U1NTT3n/taiRYuisbGx52hpaen3OQEqkQAE0li4cGG0t7f3HNu2bSv3\\\n",
              "SABlIQCBqtTc3BwREW1tbb3ub2tr6zn3t4rFYjQ0NPQ6ADISgEBVGjNmTDQ3N8fq1at77uvo6Iin\\\n",
              "n346Jk+eXMbJACqfTwEDFWv37t2xefPmnttbtmyJjRs3xtChQ+PEE0+M+fPnx1133RUf/ehHY8yY\\\n",
              "MXHbbbfFqFGjYsaMGeUbGqAKCECgYj333HNx0UUX9dxesGBBRERcc801sXTp0rj55ptjz549ccMN\\\n",
              "N8SuXbvivPPOi1WrVkVdXV25RgaoCoVSqVQq9xAA5dDR0RGNjY1xYVwetYWBfb7uYOlAPBkPR3t7\\\n",
              "u/cRAlXJewABAJIRgAAAyQhAAIBkBCAAQDICEAAgGQEIAJCMAAQASEYAAgAkIwABAJIRgAAAyQhA\\\n",
              "AIBkBCAAQDICEAAgmdpyDwBQbrOf/3MMqR/Q5/V73+6KJ/+pHwcC6Gd2AAEAkhGAAADJCEAAgGQE\\\n",
              "IABAMgIQACAZAQgAkIwABABIRgACACQjAAEAkhGAAADJCEAAgGQEIABAMrXlHgCg3L69aWoMGFLs\\\n",
              "8/quvZ0R8X/7byCAfmYHEAAgGQEIAJCMAAQASEYAAgAkIwABAJIRgAAAyQhAAIBkBCAAQDICEAAg\\\n",
              "GQEIAJCMAAQASEYAAgAkU1vuAQDKbczxO2PgMYP6vP5AcX/8sR/nAehvdgABAJIRgAAAyQhAAIBk\\\n",
              "BCAAQDICEAAgGQEIAJCMAAQASEYAAgAkIwABAJIRgAAAyQhAAIBkBCAAQDK15R4AoNxefOnkqBlc\\\n",
              "1+f13e/s68dpAPqfHUAAgGQEIABAMgIQqFhr166Nyy67LEaNGhWFQiFWrlzZ6/zs2bOjUCj0Oi69\\\n",
              "9NLyDAtQRQQgULH27NkT48aNi8WLF7/nmksvvTRef/31nuNnP/vZUZwQoDr5EAhQsaZNmxbTpk37\\\n",
              "u2uKxWI0NzcfpYkAPhzsAAJV7cknn4wRI0bE6aefHjfeeGPs3LnzPdd2dnZGR0dHrwMgIwEIVK1L\\\n",
              "L700HnzwwVi9enV8+9vfjjVr1sS0adOiq6vrsOsXLVoUjY2NPUdLS8tRnhigMngJGKhaV1xxRc+/\\\n",
              "P/nJT8ZZZ50Vp556ajz55JNx8cUXH7J+4cKFsWDBgp7bHR0dIhBIyQ4g8KFxyimnxLBhw2Lz5s2H\\\n",
              "PV8sFqOhoaHXAZCRAAQ+NLZv3x47d+6MkSNHlnsUgIrmJWCgYu3evbvXbt6WLVti48aNMXTo0Bg6\\\n",
              "dGjceeedMXPmzGhubo5XX301br755jjttNNi6tSpZZwaoPIJQKBiPffcc3HRRRf13H73/XvXXHNN\\\n",
              "LFmyJF544YX40Y9+FLt27YpRo0bFJZdcEt/61reiWCyWa2SAqiAAgYp14YUXRqlUes/zv/nNb47I\\\n",
              "zxn9b91RO7C7z+sPHuiObUfkJwOUh/cAAgAkIwABAJIRgAAAyQhAAIBkBCAAQDICEAAgGQEIAJCM\\\n",
              "AAQASEYAAgAkIwABAJIRgAAAyQhAAIBkBCAAQDK15R4AoNwGzN0RA44p9nl9aU9nxL/140AA/cwO\\\n",
              "IABAMgIQACAZAQgAkIwABABIRgACACQjAAEAkhGAAADJCEAAgGQEIABAMgIQACAZAQgAkIwABABI\\\n",
              "prbcAwCU2xu7j40B3cU+r+/aO7AfpwHof3YAAQCSEYAAAMkIQACAZAQgAEAyAhAAIBkBCACQjAAE\\\n",
              "AEhGAAIAJCMAAQCSEYAAAMkIQACAZAQgAEAyteUeAKDcagqlqCmU+ry+9AHWAlQiO4AAAMkIQACA\\\n",
              "ZAQgAEAyAhAAIBkBCACQjAAEAEhGAAIAJCMAAQCSEYAAAMkIQACAZAQgAEAyAhAAIJnacg8AUG7d\\\n",
              "64+LQrGu7+s79/XjNAD9zw4gAEAyAhAAIBkBCFSkRYsWxcSJE6O+vj5GjBgRM2bMiE2bNvVas2/f\\\n",
              "vpgzZ06ccMIJceyxx8bMmTOjra2tTBMDVA8BCFSkNWvWxJw5c2L9+vXx2GOPxYEDB+KSSy6JPXv2\\\n",
              "9Ky56aab4pFHHolf/vKXsWbNmnjttdfii1/8YhmnBqgOPgQCVKRVq1b1ur106dIYMWJEbNiwIc4/\\\n",
              "//xob2+PH/7wh7Fs2bL43Oc+FxERDzzwQHz84x+P9evXxznnnFOOsQGqgh1AoCq0t7dHRMTQoUMj\\\n",
              "ImLDhg1x4MCBmDJlSs+aM844I0488cRYt27dYR+js7MzOjo6eh0AGQlAoOJ1d3fH/Pnz49xzz42x\\\n",
              "Y8dGRERra2sMGjQojjvuuF5rm5qaorW19bCPs2jRomhsbOw5Wlpa+nt0gIokAIGKN2fOnHjppZfi\\\n",
              "5z//+T/0OAsXLoz29vaeY9u2bUdoQoDq4j2AQEWbO3duPProo7F27doYPXp0z/3Nzc2xf//+2LVr\\\n",
              "V69dwLa2tmhubj7sYxWLxSgWi/09MkDFswMIVKRSqRRz586NFStWxBNPPBFjxozpdX7ChAkxcODA\\\n",
              "WL16dc99mzZtiq1bt8bkyZOP9rgAVcUOIFCR5syZE8uWLYuHH3446uvre97X19jYGIMHD47Gxsa4\\\n",
              "7rrrYsGCBTF06NBoaGiIefPmxeTJk30CGOB9CECgIi1ZsiQiIi688MJe9z/wwAMxe/bsiIj47ne/\\\n",
              "GzU1NTFz5szo7OyMqVOnxve///2jPClA9RGAQEUqlUrvu6auri4WL14cixcv/od+Vs3BiJoBfV9f\\\n",
              "OvgP/TiAsvMeQACAZAQgAEAyAhAAIBkBCACQjAAEAEhGAAIAJCMAAQCSEYAAAMkIQACAZAQgAEAy\\\n",
              "AhAAIBkBCACQjAAEAEimttwDAJTbP8/6P1E8dmCf13fuPhB/XNyPAwH0MzuAAADJCEAAgGQEIABA\\\n",
              "MgIQACAZAQgAkIwABABIRgACACQjAAEAkhGAAADJCEAAgGQEIABAMgIQACAZAQgAkIwABABIRgAC\\\n",
              "ACQjAAEAkhGAAADJCEAAgGQEIABAMgIQACAZAQgAkIwABABIRgACACQjAAEAkhGAAADJ1JZ7AIBy\\\n",
              "27G/PgbtH9Tn9fv37+/HaQD6nx1AAIBkBCAAQDICEAAgGQEIAJCMAAQASEYAAgAkIwABAJIRgAAA\\\n",
              "yQhAAIBkBCAAQDICEAAgGQEIAJBMbbkHACi3P/xHc9TuL/Z5/cE9nf04DUD/swMIAJCMAAQASEYA\\\n",
              "AhVp0aJFMXHixKivr48RI0bEjBkzYtOmTb3WXHjhhVEoFHodX/nKV8o0MUD1EIBARVqzZk3MmTMn\\\n",
              "1q9fH4899lgcOHAgLrnkktizZ0+vdddff328/vrrPcfdd99dpokBqocPgQAVadWqVb1uL126NEaM\\\n",
              "GBEbNmyI888/v+f+IUOGRHNz89EeD6Cq2QEEqkJ7e3tERAwdOrTX/T/96U9j2LBhMXbs2Fi4cGHs\\\n",
              "3bv3PR+js7MzOjo6eh0AGdkBBCped3d3zJ8/P84999wYO3Zsz/1XXXVVnHTSSTFq1Kh44YUX4utf\\\n",
              "/3ps2rQpli9fftjHWbRoUdx5551Ha2yAilUolUqlcg8B8PfceOON8etf/zp+97vfxejRo99z3RNP\\\n",
              "PBEXX3xxbN68OU499dRDznd2dkZn539+h19HR0e0tLTEpBX/M2qP+WDfA/j0F+6N9vb2aGho+GBP\\\n",
              "BqAC2AEEKtrcuXPj0UcfjbVr1/7d+IuImDRpUkTEewZgsViMYrHvoQfwYSUAgYpUKpVi3rx5sWLF\\\n",
              "injyySdjzJgx73vNxo0bIyJi5MiR/TwdQHUTgEBFmjNnTixbtiwefvjhqK+vj9bW1oiIaGxsjMGD\\\n",
              "B8err74ay5Yti+nTp8cJJ5wQL7zwQtx0001x/vnnx1lnnVXm6QEqmwAEKtKSJUsi4q9f9vxfPfDA\\\n",
              "AzF79uwYNGhQPP7443HPPffEnj17oqWlJWbOnBm33nprGaYFqC4CEKhI7/f5tJaWllizZs1Rmgbg\\\n",
              "w0UAAum1vdUQNfvq+ry+e+++fpwGoP/5ImgAgGQEIABAMgIQACAZAQgAkIwABABIRgACACQjAAEA\\\n",
              "khGAAADJCEAAgGQEIABAMgIQACAZAQgAkExtuQcAKLfbzn40htQP6PP6vW93xXX9OA9Af7MDCACQ\\\n",
              "jAAEAEhGAAIAJCMAAQCSEYAAAMkIQACAZAQgAEAyAhAAIBkBCACQjAAEAEhGAAIAJONvAQNplUql\\\n",
              "iIh4Z3fXB7ru3fXvXg9QbQQgkNbOnTsjImLu+S/+t69vbGw8kiMBHBUCEEhr6NChERGxdevWQ0Ku\\\n",
              "o6MjWlpaYtu2bdHQ0NDrXHt7e5x44ok91wNUGwEIpFVT89e3QTc2Nh4See9qaGh4z3PvXg9Qbfz2\\\n",
              "AgBIRgACACQjAIG0isVi3HHHHVEsFo/YOYBqUCj5HgMAgFTsAAIAJCMAAQCSEYAAAMkIQACAZAQg\\\n",
              "kMpbb70Vs2bNioaGhhg8eHDU19dHXV1dTJo0KZ555pmedYsXL46TTz456urqoqGhIQqFQq/jhBNO\\\n",
              "iF/96lcREbF06dJDztfV1ZXrKQK8LwEIpDJr1qx4+eWX4+abb46urq4YMmRIXHzxxTFu3LiYOnVq\\\n",
              "7NixIx566KFYsGBB3HHHHfH888/HscceGwMHDoyampq47bbbYs2aNXHdddfFjBkz4qWXXoqIv/7F\\\n",
              "kNdff73n+Mtf/lLmZwrw3nwNDJDGH//4xzjzzDPj2WefjTlz5sTEiRPj85//fEyfPj22bt0akyZN\\\n",
              "innz5sWKFSti4sSJ8b3vfS8iIi644IJ46qmn4rTTTos//elPPY93zjnnxPjx4+Occ86J+fPnx65d\\\n",
              "u8r0zAA+GDuAQBrr1q2L4447Ls4666zYsGFDTJkyJaZMmRI1NTXx7LPPxpQpU+Kpp57qOfeuQqEQ\\\n",
              "XV1dsXnz5hg7dmwsXLgw9u7dG1OnTo1169ZFRMTu3bvjpJNOipaWlrj88svj5ZdfLtfTBHhfAhBI\\\n",
              "o7W1NUaMGBFvvvlmdHV1RVNTU9TW1sbQoUOjtbU1mpqaYvv27T3n3nXVVVdFoVCIUaNGxcKFC+PH\\\n",
              "P/5xfPnLX46mpqZobW2N008/Pe6///54+OGH4yc/+Ul0d3fHZz7zmdi+fXsZny3AexOAQNW75ZZb\\\n",
              "DvkQxt8e//Wl2w/qhhtuiEKhEIMGDYpZs2bFgw8+GCtWrIg33ngjIiImT54cV199dYwfPz4uuOCC\\\n",
              "WL58eQwfPjx+8IMfHKmnCHBE1ZZ7AIB/1Fe/+tWYPXv2311zyimnRHNzc+zYsSOGDRsWAwYMiLa2\\\n",
              "tjh48GC89dZb0dzcHOvXr4/Ro0fHiy++GG1tbb2ur6uri8GDB0dExKRJkyIi4pVXXonm5uZDftbA\\\n",
              "gQPj7LPPjs2bNx+ZJwhwhAlAoOoNHz48hg8f/r7rJk+eHLt27YoXX3wxJkyYEKtXr44hQ4ZEd3d3\\\n",
              "TJw4MebNmxdz586NHTt2xOrVq2PGjBkREdHd3R2lUikOHjwYEREbN26MiIiXXnopJk+efMjP6erq\\\n",
              "ihdffDGmT59+xJ4jwJHkU8BAKtOmTYu2traYOXNmfPOb34zjjz8+JkyYEKNHj45f/OIX8dvf/jam\\\n",
              "T58ebW1tMW3atJg3b17ceuut8Yc//CE6Ozvj6quvjoceeihqa2vjnXfeieeffz6WL18e55xzTpx2\\\n",
              "2mmxa9eu+Nd//ddYuXJlbNiwIc4888xyP2WAQwhAIJW33nor5s6dG4888kgcPHgwBgwYEAcOHIjx\\\n",
              "48fHvffeG01NTTFmzJj4yEc+Ert27YoDBw5EsViMQqEQe/fujUKhEAcOHIjGxsZYtmxZTJ8+PW66\\\n",
              "6aZYvnx5tLa29gTlXXfdFWeffXa5ny7AYQlAAIBkfAoYACAZAQgAkIwABABIRgACACQjAAEAkhGA\\\n",
              "AADJCEAAgGQEIABAMgIQACAZAQgAkIwABABIRgACACQjAAEAkhGAAADJCEAAgGQEIABAMgIQACAZ\\\n",
              "AQgAkIwABABIRgACACQjAAEAkhGAAADJCEAAgGQEIABAMgIQACAZAQgAkIwABABIRgACACQjAAEA\\\n",
              "khGAAADJCEAAgGT+P2KOkEQTxtEjAAAAAElFTkSuQmCC\\\n",
              "\"\n",
              "  frames[1] = \"data:image/png;base64,iVBORw0KGgoAAAANSUhEUgAAAoAAAAHgCAYAAAA10dzkAAAAOXRFWHRTb2Z0d2FyZQBNYXRwbG90\\\n",
              "bGliIHZlcnNpb24zLjcuMSwgaHR0cHM6Ly9tYXRwbG90bGliLm9yZy/bCgiHAAAACXBIWXMAAA9h\\\n",
              "AAAPYQGoP6dpAAAaYUlEQVR4nO3dfYyU9dno8WvYhVlQdu0K7EpZFbXVWip4KAWqVaxEhNRIy0nq\\\n",
              "S+NLjKYGOEdpY8uJL7U1Z1OfpDWmFPtHldqW1jYBjaalUayQWvAFw/GllkcsLRDdxZfDriyyLrtz\\\n",
              "/uhxn2cL1vUpy8x4fT7JnThz/2bmmn82X38z91AolUqlAAAgjWHlHgAAgMNLAAIAJCMAAQCSEYAA\\\n",
              "AMkIQACAZAQgAEAyAhAAIBkBCACQjAAEAEhGAAIAJCMAAQCSEYAAAMkIQACAZAQgAEAyAhAAIBkB\\\n",
              "CACQjAAEAEhGAAIAJCMAAQCSEYAAAMkIQACAZAQgAEAyAhAAIBkBCACQjAAEAEhGAAIAJCMAAQCS\\\n",
              "EYAAAMkIQACAZAQgAEAyAhAAIBkBCACQjAAEAEhGAAIAJCMAAQCSEYAAAMkIQACAZAQgAEAyAhAA\\\n",
              "IBkBCACQjAAEAEhGAAIAJCMAAQCSEYAAAMkIQACAZAQgAEAyAhAAIBkBCACQjAAEAEhGAAIAJCMA\\\n",
              "AQCSEYAAAMkIQACAZAQgAEAyAhAAIBkBCACQTG25BwAol76+vnjllVdi9OjRUSgUBv24UqkUb731\\\n",
              "VowfPz6GDfP/0UD1EYBAWq+88kq0tLT8lx+/Y8eOmDBhwiGcCODwEIBAWqNHj46IiMlfvDFqhtcN\\\n",
              "+nG9Pfvi/6y+rf/xANXGZxdA1Vu2bFkcf/zxUVdXF9OnT48nn3xyUI9792PfmuF1UTPiAxz/PxY/\\\n",
              "yMfGAJVEAAJV7b777oslS5bELbfcEs8880xMnjw55syZE7t27Sr3aAAVSwACVe173/teXH311XHl\\\n",
              "lVfGqaeeGnfddVeMGjUq7r777nKPBlCxBCBQtd55553YtGlTzJ49u/++YcOGxezZs2PDhg0HrO/u\\\n",
              "7o7Ozs4BB0BGAhCoWq+//nr09vZGU1PTgPubmpqira3tgPWtra3R0NDQf/wrVwADVDMBCKSxdOnS\\\n",
              "6Ojo6D927NhR7pEAysLPwABVa8yYMVFTUxPt7e0D7m9vb4/m5uYD1heLxSgWi4drPICKZQcQqFoj\\\n",
              "RoyIqVOnxtq1a/vv6+vri7Vr18bMmTPLOBlAZbMDCFS1JUuWxOWXXx6f/vSn4zOf+Uzccccd0dXV\\\n",
              "FVdeeWW5RwOoWAIQqGpf/vKX47XXXoubb7452traYsqUKbFmzZoDLgwB4D8USqVSqdxDAJRDZ2dn\\\n",
              "NDQ0xKxp/ytqawf/T8Ht378vHnvqf0dHR0fU19cP4YQAQ8N3AAEAkhGAAADJCEAAgGQEIABAMgIQ\\\n",
              "ACAZAQgAkIwABABIRgACACQjAAEAkhGAAADJCEAAgGQEIABAMrXlHgCg3Dq/8XbUHNE36PW9Xd0R\\\n",
              "/30IBwIYYnYAAQCSEYAAAMkIQACAZAQgAEAyAhAAIBkBCACQjAAEAEhGAAIAJCMAAQCSEYAAAMkI\\\n",
              "QACAZAQgAEAyAhAAIJnacg8AUG6FQikKhdIHWg9QzewAAgAkIwABAJIRgAAAyQhAAIBkBCAAQDIC\\\n",
              "EAAgGQEIAJCMAAQASEYAAgAkIwABAJIRgAAAyQhAAIBkass9AEC57frL0TFsZN2g1/e9vW8IpwEY\\\n",
              "enYAAQCSEYAAAMkIQACAZAQgAEAyAhAAIBkBCACQjAAEAEhGAAIAJCMAAQCSEYAAAMkIQACAZAQg\\\n",
              "AEAyteUeAKDcSiN7ozSyd/DrY/BrASqRHUAAgGQEIABAMgIQqFrf+ta3olAoDDhOOeWUco8FUPF8\\\n",
              "BxCoap/85CfjkUce6b9dW+vPGsD78ZcSqGq1tbXR3Nxc7jEAqoqPgIGq9tJLL8X48ePjhBNOiEsv\\\n",
              "vTS2b9/+nmu7u7ujs7NzwAGQkQAEqtb06dNjxYoVsWbNmli+fHls27YtPve5z8Vbb7110PWtra3R\\\n",
              "0NDQf7S0tBzmiQEqQ6FUKpXKPQTAobB79+447rjj4nvf+15cddVVB5zv7u6O7u7u/tudnZ3R0tIS\\\n",
              "E37wrRg2sm7Qr9P39r7Yuehb0dHREfX19YdkdoDDyXcAgQ+No446Kj7+8Y/H1q1bD3q+WCxGsVg8\\\n",
              "zFMBVB4fAQMfGnv27ImXX345jjnmmHKPAlDRBCBQtb7+9a/HunXr4q9//Wv88Y9/jC9+8YtRU1MT\\\n",
              "F198cblHA6hoPgIGqtbOnTvj4osvjjfeeCPGjh0bZ555ZmzcuDHGjh1b7tEAKpqLQIC0Ojs7o6Gh\\\n",
              "If7vv58Q9aMH/4FI51t98ZGP/8VFIEDV8hEwAEAyAhAAIBkBCACQjAAEAEhGAAIAJCMAAQCSEYAA\\\n",
              "AMkIQACAZAQgAEAyAhAAIBkBCACQjAAEAEimttwDAJTbDa/+txjx1vBBr39nT09E/GXoBgIYYnYA\\\n",
              "AQCSEYAAAMkIQACAZAQgAEAyAhAAIBkBCACQjAAEAEhGAAIAJCMAAQCSEYAAAMkIQACAZAQgAEAy\\\n",
              "AhAAIJnacg8AUG5/mX9E1BZGDHr9/tI7QzgNwNCzAwgAkIwABABIRgACACQjAAEAkhGAAADJCEAA\\\n",
              "gGQEIABAMgIQACAZAQgAkIwABABIRgACACQjAAEAkqkt9wAA5bb1ax+PYXV1g17ft29fxI1DOBDA\\\n",
              "ELMDCACQjAAEAEhGAAIAJCMAAQCSEYAAAMkIQACAZAQgAEAyAhAAIBkBCACQjAAEAEhGAAIAJCMA\\\n",
              "AQCSqS33AADlNuqVQtQUC4Ne39s9+LUAlcgOIABAMgIQACAZAQhUrPXr18cFF1wQ48ePj0KhEPff\\\n",
              "f/+A86VSKW6++eY45phjYuTIkTF79ux46aWXyjMsQBURgEDF6urqismTJ8eyZcsOev7222+PO++8\\\n",
              "M+6666544okn4ogjjog5c+bEvn37DvOkANXFRSBAxZo7d27MnTv3oOdKpVLccccdceONN8aFF14Y\\\n",
              "ERH33ntvNDU1xf333x8XXXTR4RwVoKrYAQSq0rZt26KtrS1mz57df19DQ0NMnz49NmzYcNDHdHd3\\\n",
              "R2dn54ADICMBCFSltra2iIhoamoacH9TU1P/uX/U2toaDQ0N/UdLS8uQzwlQiQQgkMbSpUujo6Oj\\\n",
              "/9ixY0e5RwIoCwEIVKXm5uaIiGhvbx9wf3t7e/+5f1QsFqO+vn7AAZCRAASq0sSJE6O5uTnWrl3b\\\n",
              "f19nZ2c88cQTMXPmzDJOBlD5XAUMVKw9e/bE1q1b+29v27YtNm/eHI2NjXHsscfGddddF7fddlt8\\\n",
              "7GMfi4kTJ8ZNN90U48ePj/nz55dvaIAqIACBivX000/HOeec0397yZIlERFx+eWXx4oVK+KGG26I\\\n",
              "rq6uuOaaa2L37t1x5plnxpo1a6Kurq5cIwNUhUKpVCqVewiAcujs7IyGhoaYFRdGbWH4oB+3v9QT\\\n",
              "j8UD0dHR4XuEQFXyHUAAgGQEIABAMgIQACAZAQgAkIwABABIRgACACQjAAEAkhGAAADJCEAAgGQE\\\n",
              "IABAMgIQACAZAQgAkIwABABIprbcAwCU21c3/3uMGl0z6PV73+qNx6YM3TwAQ80OIABAMgIQACAZ\\\n",
              "AQgAkIwABABIRgACACQjAAEAkhGAAADJCEAAgGQEIABAMgIQACAZAQgAkIwABABIprbcAwCU23f+\\\n",
              "/IWoGVUc9Prevd0R8eLQDQQwxOwAAgAkIwABAJIRgAAAyQhAAIBkBCAAQDICEAAgGQEIAJCMAAQA\\\n",
              "SEYAAgAkIwABAJIRgAAAyQhAAIBkass9AEC5nXz0rhh+xIhBr+/peideGMJ5AIaaHUAAgGQEIABA\\\n",
              "MgIQACAZAQgAkIwABABIRgACACQjAAEAkhGAAADJCEAAgGQEIABAMgIQACAZAQgAkExtuQcAKLen\\\n",
              "N30shtXVDXp93759QzgNwNCzAwgAkIwABABIRgACFWv9+vVxwQUXxPjx46NQKMT9998/4PwVV1wR\\\n",
              "hUJhwHH++eeXZ1iAKiIAgYrV1dUVkydPjmXLlr3nmvPPPz9effXV/uMXv/jFYZwQoDq5CASoWHPn\\\n",
              "zo25c+f+0zXFYjGam5sP00QAHw52AIGq9thjj8W4cePi5JNPjmuvvTbeeOON91zb3d0dnZ2dAw6A\\\n",
              "jAQgULXOP//8uPfee2Pt2rXx3e9+N9atWxdz586N3t7eg65vbW2NhoaG/qOlpeUwTwxQGXwEDFSt\\\n",
              "iy66qP+/P/WpT8Vpp50WJ554Yjz22GNx7rnnHrB+6dKlsWTJkv7bnZ2dIhBIyQ4g8KFxwgknxJgx\\\n",
              "Y2Lr1q0HPV8sFqO+vn7AAZCRAAQ+NHbu3BlvvPFGHHPMMeUeBaCi+QgYqFh79uwZsJu3bdu22Lx5\\\n",
              "czQ2NkZjY2PceuutsWDBgmhubo6XX345brjhhjjppJNizpw5ZZwaoPIJQKBiPf3003HOOef03373\\\n",
              "+3uXX355LF++PJ599tn4yU9+Ert3747x48fHeeedF9/5zneiWCyWa2SAqiAAgYo1a9asKJVK73n+\\\n",
              "d7/73SF5nY+u7Y3a4Qe/cvhg9vf0xvZD8soA5eE7gAAAyQhAAIBkBCAAQDICEAAgGQEIAJCMAAQA\\\n",
              "SEYAAgAkIwABAJIRgAAAyQhAAIBkBCAAQDICEAAgGQEIAJBMbbkHACi3msW7ouaI4qDXl7q6Ix4e\\\n",
              "woEAhpgdQACAZAQgAEAyAhAAIBkBCACQjAAEAEhGAAIAJCMAAQCSEYAAAMkIQACAZAQgAEAyAhAA\\\n",
              "IBkBCACQTG25BwAot1febIhh++oGvb5v774hnAZg6NkBBABIRgACACQjAAEAkhGAAADJCEAAgGQE\\\n",
              "IABAMgIQACAZAQgAkIwABABIRgACACQjAAEAkhGAAADJ1JZ7AIByGzXynagZWRj0+t7SO0M4DcDQ\\\n",
              "swMIAJCMAAQASEYAAgAkIwABAJIRgAAAyQhAAIBkBCAAQDICEAAgGQEIAJCMAAQASEYAAgAkIwAB\\\n",
              "AJKpLfcAAOXW88fG6CvWDXp9b/e+IZwGYOjZAQQASEYAAgAkIwCBitTa2hrTpk2L0aNHx7hx42L+\\\n",
              "/PmxZcuWAWv27dsXCxcujKOPPjqOPPLIWLBgQbS3t5dpYoDqIQCBirRu3bpYuHBhbNy4MR5++OHo\\\n",
              "6emJ8847L7q6uvrXXH/99fHggw/Gr3/961i3bl288sor8aUvfamMUwNUBxeBABVpzZo1A26vWLEi\\\n",
              "xo0bF5s2bYqzzjorOjo64sc//nGsXLkyPv/5z0dExD333BOf+MQnYuPGjTFjxoxyjA1QFewAAlWh\\\n",
              "o6MjIiIaGxsjImLTpk3R09MTs2fP7l9zyimnxLHHHhsbNmw46HN0d3dHZ2fngAMgIwEIVLy+vr64\\\n",
              "7rrr4owzzohJkyZFRERbW1uMGDEijjrqqAFrm5qaoq2t7aDP09raGg0NDf1HS0vLUI8OUJEEIFDx\\\n",
              "Fi5cGM8//3z88pe//JeeZ+nSpdHR0dF/7Nix4xBNCFBdfAcQqGiLFi2Khx56KNavXx8TJkzov7+5\\\n",
              "uTneeeed2L1794BdwPb29mhubj7ocxWLxSgWi0M9MkDFswMIVKRSqRSLFi2K1atXx6OPPhoTJ04c\\\n",
              "cH7q1KkxfPjwWLt2bf99W7Zsie3bt8fMmTMP97gAVcUOIFCRFi5cGCtXrowHHnggRo8e3f+9voaG\\\n",
              "hhg5cmQ0NDTEVVddFUuWLInGxsaor6+PxYsXx8yZM10BDPA+BCBQkZYvXx4REbNmzRpw/z333BNX\\\n",
              "XHFFRER8//vfj2HDhsWCBQuiu7s75syZEz/84Q8P86QA1UcAAhWpVCq975q6urpYtmxZLFu27F96\\\n",
              "rWH7I4bVDH59af+/9HIAZec7gAAAyQhAAIBkBCAAQDICEAAgGQEIAJCMAAQASEYAAgAkIwABAJIR\\\n",
              "gAAAyQhAAIBkBCAAQDICEAAgGQEIAJBMbbkHACi3z1/0ZBSPHD7o9d17euLFZUM4EMAQswMIAJCM\\\n",
              "AAQASEYAAgAkIwABAJIRgAAAyQhAAIBkBCAAQDICEAAgGQEIAJCMAAQASEYAAgAkIwABAJKpLfcA\\\n",
              "AOVWX/t21NXuH/T6fbU9QzgNwNCzAwgAkIwABABIRgACACQjAAEAkhGAAADJCEAAgGQEIABAMgIQ\\\n",
              "ACAZAQgAkIwABABIRgACACQjAAEAkqkt9wAA5banty56eocPen13b80QTgMw9OwAAgAkIwABAJIR\\\n",
              "gAAAyQhAAIBkBCAAQDICEAAgGQEIAJCMAAQASEYAAgAkIwABAJIRgAAAyQhAAIBkass9AEC5PbLj\\\n",
              "5KgZVRz0+t693UM4DcDQswMIAJCMAAQASEYAAhWptbU1pk2bFqNHj45x48bF/PnzY8uWLQPWzJo1\\\n",
              "KwqFwoDjq1/9apkmBqgeAhCoSOvWrYuFCxfGxo0b4+GHH46enp4477zzoqura8C6q6++Ol599dX+\\\n",
              "4/bbby/TxADVw0UgQEVas2bNgNsrVqyIcePGxaZNm+Kss87qv3/UqFHR3Nx8uMcDqGp2AIGq0NHR\\\n",
              "ERERjY2NA+7/+c9/HmPGjIlJkybF0qVLY+/eve/5HN3d3dHZ2TngAMjIDiBQ8fr6+uK6666LM844\\\n",
              "IyZNmtR//yWXXBLHHXdcjB8/Pp599tn4xje+EVu2bIlVq1Yd9HlaW1vj1ltvPVxjA1SsQqlUKpV7\\\n",
              "CIB/5tprr43f/va38Yc//CEmTJjwnuseffTROPfcc2Pr1q1x4oknHnC+u7s7urv/4zf8Ojs7o6Wl\\\n",
              "JT7xixs+8O8Avnjx7dHR0RH19fUf7M0AVAA7gEBFW7RoUTz00EOxfv36fxp/ERHTp0+PiHjPACwW\\\n",
              "i1EsDj70AD6sBCBQkUqlUixevDhWr14djz32WEycOPF9H7N58+aIiDjmmGOGeDqA6iYAgYq0cOHC\\\n",
              "WLlyZTzwwAMxevToaGtri4iIhoaGGDlyZLz88suxcuXKmDdvXhx99NHx7LPPxvXXXx9nnXVWnHba\\\n",
              "aWWeHqCyCUCgIi1fvjwi/v5jz//ZPffcE1dccUWMGDEiHnnkkbjjjjuiq6srWlpaYsGCBXHjjTeW\\\n",
              "YVqA6iIAgYr0ftentbS0xLp16w7TNAAfLgIQSO+dnpqo6Rn8n8Penv1DOA3A0PND0AAAyQhAAIBk\\\n",
              "BCAAQDICEAAgGQEIAJCMAAQASEYAAgAkIwABAJIRgAAAyQhAAIBkBCAAQDICEAAgmcH/6+cAH1L/\\\n",
              "49Tfx8gjB//n8O09++N/DuE8AEPNDiAAQDICEAAgGQEIAJCMAAQASEYAAgAkIwABAJIRgAAAyQhA\\\n",
              "AIBkBCAAQDICEAAgGQEIAJCMfwsYSKtUKkVExL49+z/Q495d/+7jAaqNAATSeuONNyIi4huznv4v\\\n",
              "P76hoeFQjgRwWAhAIK3GxsaIiNi+ffsBIdfZ2RktLS2xY8eOqK+vH3Cuo6Mjjj322P7HA1QbAQik\\\n",
              "NWzY378G3dDQcEDkvau+vv49z737eIBq468XAEAyAhAAIBkBCKRVLBbjlltuiWKxeMjOAVSDQsnv\\\n",
              "GAAApGIHEAAgGQEIAJCMAAQASEYAAgAkIwCBVN5888249NJLo76+PkaOHBmjR4+Ourq6mD59ejz5\\\n",
              "5JP965YtWxbHH3981NXVRX19fRQKhQHH0UcfHb/5zW8iImLFihUHnK+rqyvXWwR4XwIQSOXSSy+N\\\n",
              "F154IW644Ybo7e2NUaNGxbnnnhuTJ0+OOXPmxK5du+K+++6LJUuWxC233BLPPPNMHHnkkTF8+PAY\\\n",
              "NmxY3HTTTbFu3bq46qqrYv78+fH8889HxN//xZBXX321//jb3/5W5ncK8N78DAyQxosvvhinnnpq\\\n",
              "PPXUU7Fw4cKYNm1afOELX4h58+bF9u3bY/r06bF48eJYvXp1TJs2LX7wgx9ERMTZZ58djz/+eJx0\\\n",
              "0knx5z//uf/5ZsyYEVOmTIkZM2bEddddF7t37y7TOwP4YOwAAmls2LAhjjrqqDjttNNi06ZNMXv2\\\n",
              "7Jg9e3YMGzYsnnrqqZg9e3Y8/vjj/efeVSgUore3N7Zu3RqTJk2KpUuXxt69e2POnDmxYcOGiIjY\\\n",
              "s2dPHHfccdHS0hIXXnhhvPDCC+V6mwDvSwACabS1tcW4cePi9ddfj97e3mhqaora2tpobGyMtra2\\\n",
              "aGpqip07d/afe9cll1wShUIhxo8fH0uXLo2f/vSn8ZWvfCWampqira0tTj755Lj77rvjgQceiJ/9\\\n",
              "7GfR19cXn/3sZ2Pnzp1lfLcA700AAlXvm9/85gEXYfzj8Z8/uv2grrnmmigUCjFixIi49NJL4957\\\n",
              "743Vq1fHa6+9FhERM2fOjMsuuyymTJkSZ599dqxatSrGjh0bP/rRjw7VWwQ4pGrLPQDAv+prX/ta\\\n",
              "XHHFFf90zQknnBDNzc2xa9euGDNmTNTU1ER7e3vs378/3nzzzWhubo6NGzfGhAkT4rnnnov29vYB\\\n",
              "j6+rq4uRI0dGRMT06dMjIuKll16K5ubmA15r+PDhcfrpp8fWrVsPzRsEOMQEIFD1xo4dG2PHjn3f\\\n",
              "dTNnzozdu3fHc889F1OnTo21a9fGqFGjoq+vL6ZNmxaLFy+ORYsWxa5du2Lt2rUxf/78iIjo6+uL\\\n",
              "UqkU+/fvj4iIzZs3R0TE888/HzNnzjzgdXp7e+O5556LefPmHbL3CHAouQoYSGXu3LnR3t4eCxYs\\\n",
              "iG9/+9vxkY98JKZOnRoTJkyIX/3qV/H73/8+5s2bF+3t7TF37txYvHhx3HjjjfGnP/0puru747LL\\\n",
              "Lov77rsvamtr4+23345nnnkmVq1aFTNmzIiTTjopdu/eHf/2b/8W999/f2zatClOPfXUcr9lgAMI\\\n",
              "QCCVN998MxYtWhQPPvhg7N+/P2pqaqKnpyemTJkSd955ZzQ1NcXEiRPjox/9aOzevTt6enqiWCxG\\\n",
              "oVCIvXv3RqFQiJ6enmhoaIiVK1fGvHnz4vrrr49Vq1ZFW1tbf1Dedtttcfrpp5f77QIclAAEAEjG\\\n",
              "VcAAAMkIQACAZAQgAEAyAhAAIBkBCACQjAAEAEhGAAIAJCMAAQCSEYAAAMkIQACAZAQgAEAyAhAA\\\n",
              "IBkBCACQjAAEAEhGAAIAJCMAAQCSEYAAAMkIQACAZAQgAEAyAhAAIBkBCACQjAAEAEhGAAIAJCMA\\\n",
              "AQCSEYAAAMkIQACAZAQgAEAyAhAAIBkBCACQjAAEAEhGAAIAJPP/ABZ7mjflojAxAAAAAElFTkSu\\\n",
              "QmCC\\\n",
              "\"\n",
              "  frames[2] = \"data:image/png;base64,iVBORw0KGgoAAAANSUhEUgAAAoAAAAHgCAYAAAA10dzkAAAAOXRFWHRTb2Z0d2FyZQBNYXRwbG90\\\n",
              "bGliIHZlcnNpb24zLjcuMSwgaHR0cHM6Ly9tYXRwbG90bGliLm9yZy/bCgiHAAAACXBIWXMAAA9h\\\n",
              "AAAPYQGoP6dpAAAaYElEQVR4nO3df2zV9f3o8dcphVNQWleBFkZV1E3nmOhlDJjOH5OIkBnZ+GMq\\\n",
              "i2KMZga4Qba4keuPuXnTzCV+jRnD/TFlbmNzyxWNZmNRnJA58AeGrz+2ccWxCV9tUby0AlJKe+4f\\\n",
              "u/Z+O3DW7yjnHF+PR/JJOOfz/rSv80/z5H3Opy2USqVSAACQRk25BwAA4MgSgAAAyQhAAIBkBCAA\\\n",
              "QDICEAAgGQEIAJCMAAQASEYAAgAkIwABAJIRgAAAyQhAAIBkBCAAQDICEAAgGQEIAJCMAAQASEYA\\\n",
              "AgAkIwABAJIRgAAAyQhAAIBkBCAAQDICEAAgGQEIAJCMAAQASEYAAgAkIwABAJIRgAAAyQhAAIBk\\\n",
              "BCAAQDICEAAgGQEIAJCMAAQASEYAAgAkIwABAJIRgAAAyQhAAIBkBCAAQDICEAAgGQEIAJCMAAQA\\\n",
              "SEYAAgAkIwABAJIRgAAAyQhAAIBkBCAAQDICEAAgGQEIAJCMAAQASEYAAgAkIwABAJIRgAAAyQhA\\\n",
              "AIBkBCAAQDICEAAgGQEIAJCMAAQASEYAAgAkU1vuAQDKpbe3N1577bUYOXJkFAqFAV9XKpXi7bff\\\n",
              "jnHjxkVNjf9HA9VHAAJpvfbaa9HS0vJfvn7btm0xfvz4wzgRwJEhAIG0Ro4cGRERk754YwwZWjfg\\\n",
              "63q698W/r7qt73qAauO9C6DqLVu2LE444YSoq6uLqVOnxtNPPz2g695923fI0LoYMuwDHP8vFj/I\\\n",
              "28YAlUQAAlXt/vvvjyVLlsQtt9wSzz33XEyaNClmzpwZO3bsKPdoABVLAAJV7Y477ohrrrkmrrrq\\\n",
              "qjjttNPi7rvvjhEjRsQ999xT7tEAKpYABKrW/v37Y+PGjTFjxoy+52pqamLGjBmxfv36g9Z3dXVF\\\n",
              "Z2dnvwMgIwEIVK0333wzenp6oqmpqd/zTU1N0dbWdtD61tbWaGho6Dv+lTuAAaqZAATSWLp0aXR0\\\n",
              "dPQd27ZtK/dIAGXh18AAVWvUqFExZMiQaG9v7/d8e3t7NDc3H7S+WCxGsVg8UuMBVCw7gEDVGjZs\\\n",
              "WEyePDnWrFnT91xvb2+sWbMmpk+fXsbJACqbHUCgqi1ZsiSuvPLK+PSnPx2f+cxn4s4774w9e/bE\\\n",
              "VVddVe7RACqWAASq2pe//OV444034uabb462trY444wzYvXq1QfdGALA/1colUqlcg8BUA6dnZ3R\\\n",
              "0NAQ5079H1FbO/A/BXfgwL5Y+9T/jI6Ojqivrx/ECQEGh88AAgAkIwABAJIRgAAAyQhAAIBkBCAA\\\n",
              "QDICEAAgGQEIAJCMAAQASEYAAgAkIwABAJIRgAAAyQhAAIBkass9AEC57f3G7qg9qnvA6w/s6Yr4\\\n",
              "0iAOBDDI7AACACQjAAEAkhGAAADJCEAAgGQEIABAMgIQACAZAQgAkIwABABIRgACACQjAAEAkhGA\\\n",
              "AADJCEAAgGQEIABAMrXlHgCg3Hp6ayJ6B/7/4Z4PsBagEvkpBgCQjAAEAEhGAAIAJCMAAQCSEYAA\\\n",
              "AMkIQACAZAQgAEAyAhAAIBkBCACQjAAEAEhGAAIAJCMAAQCSqS33AADl9sZfGqNmeN2A1/e+s28Q\\\n",
              "pwEYfHYAAQCSEYAAAMkIQACAZAQgAEAyAhAAIBkBCACQjAAEAEhGAAIAJCMAAQCSEYAAAMkIQACA\\\n",
              "ZAQgAEAyteUeAKDcSnW9UarrHfj60sDXAlQiO4AAAMkIQACAZAQgULW+9a1vRaFQ6Heceuqp5R4L\\\n",
              "oOL5DCBQ1T75yU/GY4891ve4ttaPNYD34yclUNVqa2ujubm53GMAVBVvAQNV7eWXX45x48bFiSee\\\n",
              "GPPmzYtXX331Pdd2dXVFZ2dnvwMgIwEIVK2pU6fGihUrYvXq1bF8+fLYunVrfO5zn4u33377kOtb\\\n",
              "W1ujoaGh72hpaTnCEwNUhkKpVCqVewiAw2HXrl1x/PHHxx133BFXX331Qee7urqiq6ur73FnZ2e0\\\n",
              "tLTE+LtujZrhdQP+Pr3v7Ivt//2W6OjoiPr6+sMyO8CR5DOAwIfGMcccEx//+Mdjy5YthzxfLBaj\\\n",
              "WCwe4akAKo+3gIEPjd27d8crr7wSY8eOLfcoABVNAAJV6+tf/3qsXbs2/vrXv8Yf/vCH+OIXvxhD\\\n",
              "hgyJyy67rNyjAVQ0bwEDVWv79u1x2WWXxc6dO2P06NFx9tlnx4YNG2L06NHlHg2gorkJBEirs7Mz\\\n",
              "Ghoa4v/87xOjfuTA3xDpfLs3PvLxv7gJBKha3gIGAEhGAAIAJCMAAQCSEYAAAMkIQACAZAQgAEAy\\\n",
              "AhAAIBkBCACQjAAEAEhGAAIAJCMAAQCSEYAAAMnUlnsAgHK74fX/FsPeHjrg9ft3d0fEXwZvIIBB\\\n",
              "ZgcQACAZAQgAkIwABABIRgACACQjAAEAkhGAAADJCEAAgGQEIABAMgIQACAZAQgAkIwABABIRgAC\\\n",
              "ACQjAAEAkqkt9wAA5faXOUdFbWHYgNcfKO0fxGkABp8dQACAZAQgAEAyAhAAIBkBCACQjAAEAEhG\\\n",
              "AAIAJCMAAQCSEYAAAMkIQACAZAQgAEAyAhAAIBkBCACQTG25BwAot1eu/3jU1NUNeH3vvn0RNw/i\\\n",
              "QACDzA4gAEAyAhAAIBkBCACQjAAEAEhGAAIAJCMAAQCSEYAAAMkIQACAZAQgAEAyAhAAIBkBCACQ\\\n",
              "jAAEAEimttwDAJTbiNcKMaRYGPD6nq6BrwWoRHYAAQCSEYAAAMkIQKBirVu3Li6++OIYN25cFAqF\\\n",
              "ePDBB/udL5VKcfPNN8fYsWNj+PDhMWPGjHj55ZfLMyxAFRGAQMXas2dPTJo0KZYtW3bI87fffnvc\\\n",
              "ddddcffdd8dTTz0VRx11VMycOTP27dt3hCcFqC5uAgEq1qxZs2LWrFmHPFcqleLOO++MG2+8MS65\\\n",
              "5JKIiLjvvvuiqakpHnzwwbj00kuP5KgAVcUOIFCVtm7dGm1tbTFjxoy+5xoaGmLq1Kmxfv36Q17T\\\n",
              "1dUVnZ2d/Q6AjAQgUJXa2toiIqKpqanf801NTX3n/lFra2s0NDT0HS0tLYM+J0AlEoBAGkuXLo2O\\\n",
              "jo6+Y9u2beUeCaAsBCBQlZqbmyMior29vd/z7e3tfef+UbFYjPr6+n4HQEYCEKhKEyZMiObm5liz\\\n",
              "Zk3fc52dnfHUU0/F9OnTyzgZQOVzFzBQsXbv3h1btmzpe7x169bYtGlTNDY2xnHHHReLFy+O2267\\\n",
              "LT72sY/FhAkT4qabbopx48bFnDlzyjc0QBUQgEDFevbZZ+P888/ve7xkyZKIiLjyyitjxYoVccMN\\\n",
              "N8SePXvi2muvjV27dsXZZ58dq1evjrq6unKNDFAVCqVSqVTuIQDKobOzMxoaGuK8uCRqC0MHfN2B\\\n",
              "Unc8EQ9FR0eHzxECVclnAAEAkhGAAADJCEAAgGQEIABAMgIQACAZAQgAkIwABABIRgACACQjAAEA\\\n",
              "khGAAADJCEAAgGQEIABAMgIQACCZ2nIPAFBuS/79xThq5JABr9/zdk88MWkQBwIYZHYAAQCSEYAA\\\n",
              "AMkIQACAZAQgAEAyAhAAIBkBCACQjAAEAEhGAAIAJCMAAQCSEYAAAMkIQACAZAQgAEAyteUeAKDc\\\n",
              "vvHHuTFkRHHA63v2dkXE7YM3EMAgswMIAJCMAAQASEYAAgAkIwABAJIRgAAAyQhAAIBkBCAAQDIC\\\n",
              "EAAgGQEIAJCMAAQASEYAAgAkIwABAJKpLfcAAOU2acx/xLCjhw14/f7d++NPgzgPwGCzAwgAkIwA\\\n",
              "BABIRgACACQjAAEAkhGAAADJCEAAgGQEIABAMgIQACAZAQgAkIwABABIRgACACQjAAEAkqkt9wAA\\\n",
              "5bb+qU9ETV3dgNf37ts3iNMADD47gAAAyQhAAIBkBCBQsdatWxcXX3xxjBs3LgqFQjz44IP9zs+f\\\n",
              "Pz8KhUK/46KLLirPsABVRAACFWvPnj0xadKkWLZs2Xuuueiii+L111/vO37+858fwQkBqpObQICK\\\n",
              "NWvWrJg1a9Y/XVMsFqO5ufkITQTw4WAHEKhqTzzxRIwZMyZOOeWUuO6662Lnzp3vubarqys6Ozv7\\\n",
              "HQAZCUCgal100UVx3333xZo1a+K73/1urF27NmbNmhU9PT2HXN/a2hoNDQ19R0tLyxGeGKAyeAsY\\\n",
              "qFqXXnpp378/9alPxemnnx4nnXRSPPHEE3HBBRcctH7p0qWxZMmSvsednZ0iEEjJDiDwoXHiiSfG\\\n",
              "qFGjYsuWLYc8XywWo76+vt8BkJEABD40tm/fHjt37oyxY8eWexSAiuYtYKBi7d69u99u3tatW2PT\\\n",
              "pk3R2NgYjY2Nceutt8bcuXOjubk5Xnnllbjhhhvi5JNPjpkzZ5ZxaoDKJwCBivXss8/G+eef3/f4\\\n",
              "3c/vXXnllbF8+fJ4/vnn48c//nHs2rUrxo0bFxdeeGF85zvfiWKxWK6RAaqCAAQq1nnnnRelUuk9\\\n",
              "z//2t789LN/no4/3RO3QQ985fCgHunvib4flOwOUh88AAgAkIwABAJIRgAAAyQhAAIBkBCAAQDIC\\\n",
              "EAAgGQEIAJCMAAQASEYAAgAkIwABAJIRgAAAyQhAAIBkBCAAQDK15R4AoOwWvRFxVHHg6/d0RTw2\\\n",
              "eOMADDY7gAAAyQhAAIBkBCAAQDICEAAgGQEIAJCMAAQASEYAAgAkIwABAJIRgAAAyQhAAIBkBCAA\\\n",
              "QDICEAAgmdpyDwBQbv/x5jFRs7duwOt79+4bxGkABp8dQACAZAQgAEAyAhAAIBkBCACQjAAEAEhG\\\n",
              "AAIAJCMAAQCSEYAAAMkIQACAZAQgAEAyAhAAIBkBCACQTG25BwAot5FH74shI0oDXt9T0zWI0wAM\\\n",
              "PjuAAADJCEAAgGQEIABAMgIQACAZAQgAkIwABABIRgACACQjAAEAkhGAAADJCEAAgGQEIABAMgIQ\\\n",
              "ACCZ2nIPAFBuB37fGKVi3YDX93TtG8RpAAafHUAAgGQEIABAMgIQqEitra0xZcqUGDlyZIwZMybm\\\n",
              "zJkTmzdv7rdm3759sWDBgjj22GPj6KOPjrlz50Z7e3uZJgaoHgIQqEhr166NBQsWxIYNG+LRRx+N\\\n",
              "7u7uuPDCC2PPnj19a66//vp4+OGH41e/+lWsXbs2XnvttfjSl75UxqkBqoObQICKtHr16n6PV6xY\\\n",
              "EWPGjImNGzfGOeecEx0dHfGjH/0oVq5cGZ///OcjIuLee++NT3ziE7Fhw4aYNm1aOcYGqAp2AIGq\\\n",
              "0NHRERERjY2NERGxcePG6O7ujhkzZvStOfXUU+O4446L9evXH/JrdHV1RWdnZ78DICMBCFS83t7e\\\n",
              "WLx4cZx11lkxceLEiIhoa2uLYcOGxTHHHNNvbVNTU7S1tR3y67S2tkZDQ0Pf0dLSMtijA1QkAQhU\\\n",
              "vAULFsSLL74Yv/jFL/6lr7N06dLo6OjoO7Zt23aYJgSoLj4DCFS0hQsXxiOPPBLr1q2L8ePH9z3f\\\n",
              "3Nwc+/fvj127dvXbBWxvb4/m5uZDfq1isRjFYnGwRwaoeHYAgYpUKpVi4cKFsWrVqnj88cdjwoQJ\\\n",
              "/c5Pnjw5hg4dGmvWrOl7bvPmzfHqq6/G9OnTj/S4AFXFDiBQkRYsWBArV66Mhx56KEaOHNn3ub6G\\\n",
              "hoYYPnx4NDQ0xNVXXx1LliyJxsbGqK+vj0WLFsX06dPdAQzwPgQgUJGWL18eERHnnXdev+fvvffe\\\n",
              "mD9/fkRE/Nu//VvU1NTE3Llzo6urK2bOnBk/+MEPjvCkANVHAAIVqVQqve+aurq6WLZsWSxbtuxf\\\n",
              "+l6FAxGFIR9sPUA18xlAAIBkBCAAQDICEAAgGQEIAJCMAAQASEYAAgAkIwABAJIRgAAAyQhAAIBk\\\n",
              "BCAAQDICEAAgGQEIAJCMAAQASKa23AMAlNs5l22MYUcPHfD6/bu740/LB3EggEFmBxAAIBkBCACQ\\\n",
              "jAAEAEhGAAIAJCMAAQCSEYAAAMkIQACAZAQgAEAyAhAAIBkBCACQjAAEAEhGAAIAJFNb7gEAym3U\\\n",
              "0LejbujQAa/fN7R7EKcBGHx2AAEAkhGAAADJCEAAgGQEIABAMgIQACAZAQgAkIwABABIRgACACQj\\\n",
              "AAEAkhGAAADJCEAAgGQEIABAMrXlHgCg3PaXaqNQGviPw/2l0iBOAzD47AACACQjAAEAkhGAAADJ\\\n",
              "CEAAgGQEIABAMgIQACAZAQgAkIwABABIRgACACQjAAEAkhGAAADJCEAAgGQG/tfPAT6k/tfLk2LI\\\n",
              "iLoBr+/Zuy8ifj14AwEMMjuAAADJCEAAgGQEIFCRWltbY8qUKTFy5MgYM2ZMzJkzJzZv3txvzXnn\\\n",
              "nReFQqHf8dWvfrVMEwNUDwEIVKS1a9fGggULYsOGDfHoo49Gd3d3XHjhhbFnz55+66655pp4/fXX\\\n",
              "+47bb7+9TBMDVA83gQAVafXq1f0er1ixIsaMGRMbN26Mc845p+/5ESNGRHNz85EeD6Cq2QEEqkJH\\\n",
              "R0dERDQ2NvZ7/mc/+1mMGjUqJk6cGEuXLo29e/e+59fo6uqKzs7OfgdARnYAgYrX29sbixcvjrPO\\\n",
              "OismTpzY9/zll18exx9/fIwbNy6ef/75+MY3vhGbN2+OBx544JBfp7W1NW699dYjNTZAxSqUSqVS\\\n",
              "uYcA+Geuu+66+M1vfhO///3vY/z48e+57vHHH48LLrggtmzZEieddNJB57u6uqKrq6vvcWdnZ7S0\\\n",
              "tMSJP176gX8P4F+ubI2Ojo6or6//YC8GoALYAQQq2sKFC+ORRx6JdevW/dP4i4iYOnVqRMR7BmCx\\\n",
              "WIxisTgocwJUEwEIVKRSqRSLFi2KVatWxRNPPBETJkx432s2bdoUERFjx44d5OkAqpsABCrSggUL\\\n",
              "YuXKlfHQQw/FyJEjo62tLSIiGhoaYvjw4fHKK6/EypUrY/bs2XHsscfG888/H9dff32cc845cfrp\\\n",
              "p5d5eoDKJgCBirR8+fKI+Psve/7P7r333pg/f34MGzYsHnvssbjzzjtjz5490dLSEnPnzo0bb7yx\\\n",
              "DNMCVBcBCFSk97s/raWlJdauXXuEpgH4cBGAQHpDh/bGkKE9A15fM7R3EKcBGHx+ETQAQDICEAAg\\\n",
              "GQEIAJCMAAQASEYAAgAkIwABAJIRgAAAyQhAAIBkBCAAQDICEAAgGQEIAJCMAAQASKa23AMAlNs1\\\n",
              "H/t9DD964D8O39l9IL4+iPMADDY7gAAAyQhAAIBkBCAAQDICEAAgGQEIAJCMAAQASEYAAgAkIwAB\\\n",
              "AJIRgAAAyQhAAIBkBCAAQDL+FjCQVqlUioiIfbsPfKDr3l3/7vUA1UYAAmnt3LkzIiJuPP+p//L1\\\n",
              "DQ0Nh3MkgCNCAAJpNTY2RkTEq6++elDIdXZ2RktLS2zbti3q6+v7nevo6Ijjjjuu73qAaiMAgbRq\\\n",
              "av7+MeiGhoaDIu9d9fX173nu3esBqo2fXgAAyQhAAIBkBCCQVrFYjFtuuSWKxeJhOwdQDQolv8cA\\\n",
              "ACAVO4AAAMkIQACAZAQgAEAyAhAAIBkBCKTy1ltvxbx586K+vj6GDx8eI0eOjLq6upg6dWo8/fTT\\\n",
              "feuWLVsWJ5xwQtTV1UV9fX0UCoV+x7HHHhu//vWvIyJixYoVB52vq6sr10sEeF8CEEhl3rx58dJL\\\n",
              "L8UNN9wQPT09MWLEiLjgggti0qRJMXPmzNixY0fcf//9sWTJkrjlllviueeei6OPPjqGDh0aNTU1\\\n",
              "cdNNN8XatWvj6quvjjlz5sSLL74YEX//iyGvv/563/G3v/2tzK8U4L35NTBAGn/605/itNNOi2ee\\\n",
              "eSYWLFgQU6ZMiS984Qsxe/bsePXVV2Pq1KmxaNGiWLVqVUyZMiW+//3vR0TEueeeG08++WScfPLJ\\\n",
              "8ec//7nv602bNi3OOOOMmDZtWixevDh27dpVplcG8MHYAQTSWL9+fRxzzDFx+umnx8aNG2PGjBkx\\\n",
              "Y8aMqKmpiWeeeSZmzJgRTz75ZN+5dxUKhejp6YktW7bExIkTY+nSpbF3796YOXNmrF+/PiIidu/e\\\n",
              "Hccff3y0tLTEJZdcEi+99FK5XibA+xKAQBptbW0xZsyYePPNN6OnpyeampqitrY2Ghsbo62tLZqa\\\n",
              "mmL79u195951+eWXR6FQiHHjxsXSpUvjJz/5SXzlK1+JpqamaGtri1NOOSXuueeeeOihh+KnP/1p\\\n",
              "9Pb2xmc/+9nYvn17GV8twHsTgEDV++Y3v3nQTRj/ePznt24/qGuvvTYKhUIMGzYs5s2bF/fdd1+s\\\n",
              "WrUq3njjjYiImD59elxxxRVxxhlnxLnnnhsPPPBAjB49On74wx8erpcIcFjVlnsAgH/V1772tZg/\\\n",
              "f/4/XXPiiSdGc3Nz7NixI0aNGhVDhgyJ9vb2OHDgQLz11lvR3NwcGzZsiPHjx8cLL7wQ7e3t/a6v\\\n",
              "q6uL4cOHR0TE1KlTIyLi5Zdfjubm5oO+19ChQ+PMM8+MLVu2HJ4XCHCYCUCg6o0ePTpGjx79vuum\\\n",
              "T58eu3btihdeeCEmT54ca9asiREjRkRvb29MmTIlFi1aFAsXLowdO3bEmjVrYs6cORER0dvbG6VS\\\n",
              "KQ4cOBAREZs2bYqIiBdffDGmT59+0Pfp6emJF154IWbPnn3YXiPA4eQuYCCVWbNmRXt7e8ydOze+\\\n",
              "/e1vx0c+8pGYPHlyjB8/Pn75y1/G7373u5g9e3a0t7fHrFmzYtGiRXHjjTfGH//4x+jq6oorrrgi\\\n",
              "7r///qitrY133nknnnvuuXjggQdi2rRpcfLJJ8euXbvie9/7Xjz44IOxcePGOO2008r9kgEOIgCB\\\n",
              "VN56661YuHBhPPzww3HgwIEYMmRIdHd3xxlnnBF33XVXNDU1xYQJE+KjH/1o7Nq1K7q7u6NYLEah\\\n",
              "UIi9e/dGoVCI7u7uaGhoiJUrV8bs2bPj+uuvjwceeCDa2tr6gvK2226LM888s9wvF+CQBCAAQDLu\\\n",
              "AgYASEYAAgAkIwABAJIRgAAAyQhAAIBkBCAAQDICEAAgGQEIAJCMAAQASEYAAgAkIwABAJIRgAAA\\\n",
              "yQhAAIBkBCAAQDICEAAgGQEIAJCMAAQASEYAAgAkIwABAJIRgAAAyQhAAIBkBCAAQDICEAAgGQEI\\\n",
              "AJCMAAQASEYAAgAkIwABAJIRgAAAyQhAAIBkBCAAQDICEAAgmf8Lj0CXwCQIW4UAAAAASUVORK5C\\\n",
              "YII=\\\n",
              "\"\n",
              "\n",
              "\n",
              "    /* set a timeout to make sure all the above elements are created before\n",
              "       the object is initialized. */\n",
              "    setTimeout(function() {\n",
              "        anim48d26798117f448a8c6698b78e0d1ce7 = new Animation(frames, img_id, slider_id, 200.0,\n",
              "                                 loop_select_id);\n",
              "    }, 0);\n",
              "  })()\n",
              "</script>\n"
            ]
          },
          "metadata": {},
          "execution_count": 28
        }
      ],
      "source": [
        "%matplotlib inline\n",
        "num_images = len(biases_log)\n",
        "image_data = biases_log\n",
        "\n",
        "# Set up the figure and axis\n",
        "fig, ax = plt.subplots()\n",
        "im = ax.imshow(image_data[0], animated=True)\n",
        "\n",
        "def update(frame):\n",
        "    im.set_array(image_data[frame])\n",
        "    return im,\n",
        "\n",
        "ani = FuncAnimation(fig, update, frames=range(num_images), repeat=True)\n",
        "plt.close()\n",
        "# Display the animation\n",
        "HTML(ani.to_jshtml())"
      ]
    },
    {
      "cell_type": "code",
      "execution_count": 29,
      "id": "5d7c7dd4",
      "metadata": {
        "colab": {
          "base_uri": "https://localhost:8080/",
          "height": 472
        },
        "id": "5d7c7dd4",
        "outputId": "696a985d-b0d1-476e-bae3-8608640a76ee"
      },
      "outputs": [
        {
          "output_type": "display_data",
          "data": {
            "text/plain": [
              "<Figure size 640x480 with 1 Axes>"
            ],
            "image/png": "[encoded data removed]"
          },
          "metadata": {}
        }
      ],
      "source": [
        "# Plot a train evaluation\n",
        "fig2, ax = plt.subplots()\n",
        "ax.plot(timestamps,train_evaluation,color=\"red\",label=\"1- batchLen: {0}, eta: {1}, epochs: {2}\".format(mini_batches_len[0],eta[0],epochs[0]))\n",
        "ax.set(xlabel='time (s)', ylabel='score',\n",
        "       title='train evaluation')\n",
        "ax.grid()\n",
        "ax.legend(shadow=True, fontsize=\"large\")\n",
        "\n",
        "plt.show()"
      ]
    },
    {
      "cell_type": "markdown",
      "id": "50d82e28",
      "metadata": {
        "id": "50d82e28"
      },
      "source": [
        "# Tf/Keras\n",
        "A powerful framework for neural network"
      ]
    },
    {
      "cell_type": "markdown",
      "id": "3894caf2",
      "metadata": {
        "id": "3894caf2"
      },
      "source": [
        "TensorFlow is an open-source platform designed for high performance numerical computation, developed by the google brain team. It facilitates the creation of large-scale neural networks with numerous layers, thanks to its automatic differentiation capability and strong support for deep learning models.\n",
        "\n",
        "At the heart of TensorFlow's functionality is the ability to execute intensive mathematical operations on a large scale and with high efficiency. This is particularly beneficial in training complex neural networks, where such operations are widespread. TensorFlow excels in scalability and flexibility, allowing it to run on multiple CPUs and GPUs, as well as on mobile devices."
      ]
    },
    {
      "cell_type": "markdown",
      "id": "9baa189e",
      "metadata": {
        "id": "9baa189e"
      },
      "source": [
        "Keras, integrated into TensorFlow as tf.keras, provides a more accessible interface to the TensorFlow library by abstracting away much of the complexity. Keras is user-friendly and modular, making it simple for beginners to build and experiment with neural networks. Its API is designed with human beings in mind, not just machines, offering a balance between ease of use and flexibility."
      ]
    },
    {
      "cell_type": "markdown",
      "id": "b8cd1147",
      "metadata": {
        "id": "b8cd1147"
      },
      "source": [
        "In practive, __Keras provides a user-friendly framework for building neural networks, while TensorFlow offers granular control for specialized tasks within the keras Keras implementation__"
      ]
    },
    {
      "cell_type": "markdown",
      "id": "da4a504a-0e30-4fef-b9be-8258eeecfeba",
      "metadata": {
        "id": "da4a504a-0e30-4fef-b9be-8258eeecfeba"
      },
      "source": [
        "### Keras 3"
      ]
    },
    {
      "cell_type": "markdown",
      "id": "3af0a951-30e2-427e-abde-39efffccf4b3",
      "metadata": {
        "id": "3af0a951-30e2-427e-abde-39efffccf4b3"
      },
      "source": [
        "The keras 3 core, released in december 2023, effectively utilize three different backends JAX, TF and pytorch. Very powerful indeed!"
      ]
    },
    {
      "cell_type": "markdown",
      "id": "3699df79",
      "metadata": {
        "id": "3699df79"
      },
      "source": [
        "### Keras Sequential\n",
        "The Keras Sequential API is a straightforward yet powerful tool for creating neural network models in Python. It allows developers to construct models layer-by-layer in a step-by-step fashion. The Sequential model is a linear stack of layers, making it ideal for building simple, yet deep, neural networks without the complexity of graph-like architectures."
      ]
    },
    {
      "cell_type": "code",
      "execution_count": 30,
      "id": "6ca49776",
      "metadata": {
        "id": "6ca49776"
      },
      "outputs": [],
      "source": [
        "import os\n",
        "os.environ[\"KERAS-BACKEND\"] = \"torch\"\n",
        "\n",
        "import matplotlib.pyplot as plt\n",
        "from keras.models import Sequential\n",
        "from keras.layers import Dense, Flatten, Dropout\n",
        "from keras.datasets import mnist\n",
        "from keras.utils import to_categorical"
      ]
    },
    {
      "cell_type": "code",
      "execution_count": 31,
      "id": "564a1c97",
      "metadata": {
        "id": "564a1c97"
      },
      "outputs": [],
      "source": [
        "model = Sequential([\n",
        "    Flatten(input_shape=(28 *28,)),\n",
        "    Dense(784, activation = \"swish\"),\n",
        "    Dropout(0.3),\n",
        "    Dense(100, activation = \"swish\"),\n",
        "    Dense(10, activation = \"softmax\")\n",
        "])"
      ]
    },
    {
      "cell_type": "code",
      "execution_count": 32,
      "id": "4ce70108",
      "metadata": {
        "id": "4ce70108"
      },
      "outputs": [],
      "source": [
        "# Compile the model\n",
        "model.compile(optimizer='adam',\n",
        "              loss='mse',\n",
        "              metrics=['accuracy'])\n",
        "# kernel_regularizer=l2(0.01), bias_regularizer=l2(0.01)\n",
        "# How is L2 regularization added to the network?"
      ]
    },
    {
      "cell_type": "code",
      "execution_count": 33,
      "id": "838d61f1",
      "metadata": {
        "id": "838d61f1"
      },
      "outputs": [],
      "source": [
        "# Load and preprocess the data\n",
        "(train_images, train_labels), (test_images, test_labels) = mnist.load_data()\n",
        "train_images = train_images.reshape((60000, 28 * 28))\n",
        "train_images = train_images.astype('float32') / 255\n",
        "test_images = test_images.reshape((10000, 28 * 28))\n",
        "test_images = test_images.astype('float32') / 255\n",
        "train_labels = to_categorical(train_labels)\n",
        "test_labels = to_categorical(test_labels)"
      ]
    },
    {
      "cell_type": "code",
      "execution_count": null,
      "id": "60591651",
      "metadata": {
        "colab": {
          "base_uri": "https://localhost:8080/"
        },
        "id": "60591651",
        "outputId": "a8529c2a-9d54-4456-a085-cd4e86bbb3aa"
      },
      "outputs": [
        {
          "output_type": "stream",
          "name": "stdout",
          "text": [
            "Epoch 1/5\n",
            "455/469 [============================>.] - ETA: 0s - loss: 0.0137 - accuracy: 0.9091"
          ]
        }
      ],
      "source": [
        "# Train the model\n",
        "history = model.fit(train_images, train_labels, epochs=5, batch_size=128)\n",
        "\n",
        "# Evaluate the model\n",
        "test_loss, test_acc = model.evaluate(test_images, test_labels)\n",
        "print(f'Test accuracy: {test_acc}')"
      ]
    },
    {
      "cell_type": "code",
      "execution_count": null,
      "id": "3a802143-cd11-4aa1-8310-7e55700f2322",
      "metadata": {
        "id": "3a802143-cd11-4aa1-8310-7e55700f2322"
      },
      "outputs": [],
      "source": [
        "accuracy = history.history[\"accuracy\"]\n",
        "loss = history.history[\"loss\"]"
      ]
    },
    {
      "cell_type": "code",
      "execution_count": null,
      "id": "f4a50987-8cd1-4da5-884a-6f521f770124",
      "metadata": {
        "id": "f4a50987-8cd1-4da5-884a-6f521f770124"
      },
      "outputs": [],
      "source": [
        "plt.plot(loss)"
      ]
    },
    {
      "cell_type": "markdown",
      "id": "fea747cc",
      "metadata": {
        "id": "fea747cc"
      },
      "source": [
        "### How to choose an activation function?"
      ]
    },
    {
      "cell_type": "markdown",
      "id": "6aea00bb",
      "metadata": {
        "id": "6aea00bb"
      },
      "source": [
        "The choice is often quite straight forward:\n",
        " - If I have a classification problem for the last layer the standard is the softmax, returning a probability distribution of the outcomes (the sum of all the probability for all classes is 1)\n",
        " - In the case of a binary classification problem Sigmoid is the most common function, similarly to softmax\n",
        " - for deep layers, ReLu is commonly the standard, mainly because of it's effectiveness in avoiding the vanishing gradient problem. Other common issues of ReLu (dying neurons) are solved via the use of LeakyRelu, Swish-\n",
        " - tanh mean is 0, which can help stabilize the network and avoid axploding gradient, such as in recurrent neural networks.\n",
        "- The Exponential Linear Unit (ELU) activation function, on the other hand, has a small slope for negative values, which helps reduce the vanishing gradient problem, allowing the model to learn even when the neurons are in the negative saturation region."
      ]
    },
    {
      "cell_type": "code",
      "execution_count": null,
      "id": "64bcb86c",
      "metadata": {
        "id": "64bcb86c"
      },
      "outputs": [],
      "source": [
        "import numpy as np\n",
        "import matplotlib.pyplot as plt\n",
        "\n",
        "# Activation functions\n",
        "sigmoid = lambda x: 1 / (1 + np.exp(-x))\n",
        "tanh = lambda x: np.tanh(x)\n",
        "relu = lambda x: np.maximum(0, x)\n",
        "leaky_relu = lambda x, alpha=0.01: np.where(x > 0, x, x * alpha)\n",
        "swish = lambda x: x / (1 + np.exp(-x))\n",
        "elu = lambda x, alpha=1.0: np.where(x > 0, x, alpha * (np.exp(x) - 1))\n",
        "\n",
        "# Range of values\n",
        "x = np.linspace(-3, 3, 200)\n",
        "\n",
        "# Plotting\n",
        "plt.figure(figsize=(8, 6))\n",
        "\n",
        "for i, (func, title) in enumerate(zip([sigmoid, tanh, relu, leaky_relu, swish, elu],\n",
        "                                      [\"Sigmoid\", \"Tanh\", \"ReLU\", \"Leaky ReLU\", \"Swish\", \"ELU\"])):\n",
        "    plt.subplot(2, 3, i+1)\n",
        "    plt.plot(x, func(x))\n",
        "    plt.title(title)\n",
        "    plt.grid()\n",
        "    plt.ylim([-1.5, 3])\n",
        "\n",
        "plt.tight_layout()\n",
        "plt.show()"
      ]
    },
    {
      "cell_type": "markdown",
      "id": "d2a871f8",
      "metadata": {
        "id": "d2a871f8"
      },
      "source": [
        "### How to choose an optimizer?"
      ]
    },
    {
      "cell_type": "markdown",
      "id": "91e615b9",
      "metadata": {
        "id": "91e615b9"
      },
      "source": [
        "We will focus just on the default optimizers provided by Keras:\n",
        " - SGD, simplest and most efficient optimizer. In Keras also support momentum based optimization. Good for large datasets and simple optimization problems.\n",
        " - Adagrad - Adjusts the learning rate for each parameter based on the historical sum of squares of the gradients, which means it gives smaller updates for frequently occurring features, can be good for sparse data.\n",
        " - RMSProp, utilizes the moving average of squared gradients to normalize the gradient, this means it adapts the learning rate for each weight. Can be seen as an updated version of Adagrad.\n",
        " - Adam (Adaptive Momentum Estimation), Combines the benefits of AdaGrad and RMSprop, adjusting the learning rate for each weight based on the first (mean) and second (uncentered variance) moments of the gradients. Very popular due to its robust performance across a wide variety of models and problems. It’s often the first choice in many deep learning applications."
      ]
    },
    {
      "cell_type": "markdown",
      "id": "1badaacb",
      "metadata": {
        "id": "1badaacb"
      },
      "source": [
        "Usually, Adam is a good starting choice for most deep learning applications."
      ]
    },
    {
      "cell_type": "markdown",
      "id": "13099693",
      "metadata": {
        "id": "13099693"
      },
      "source": [
        "### How to choose a loss?"
      ]
    },
    {
      "cell_type": "markdown",
      "id": "6de35dd8",
      "metadata": {
        "id": "6de35dd8"
      },
      "source": [
        "The loss function is a one of the most problem-specific part of a neural network. It is often the case that a custom loss function is needed. Generally speaking, if the problem is a regression (continous output) a MAE or MSE is commonly used.\n",
        "\n",
        "If the problem is a classification (binary or multi class) a variation of categorical cross-entropy is often utilizied.\n",
        "\n",
        "In conclusion, for what concerns losses, optimizers and activations consider that some practical results are often necessary other than the more theoretical aspects."
      ]
    },
    {
      "cell_type": "markdown",
      "id": "8070f196",
      "metadata": {
        "id": "8070f196"
      },
      "source": [
        "### Keras Functional API\n",
        "The Keras Functional API is a way to create models that are more flexible than the Sequential API, which allows you to create models that cannot be defined with a linear stack of layers. With the Functional API, you can manipulate the inputs and outputs, and build models that have multiple inputs and outputs, shared layers, and even non-sequential data flows like residual connections."
      ]
    },
    {
      "cell_type": "code",
      "execution_count": null,
      "id": "41647c0a",
      "metadata": {
        "id": "41647c0a"
      },
      "outputs": [],
      "source": [
        "from keras.models import Model\n",
        "from keras.layers import Input, Dense, Flatten, Add, BatchNormalization, Dropout\n",
        "from keras.datasets import mnist\n",
        "from keras.utils import to_categorical\n",
        "\n",
        "# Load and preprocess the data (same as above)\n",
        "\n",
        "# Build the model using the Functional API\n",
        "inputs = Input(shape=(28 * 28,))\n",
        "x = Flatten()(inputs)\n",
        "x = Dense(784, activation=\"relu\")(x)\n",
        "outputs = Dense(10, activation='softmax')(x)\n",
        "\n",
        "model = Model(inputs=inputs, outputs=outputs)\n",
        "\n",
        "# Compile the model\n",
        "model.compile(optimizer='rmsprop',\n",
        "              loss='categorical_crossentropy',\n",
        "              metrics=['accuracy'])\n",
        "\n",
        "# Train the model\n",
        "model.fit(train_images, train_labels, epochs=5, batch_size=128)\n",
        "\n",
        "# Evaluate the model\n",
        "test_loss, test_acc = model.evaluate(test_images, test_labels)\n",
        "print(f'Test accuracy: {test_acc}')\n",
        "#x2 = Dense(128, activation='relu')(x)\n",
        "#x = Add()([x1,x2])\n",
        "#shared = Dense(784, activation='relu')\n",
        "#x = shared(x)\n",
        "#x = shared(x)\n",
        "#x = BatchNormalization()(x)"
      ]
    },
    {
      "cell_type": "markdown",
      "id": "78e28cc4",
      "metadata": {
        "id": "78e28cc4"
      },
      "source": [
        "Can you guess what Dropout and BatchNormalization do?"
      ]
    },
    {
      "cell_type": "code",
      "execution_count": null,
      "id": "5e81924e",
      "metadata": {
        "id": "5e81924e"
      },
      "outputs": [],
      "source": [
        "model.summary()"
      ]
    },
    {
      "cell_type": "markdown",
      "id": "83e5f928",
      "metadata": {
        "id": "83e5f928"
      },
      "source": [
        "Other model examples utilizing the Keras Functional API, multiple inputs"
      ]
    },
    {
      "cell_type": "code",
      "execution_count": null,
      "id": "b8cae0a2",
      "metadata": {
        "id": "b8cae0a2"
      },
      "outputs": [],
      "source": [
        "# Just a model example, not meant to be executed\n",
        "from keras.layers import Input, Embedding, LSTM, Dense, concatenate\n",
        "from keras.models import Model\n",
        "\n",
        "# First input: Categorical data that we will embed\n",
        "categorical_input = Input(shape=(10,), dtype='int32', name='categorical_input')\n",
        "x = Embedding(output_dim=512, input_dim=10000, input_length=10)(categorical_input)\n",
        "lstm_out = LSTM(32)(x)\n",
        "\n",
        "# Second input: Numerical data\n",
        "numerical_input = Input(shape=(5,), name='numerical_input')\n",
        "n = Dense(32, activation='relu')(numerical_input)\n",
        "\n",
        "# Merge all available features into a single large vector via concatenation\n",
        "x = concatenate([lstm_out, n])\n",
        "\n",
        "# We stack a deep densely-connected network on top\n",
        "x = Dense(64, activation='relu')(x)\n",
        "x = Dense(64, activation='relu')(x)\n",
        "\n",
        "# And finally add the main logistic regression layer\n",
        "main_output = Dense(1, activation='sigmoid', name='main_output')(x)\n",
        "\n",
        "model = Model(inputs=[categorical_input, numerical_input], outputs=[main_output])"
      ]
    },
    {
      "cell_type": "markdown",
      "id": "c182c592",
      "metadata": {
        "id": "c182c592"
      },
      "source": [
        "### Model API with custom dense layer and Custom gradient loop"
      ]
    },
    {
      "cell_type": "code",
      "execution_count": null,
      "id": "7ad85f8a",
      "metadata": {
        "id": "7ad85f8a"
      },
      "outputs": [],
      "source": [
        "import keras\n",
        "import tensorflow as tf\n",
        "from keras.models import Model\n",
        "from keras.layers import Layer, Input, Dense, Flatten, BatchNormalization\n",
        "from keras.datasets import mnist\n",
        "from keras.utils import to_categorical\n",
        "\n",
        "# Custom Layer Example\n",
        "class CustomDense(Layer):\n",
        "    def __init__(self, units, activation=None):\n",
        "        super(CustomDense, self).__init__()\n",
        "        self.units = units\n",
        "        self.activation = keras.activations.get(activation)\n",
        "\n",
        "    def build(self, input_shape):\n",
        "        self.w = self.add_weight(shape=(input_shape[-1], self.units),\n",
        "                                 initializer='random_normal',\n",
        "                                 trainable=True)\n",
        "        self.b = self.add_weight(shape=(self.units,),\n",
        "                                 initializer='zeros',\n",
        "                                 trainable=True)\n",
        "\n",
        "    def call(self, inputs):\n",
        "        return self.activation(tf.matmul(inputs, self.w) + self.b)\n",
        "\n",
        "# Load and preprocess the data (same as above)\n",
        "\n",
        "# Build the model with a custom layer\n",
        "inputs = Input(shape=(28 * 28,))\n",
        "x = Flatten()(inputs)\n",
        "x = CustomDense(512, activation='relu')(x)\n",
        "x = CustomDense(128, activation='relu')(x)\n",
        "outputs = CustomDense(10, activation='softmax')(x)\n",
        "\n",
        "model = Model(inputs=inputs, outputs=outputs)"
      ]
    },
    {
      "cell_type": "markdown",
      "id": "6f2425f9",
      "metadata": {
        "id": "6f2425f9"
      },
      "source": [
        "A Simple Gradient Tape Loop"
      ]
    },
    {
      "cell_type": "code",
      "execution_count": null,
      "id": "6241edee",
      "metadata": {
        "id": "6241edee"
      },
      "outputs": [],
      "source": [
        "# Custom training loop\n",
        "optimizer = tf.keras.optimizers.RMSprop()\n",
        "loss_fn = tf.keras.losses.CategoricalCrossentropy()\n",
        "\n",
        "# Prepare the training dataset\n",
        "batch_size = 64\n",
        "train_dataset = tf.data.Dataset.from_tensor_slices((train_images, train_labels))\n",
        "train_dataset = train_dataset.shuffle(buffer_size=1024).batch(batch_size)\n",
        "\n",
        "for epoch in range(5):\n",
        "    print(epoch)\n",
        "    for step, (x_batch_train, y_batch_train) in enumerate(train_dataset):\n",
        "        with tf.GradientTape() as tape:\n",
        "            logits = model(x_batch_train, training=True)\n"
      ]
    },
    {
      "cell_type": "markdown",
      "id": "a9616bcb",
      "metadata": {
        "id": "a9616bcb"
      },
      "source": [
        "A more advanced loop"
      ]
    },
    {
      "cell_type": "code",
      "execution_count": null,
      "id": "d882bb6e",
      "metadata": {
        "id": "d882bb6e"
      },
      "outputs": [],
      "source": [
        "# Custom training loop\n",
        "optimizer = tf.keras.optimizers.RMSprop()\n",
        "loss_fn = tf.keras.losses.CategoricalCrossentropy()\n",
        "train_acc_metric = tf.keras.metrics.CategoricalAccuracy()\n",
        "val_acc_metric = tf.keras.metrics.CategoricalAccuracy()\n",
        "\n",
        "# Prepare the training dataset\n",
        "batch_size = 64\n",
        "train_dataset = tf.data.Dataset.from_tensor_slices((train_images, train_labels))\n",
        "train_dataset = train_dataset.shuffle(buffer_size=1024).batch(batch_size)\n",
        "\n",
        "# Prepare the validation dataset\n",
        "val_dataset = tf.data.Dataset.from_tensor_slices((test_images, test_labels))\n",
        "val_dataset = val_dataset.batch(batch_size)\n",
        "\n",
        "# Training and validation loop\n",
        "epochs = 5\n",
        "for epoch in range(epochs):\n",
        "    print(\"\\nStart of epoch %d\" % (epoch,))\n",
        "\n",
        "    # Reset the metrics at the start of the next epoch\n",
        "    train_acc_metric.reset_states()\n",
        "\n",
        "    for step, (x_batch_train, y_batch_train) in enumerate(train_dataset):\n",
        "        with tf.GradientTape() as tape:\n",
        "            logits = model(x_batch_train, training=True)  # Logits for this minibatch\n",
        "            # Compute the loss value for this minibatch\n",
        "            loss_value = loss_fn(y_batch_train, logits)\n",
        "\n",
        "        # Use the gradient tape to automatically retrieve\n",
        "        # the gradients of the trainable variables with respect to the loss.\n",
        "        grads = tape.gradient(loss_value, model.trainable_weights)\n",
        "        # Run one step of gradient descent by updating\n",
        "        # the value of the variables to minimize the loss.\n",
        "        optimizer.apply_gradients(zip(grads, model.trainable_weights))\n",
        "\n",
        "        # Update training metric.\n",
        "        train_acc_metric.update_state(y_batch_train, logits)\n",
        "\n",
        "        # Log every 200 batches.\n",
        "        if step % 200 == 0:\n",
        "            print(\"Training loss (for one batch) at step %d: %.4f\" % (step, loss_value.numpy()))\n",
        "            print(\"Seen so far: %d samples\" % ((step + 1) * batch_size))\n",
        "\n",
        "    # Display metrics at the end of each epoch.\n",
        "    train_accuracy = train_acc_metric.result()\n",
        "    print(\"Training acc over epoch: %.4f\" % (float(train_accuracy),))\n",
        "\n",
        "    # Reset the validation metrics\n",
        "    val_acc_metric.reset_states()\n",
        "\n",
        "    # Perform validation at the end of each epoch\n",
        "    for x_batch_val, y_batch_val in val_dataset:\n",
        "        val_logits = model(x_batch_val, training=False)\n",
        "        # Update val metrics\n",
        "        val_acc_metric.update_state(y_batch_val, val_logits)\n",
        "    val_accuracy = val_acc_metric.result()\n",
        "    print(\"Validation acc: %.4f\" % (float(val_accuracy),))"
      ]
    },
    {
      "cell_type": "markdown",
      "id": "71a9ad79",
      "metadata": {
        "id": "71a9ad79"
      },
      "source": [
        "Some notes on Dropout and Batch Normalization"
      ]
    },
    {
      "cell_type": "markdown",
      "id": "8c5f93f9",
      "metadata": {
        "id": "8c5f93f9"
      },
      "source": [
        "__Batch normalization__ is important in neural architectures because it helps in stabilizing and accelerating the training process by normalizing the inputs of each layer. It does this by adjusting and scaling the activations, which allows each layer of a network to learn more independently of other layers.\n",
        "\n",
        "This normalization helps to combat the internal covariate shift problem, where the distribution of input data keeps changing during training, making it difficult for the network to converge. Additionally, batch normalization often allows for the use of higher learning rates and reduces the sensitivity to weight initialization, both of which can lead to faster convergence. It can also act as a form of regularization, potentially reducing the need for other regularization techniques like dropout.\n",
        "\n",
        "__Dropout__ on the other hand is a regularization technique used in neural networks to prevent overfitting. It works by randomly dropping a subset of neurons during each training iteration, which helps to break up co-adaptations where neurons rely too heavily on the presence of particular other neurons. This encourages the network to develop more robust features that are useful in conjunction with many different random subsets of the other neurons. Dropout can significantly improve the performance of neural networks on test data by promoting the creation of a more generalized model."
      ]
    },
    {
      "cell_type": "markdown",
      "id": "c6d71a70",
      "metadata": {
        "id": "c6d71a70"
      },
      "source": [
        "We can now start exploring the default library of keras examples, full of great starting point for neural projects.\n",
        "https://keras.io/examples/"
      ]
    },
    {
      "cell_type": "markdown",
      "id": "28890502",
      "metadata": {
        "id": "28890502"
      },
      "source": [
        "See you next time!"
      ]
    }
  ],
  "metadata": {
    "celltoolbar": "Slideshow",
    "kernelspec": {
      "display_name": "Python 3 (ipykernel)",
      "language": "python",
      "name": "python3"
    },
    "language_info": {
      "codemirror_mode": {
        "name": "ipython",
        "version": 3
      },
      "file_extension": ".py",
      "mimetype": "text/x-python",
      "name": "python",
      "nbconvert_exporter": "python",
      "pygments_lexer": "ipython3",
      "version": "3.11.8"
    },
    "colab": {
      "provenance": [],
      "include_colab_link": true
    }
  },
  "nbformat": 4,
  "nbformat_minor": 5
}