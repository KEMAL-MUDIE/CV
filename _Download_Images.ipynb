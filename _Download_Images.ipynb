{
  "nbformat": 4,
  "nbformat_minor": 0,
  "metadata": {
    "colab": {
      "provenance": [],
      "include_colab_link": true
    },
    "kernelspec": {
      "name": "python3",
      "display_name": "Python 3"
    },
    "language_info": {
      "name": "python"
    }
  },
  "cells": [
    {
      "cell_type": "markdown",
      "metadata": {
        "id": "view-in-github",
        "colab_type": "text"
      },
      "source": [
        "<a href=\"https://colab.research.google.com/github/KEMAL-MUDIE/CV/blob/main/Download_Images.ipynb\" target=\"_parent\"><img src=\"https://colab.research.google.com/assets/colab-badge.svg\" alt=\"Open In Colab\"/></a>"
      ]
    },
    {
      "cell_type": "code",
      "source": [
        "!pip install simple_image_download"
      ],
      "metadata": {
        "colab": {
          "base_uri": "https://localhost:8080/"
        },
        "id": "4aT_QLagko3N",
        "outputId": "abf9985c-ef84-42b1-a389-7f46461bb059"
      },
      "execution_count": 1,
      "outputs": [
        {
          "output_type": "stream",
          "name": "stdout",
          "text": [
            "Requirement already satisfied: simple_image_download in /usr/local/lib/python3.10/dist-packages (0.2)\n",
            "Requirement already satisfied: requests in /usr/local/lib/python3.10/dist-packages (from simple_image_download) (2.31.0)\n",
            "Requirement already satisfied: charset-normalizer<4,>=2 in /usr/local/lib/python3.10/dist-packages (from requests->simple_image_download) (3.3.2)\n",
            "Requirement already satisfied: idna<4,>=2.5 in /usr/local/lib/python3.10/dist-packages (from requests->simple_image_download) (3.6)\n",
            "Requirement already satisfied: urllib3<3,>=1.21.1 in /usr/local/lib/python3.10/dist-packages (from requests->simple_image_download) (2.0.7)\n",
            "Requirement already satisfied: certifi>=2017.4.17 in /usr/local/lib/python3.10/dist-packages (from requests->simple_image_download) (2023.11.17)\n"
          ]
        }
      ]
    },
    {
      "cell_type": "code",
      "source": [
        "from google.colab import drive\n",
        "drive.mount('/content/drive')"
      ],
      "metadata": {
        "colab": {
          "base_uri": "https://localhost:8080/"
        },
        "id": "ZnasDoxXzcxp",
        "outputId": "e909f2f1-9816-47e4-8611-564da0653887"
      },
      "execution_count": 2,
      "outputs": [
        {
          "output_type": "stream",
          "name": "stdout",
          "text": [
            "Mounted at /content/drive\n"
          ]
        }
      ]
    },
    {
      "cell_type": "code",
      "source": [
        "import os\n",
        "# from google.colab import drive\n",
        "# drive.mount('/gdrive')\n",
        "project_folder = \"/content/drive/My Drive/Detectron2/Chapter3\"\n",
        "os.makedirs(project_folder, exist_ok=True)"
      ],
      "metadata": {
        "id": "1QEXNbtpcOg_"
      },
      "execution_count": 3,
      "outputs": []
    },
    {
      "cell_type": "code",
      "source": [
        "cd \"/content/drive/My Drive/Detectron2/Chapter3\""
      ],
      "metadata": {
        "id": "QXXtGhNacOg_",
        "colab": {
          "base_uri": "https://localhost:8080/"
        },
        "outputId": "bd390551-934f-4d98-fc2a-fbabadba4cd4"
      },
      "execution_count": 4,
      "outputs": [
        {
          "output_type": "stream",
          "name": "stdout",
          "text": [
            "/content/drive/My Drive/Detectron2/Chapter3\n"
          ]
        }
      ]
    },
    {
      "cell_type": "code",
      "source": [
        "pwd()"
      ],
      "metadata": {
        "id": "3YbOqKxgdCxR",
        "colab": {
          "base_uri": "https://localhost:8080/",
          "height": 35
        },
        "outputId": "82b997a4-8230-4202-b0bc-f999f588f78f"
      },
      "execution_count": 5,
      "outputs": [
        {
          "output_type": "execute_result",
          "data": {
            "text/plain": [
              "'/content/drive/MyDrive/Detectron2/Chapter3'"
            ],
            "application/vnd.google.colaboratory.intrinsic+json": {
              "type": "string"
            }
          },
          "metadata": {},
          "execution_count": 5
        }
      ]
    },
    {
      "cell_type": "code",
      "source": [
        "from simple_image_download.simple_image_download import simple_image_download as Downloader\n",
        "from tqdm import tqdm\n",
        "def _download(keyword, limit):\n",
        "  downloader = Downloader()\n",
        "  # download images\n",
        "  downloader.download(keywords=keyword, limit=limit)\n",
        "  # return the urls\n",
        "  urls = downloader.urls(keywords=keyword, limit=limit)\n",
        "  return urls\n",
        "\n",
        "def download(keywords, limit):\n",
        "  for keyword in tqdm(keywords):\n",
        "    urls = _download(keyword=keyword, limit=limit)\n",
        "    with open(f\"simple_images/{keyword}.txt\", \"w\") as f:\n",
        "      f.writelines('\\n'.join(urls))\n",
        "\n"
      ],
      "metadata": {
        "id": "mDHvL7mHp7rK"
      },
      "execution_count": 6,
      "outputs": []
    },
    {
      "cell_type": "code",
      "source": [
        "download(keywords=[\"hair follicile individual hair\", \"hair follicile dataset\"], limit=10)"
      ],
      "metadata": {
        "id": "dO87EqwtqC4p",
        "colab": {
          "base_uri": "https://localhost:8080/"
        },
        "outputId": "a4e1683d-6d9d-429c-a9f0-b1b3b9b2cd70"
      },
      "execution_count": 9,
      "outputs": [
        {
          "output_type": "stream",
          "name": "stderr",
          "text": [
            "100%|██████████| 2/2 [00:08<00:00,  4.14s/it]\n"
          ]
        }
      ]
    },
    {
      "cell_type": "code",
      "source": [],
      "metadata": {
        "id": "Tip93dUZqTIv"
      },
      "execution_count": null,
      "outputs": []
    }
  ]
}
